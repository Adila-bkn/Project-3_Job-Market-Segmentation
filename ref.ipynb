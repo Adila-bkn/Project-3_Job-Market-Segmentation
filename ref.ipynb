{
 "cells": [
  {
   "cell_type": "code",
   "execution_count": 3,
   "metadata": {},
   "outputs": [
    {
     "data": {
      "text/plain": [
       "Renderers configuration\n",
       "-----------------------\n",
       "    Default renderer: 'plotly_mimetype+notebook'\n",
       "    Available renderers:\n",
       "        ['plotly_mimetype', 'jupyterlab', 'nteract', 'vscode',\n",
       "         'notebook', 'notebook_connected', 'kaggle', 'azure', 'colab',\n",
       "         'cocalc', 'databricks', 'json', 'png', 'jpeg', 'jpg', 'svg',\n",
       "         'pdf', 'browser', 'firefox', 'chrome', 'chromium', 'iframe',\n",
       "         'iframe_connected', 'sphinx_gallery', 'sphinx_gallery_png']"
      ]
     },
     "execution_count": 3,
     "metadata": {},
     "output_type": "execute_result"
    }
   ],
   "source": [
    "import numpy as np\n",
    "import pandas as pd\n",
    "import matplotlib.pyplot as plt\n",
    "import seaborn as sns\n",
    "import plotly.graph_objs as go\n",
    "from wordcloud import WordCloud\n",
    "import nltk\n",
    "from nltk.tokenize import word_tokenize\n",
    "from nltk.stem import WordNetLemmatizer\n",
    "from matplotlib import colors \n",
    "import re\n",
    "import string\n",
    "import plotly.io as pio\n",
    "pio.renderers\n"
   ]
  },
  {
   "cell_type": "code",
   "execution_count": 4,
   "metadata": {},
   "outputs": [],
   "source": [
    "df= pd.read_csv('DataScience_jobs.csv')"
   ]
  },
  {
   "cell_type": "code",
   "execution_count": 5,
   "metadata": {},
   "outputs": [
    {
     "data": {
      "text/html": [
       "<div>\n",
       "<style scoped>\n",
       "    .dataframe tbody tr th:only-of-type {\n",
       "        vertical-align: middle;\n",
       "    }\n",
       "\n",
       "    .dataframe tbody tr th {\n",
       "        vertical-align: top;\n",
       "    }\n",
       "\n",
       "    .dataframe thead th {\n",
       "        text-align: right;\n",
       "    }\n",
       "</style>\n",
       "<table border=\"1\" class=\"dataframe\">\n",
       "  <thead>\n",
       "    <tr style=\"text-align: right;\">\n",
       "      <th></th>\n",
       "      <th>roles</th>\n",
       "      <th>companies</th>\n",
       "      <th>locations</th>\n",
       "      <th>experience</th>\n",
       "      <th>skills</th>\n",
       "    </tr>\n",
       "  </thead>\n",
       "  <tbody>\n",
       "    <tr>\n",
       "      <th>0</th>\n",
       "      <td>Data Scientist/ Academic Counselor</td>\n",
       "      <td>GREAT LAKES E-LEARNING SERVICES PRIVATE LIMITED</td>\n",
       "      <td>Chennai, Bengaluru</td>\n",
       "      <td>2-7 Yrs</td>\n",
       "      <td>Data Science\\nArtificial Intelligence\\ntrainin...</td>\n",
       "    </tr>\n",
       "    <tr>\n",
       "      <th>1</th>\n",
       "      <td>Data Scientist</td>\n",
       "      <td>Shell India Markets Private Limited</td>\n",
       "      <td>Chennai</td>\n",
       "      <td>5-7 Yrs</td>\n",
       "      <td>Data Science\\nMultivariate Analysis\\nFactor An...</td>\n",
       "    </tr>\n",
       "    <tr>\n",
       "      <th>2</th>\n",
       "      <td>Senior Data Scientist</td>\n",
       "      <td>Decision Point</td>\n",
       "      <td>Gurgaon</td>\n",
       "      <td>3-5 Yrs</td>\n",
       "      <td>Azure\\ntimeseries forecasting\\nMachine Learnin...</td>\n",
       "    </tr>\n",
       "    <tr>\n",
       "      <th>3</th>\n",
       "      <td>Data Scientist - Machine Learning &amp; Statistica...</td>\n",
       "      <td>Talent Stock Solutions</td>\n",
       "      <td>Delhi</td>\n",
       "      <td>2-5 Yrs</td>\n",
       "      <td>Data Science\\nR\\nC\\nData Scientist\\nStatistica...</td>\n",
       "    </tr>\n",
       "    <tr>\n",
       "      <th>4</th>\n",
       "      <td>Data Scientist</td>\n",
       "      <td>Zen3Tech (A Tech Mahindra Company)</td>\n",
       "      <td>Hyderabad</td>\n",
       "      <td>3-8 Yrs</td>\n",
       "      <td>R\\nA/B Testing\\nData Manipulation\\nMachine Lea...</td>\n",
       "    </tr>\n",
       "    <tr>\n",
       "      <th>5</th>\n",
       "      <td>Data Scientist</td>\n",
       "      <td>Extentia Information Technology Pvt Ltd</td>\n",
       "      <td>Pune</td>\n",
       "      <td>0-2 Yrs</td>\n",
       "      <td>Machine Learning\\nPython</td>\n",
       "    </tr>\n",
       "    <tr>\n",
       "      <th>6</th>\n",
       "      <td>Data Scientist</td>\n",
       "      <td>KONE Elevator India Pvt. Ltd</td>\n",
       "      <td>Pune</td>\n",
       "      <td>3-5 Yrs</td>\n",
       "      <td>predictive algorithms\\nK-Means\\nGithub\\nGenera...</td>\n",
       "    </tr>\n",
       "    <tr>\n",
       "      <th>7</th>\n",
       "      <td>Data Scientist | Integreon Managed Solutions |...</td>\n",
       "      <td>INTEGREON MANAGED SOLUTIONS INDIA PVT LIMITED</td>\n",
       "      <td>Mumbai</td>\n",
       "      <td>2-7 Yrs</td>\n",
       "      <td>analytics\\npython\\ntableau\\nregression\\npredic...</td>\n",
       "    </tr>\n",
       "    <tr>\n",
       "      <th>8</th>\n",
       "      <td>Data Scientist</td>\n",
       "      <td>Bigshyft Hiring for Indus OS</td>\n",
       "      <td>Mumbai</td>\n",
       "      <td>2-5 Yrs</td>\n",
       "      <td>cassandra\\nScala\\nHadoop\\nSpark\\nPython</td>\n",
       "    </tr>\n",
       "    <tr>\n",
       "      <th>9</th>\n",
       "      <td>Senior Data Scientist (NLP)</td>\n",
       "      <td>Visible Alpha Solutions India Pvt. Ltd.</td>\n",
       "      <td>Mumbai</td>\n",
       "      <td>5-7 Yrs</td>\n",
       "      <td>Java\\nR\\nNLP\\nAlgorithms\\nLinux\\nWeb Technolog...</td>\n",
       "    </tr>\n",
       "  </tbody>\n",
       "</table>\n",
       "</div>"
      ],
      "text/plain": [
       "                                               roles  \\\n",
       "0                 Data Scientist/ Academic Counselor   \n",
       "1                                     Data Scientist   \n",
       "2                              Senior Data Scientist   \n",
       "3  Data Scientist - Machine Learning & Statistica...   \n",
       "4                                     Data Scientist   \n",
       "5                                     Data Scientist   \n",
       "6                                     Data Scientist   \n",
       "7  Data Scientist | Integreon Managed Solutions |...   \n",
       "8                                     Data Scientist   \n",
       "9                        Senior Data Scientist (NLP)   \n",
       "\n",
       "                                         companies           locations  \\\n",
       "0  GREAT LAKES E-LEARNING SERVICES PRIVATE LIMITED  Chennai, Bengaluru   \n",
       "1              Shell India Markets Private Limited             Chennai   \n",
       "2                                   Decision Point             Gurgaon   \n",
       "3                           Talent Stock Solutions               Delhi   \n",
       "4               Zen3Tech (A Tech Mahindra Company)           Hyderabad   \n",
       "5          Extentia Information Technology Pvt Ltd                Pune   \n",
       "6                     KONE Elevator India Pvt. Ltd                Pune   \n",
       "7    INTEGREON MANAGED SOLUTIONS INDIA PVT LIMITED              Mumbai   \n",
       "8                     Bigshyft Hiring for Indus OS              Mumbai   \n",
       "9          Visible Alpha Solutions India Pvt. Ltd.              Mumbai   \n",
       "\n",
       "  experience                                             skills  \n",
       "0    2-7 Yrs  Data Science\\nArtificial Intelligence\\ntrainin...  \n",
       "1    5-7 Yrs  Data Science\\nMultivariate Analysis\\nFactor An...  \n",
       "2    3-5 Yrs  Azure\\ntimeseries forecasting\\nMachine Learnin...  \n",
       "3    2-5 Yrs  Data Science\\nR\\nC\\nData Scientist\\nStatistica...  \n",
       "4    3-8 Yrs  R\\nA/B Testing\\nData Manipulation\\nMachine Lea...  \n",
       "5    0-2 Yrs                           Machine Learning\\nPython  \n",
       "6    3-5 Yrs  predictive algorithms\\nK-Means\\nGithub\\nGenera...  \n",
       "7    2-7 Yrs  analytics\\npython\\ntableau\\nregression\\npredic...  \n",
       "8    2-5 Yrs            cassandra\\nScala\\nHadoop\\nSpark\\nPython  \n",
       "9    5-7 Yrs  Java\\nR\\nNLP\\nAlgorithms\\nLinux\\nWeb Technolog...  "
      ]
     },
     "execution_count": 5,
     "metadata": {},
     "output_type": "execute_result"
    }
   ],
   "source": [
    "df.drop(df.columns[[0]],axis=1,inplace=True)\n",
    "df.head(10)"
   ]
  },
  {
   "cell_type": "code",
   "execution_count": 6,
   "metadata": {},
   "outputs": [],
   "source": [
    "df = df.dropna()"
   ]
  },
  {
   "cell_type": "code",
   "execution_count": 7,
   "metadata": {},
   "outputs": [
    {
     "data": {
      "image/svg+xml": [
       "<svg class=\"main-svg\" xmlns=\"http://www.w3.org/2000/svg\" xmlns:xlink=\"http://www.w3.org/1999/xlink\" width=\"700\" height=\"500\" style=\"\" viewBox=\"0 0 700 500\"><rect x=\"0\" y=\"0\" width=\"700\" height=\"500\" style=\"fill: rgb(255, 255, 255); fill-opacity: 1;\"/><defs id=\"defs-8fa3a0\"><g class=\"clips\"><clipPath id=\"clip8fa3a0xyplot\" class=\"plotclip\"><rect width=\"64\" height=\"320\"/></clipPath><clipPath class=\"axesclip\" id=\"clip8fa3a0x\"><rect x=\"364\" y=\"0\" width=\"64\" height=\"500\"/></clipPath><clipPath class=\"axesclip\" id=\"clip8fa3a0y\"><rect x=\"0\" y=\"100\" width=\"700\" height=\"320\"/></clipPath><clipPath class=\"axesclip\" id=\"clip8fa3a0xy\"><rect x=\"364\" y=\"100\" width=\"64\" height=\"320\"/></clipPath></g><g class=\"gradients\"/><g class=\"patterns\"/></defs><g class=\"bglayer\"><rect class=\"bg\" x=\"364\" y=\"100\" width=\"64\" height=\"320\" style=\"fill: rgb(229, 236, 246); fill-opacity: 1; stroke-width: 0;\"/></g><g class=\"layer-below\"><g class=\"imagelayer\"/><g class=\"shapelayer\"/></g><g class=\"cartesianlayer\"><g class=\"subplot xy\"><g class=\"layer-subplot\"><g class=\"shapelayer\"/><g class=\"imagelayer\"/></g><g class=\"gridlayer\"><g class=\"x\"><path class=\"xgrid crisp\" transform=\"translate(370.41,0)\" d=\"M0,100v320\" style=\"stroke: rgb(255, 255, 255); stroke-opacity: 1; stroke-width: 1px;\"/><path class=\"xgrid crisp\" transform=\"translate(384.71,0)\" d=\"M0,100v320\" style=\"stroke: rgb(255, 255, 255); stroke-opacity: 1; stroke-width: 1px;\"/><path class=\"xgrid crisp\" transform=\"translate(413.29,0)\" d=\"M0,100v320\" style=\"stroke: rgb(255, 255, 255); stroke-opacity: 1; stroke-width: 1px;\"/></g><g class=\"y\"/></g><g class=\"zerolinelayer\"><path class=\"xzl zl crisp\" transform=\"translate(399,0)\" d=\"M0,100v320\" style=\"stroke: rgb(255, 255, 255); stroke-opacity: 1; stroke-width: 2px;\"/></g><path class=\"xlines-below\"/><path class=\"ylines-below\"/><g class=\"overlines-below\"/><g class=\"xaxislayer-below\"/><g class=\"yaxislayer-below\"/><g class=\"overaxes-below\"/><g class=\"plot\" transform=\"translate(364,100)\" clip-path=\"url(#clip8fa3a0xyplot)\"><g class=\"barlayer mlayer\"><g class=\"trace bars\" style=\"opacity: 1;\"><g class=\"points\"><g class=\"point\"><path d=\"M35,318.93V310.4H35.5V318.93Z\" style=\"vector-effect: non-scaling-stroke; opacity: 1; stroke-width: 0.5px; fill: rgb(240, 128, 128); fill-opacity: 1; stroke: rgb(229, 236, 246); stroke-opacity: 1;\"/></g><g class=\"point\"><path d=\"M35,308.27V299.73H35.57V308.27Z\" style=\"vector-effect: non-scaling-stroke; opacity: 1; stroke-width: 0.5px; fill: rgb(240, 128, 128); fill-opacity: 1; stroke: rgb(229, 236, 246); stroke-opacity: 1;\"/></g><g class=\"point\"><path d=\"M35,297.6V289.07H35.57V297.6Z\" style=\"vector-effect: non-scaling-stroke; opacity: 1; stroke-width: 0.5px; fill: rgb(240, 128, 128); fill-opacity: 1; stroke: rgb(229, 236, 246); stroke-opacity: 1;\"/></g><g class=\"point\"><path d=\"M35,286.93V278.4H35.57V286.93Z\" style=\"vector-effect: non-scaling-stroke; opacity: 1; stroke-width: 0.5px; fill: rgb(240, 128, 128); fill-opacity: 1; stroke: rgb(229, 236, 246); stroke-opacity: 1;\"/></g><g class=\"point\"><path d=\"M35,276.27V267.73H35.64V276.27Z\" style=\"vector-effect: non-scaling-stroke; opacity: 1; stroke-width: 0.5px; fill: rgb(240, 128, 128); fill-opacity: 1; stroke: rgb(229, 236, 246); stroke-opacity: 1;\"/></g><g class=\"point\"><path d=\"M35,265.6V257.07H35.86V265.6Z\" style=\"vector-effect: non-scaling-stroke; opacity: 1; stroke-width: 0.5px; fill: rgb(240, 128, 128); fill-opacity: 1; stroke: rgb(229, 236, 246); stroke-opacity: 1;\"/></g><g class=\"point\"><path d=\"M35,254.93V246.4H35.93V254.93Z\" style=\"vector-effect: non-scaling-stroke; opacity: 1; stroke-width: 0.5px; fill: rgb(240, 128, 128); fill-opacity: 1; stroke: rgb(229, 236, 246); stroke-opacity: 1;\"/></g><g class=\"point\"><path d=\"M35,244.27V235.73H37V244.27Z\" style=\"vector-effect: non-scaling-stroke; opacity: 1; stroke-width: 0.5px; fill: rgb(240, 128, 128); fill-opacity: 1; stroke: rgb(229, 236, 246); stroke-opacity: 1;\"/></g><g class=\"point\"><path d=\"M35,233.6V225.07H39.57V233.6Z\" style=\"vector-effect: non-scaling-stroke; opacity: 1; stroke-width: 0.5px; fill: rgb(240, 128, 128); fill-opacity: 1; stroke: rgb(229, 236, 246); stroke-opacity: 1;\"/></g><g class=\"point\"><path d=\"M35,222.93V214.4H59.51V222.93Z\" style=\"vector-effect: non-scaling-stroke; opacity: 1; stroke-width: 0.5px; fill: rgb(240, 128, 128); fill-opacity: 1; stroke: rgb(229, 236, 246); stroke-opacity: 1;\"/></g></g></g><g class=\"trace bars\" style=\"opacity: 1;\"><g class=\"points\"><g class=\"point\"><path d=\"M35,212.27V203.73H36.14V212.27Z\" style=\"vector-effect: non-scaling-stroke; opacity: 1; stroke-width: 0.5px; fill: rgb(95, 158, 160); fill-opacity: 1; stroke: rgb(229, 236, 246); stroke-opacity: 1;\"/></g><g class=\"point\"><path d=\"M35,201.6V193.07H36.36V201.6Z\" style=\"vector-effect: non-scaling-stroke; opacity: 1; stroke-width: 0.5px; fill: rgb(95, 158, 160); fill-opacity: 1; stroke: rgb(229, 236, 246); stroke-opacity: 1;\"/></g><g class=\"point\"><path d=\"M35,190.93V182.4H37V190.93Z\" style=\"vector-effect: non-scaling-stroke; opacity: 1; stroke-width: 0.5px; fill: rgb(95, 158, 160); fill-opacity: 1; stroke: rgb(229, 236, 246); stroke-opacity: 1;\"/></g><g class=\"point\"><path d=\"M35,180.27V171.73H38.79V180.27Z\" style=\"vector-effect: non-scaling-stroke; opacity: 1; stroke-width: 0.5px; fill: rgb(95, 158, 160); fill-opacity: 1; stroke: rgb(229, 236, 246); stroke-opacity: 1;\"/></g><g class=\"point\"><path d=\"M35,169.6V161.07H38.93V169.6Z\" style=\"vector-effect: non-scaling-stroke; opacity: 1; stroke-width: 0.5px; fill: rgb(95, 158, 160); fill-opacity: 1; stroke: rgb(229, 236, 246); stroke-opacity: 1;\"/></g><g class=\"point\"><path d=\"M35,158.93V150.4H40.57V158.93Z\" style=\"vector-effect: non-scaling-stroke; opacity: 1; stroke-width: 0.5px; fill: rgb(95, 158, 160); fill-opacity: 1; stroke: rgb(229, 236, 246); stroke-opacity: 1;\"/></g><g class=\"point\"><path d=\"M35,148.27V139.73H42.22V148.27Z\" style=\"vector-effect: non-scaling-stroke; opacity: 1; stroke-width: 0.5px; fill: rgb(95, 158, 160); fill-opacity: 1; stroke: rgb(229, 236, 246); stroke-opacity: 1;\"/></g><g class=\"point\"><path d=\"M35,137.6V129.07H42.79V137.6Z\" style=\"vector-effect: non-scaling-stroke; opacity: 1; stroke-width: 0.5px; fill: rgb(95, 158, 160); fill-opacity: 1; stroke: rgb(229, 236, 246); stroke-opacity: 1;\"/></g><g class=\"point\"><path d=\"M35,126.93V118.4H44.58V126.93Z\" style=\"vector-effect: non-scaling-stroke; opacity: 1; stroke-width: 0.5px; fill: rgb(95, 158, 160); fill-opacity: 1; stroke: rgb(229, 236, 246); stroke-opacity: 1;\"/></g><g class=\"point\"><path d=\"M35,116.27V107.73H60.8V116.27Z\" style=\"vector-effect: non-scaling-stroke; opacity: 1; stroke-width: 0.5px; fill: rgb(95, 158, 160); fill-opacity: 1; stroke: rgb(229, 236, 246); stroke-opacity: 1;\"/></g></g></g><g class=\"trace bars\" style=\"opacity: 1;\"><g class=\"points\"><g class=\"point\"><path d=\"M35,105.6V97.07H35.64V105.6Z\" style=\"vector-effect: non-scaling-stroke; opacity: 1; stroke-width: 0.5px; fill: rgb(70, 130, 180); fill-opacity: 1; stroke: rgb(229, 236, 246); stroke-opacity: 1;\"/></g><g class=\"point\"><path d=\"M35,94.93V86.4H35.64V94.93Z\" style=\"vector-effect: non-scaling-stroke; opacity: 1; stroke-width: 0.5px; fill: rgb(70, 130, 180); fill-opacity: 1; stroke: rgb(229, 236, 246); stroke-opacity: 1;\"/></g><g class=\"point\"><path d=\"M35,84.27V75.73H35.64V84.27Z\" style=\"vector-effect: non-scaling-stroke; opacity: 1; stroke-width: 0.5px; fill: rgb(70, 130, 180); fill-opacity: 1; stroke: rgb(229, 236, 246); stroke-opacity: 1;\"/></g><g class=\"point\"><path d=\"M35,73.6V65.07H35.64V73.6Z\" style=\"vector-effect: non-scaling-stroke; opacity: 1; stroke-width: 0.5px; fill: rgb(70, 130, 180); fill-opacity: 1; stroke: rgb(229, 236, 246); stroke-opacity: 1;\"/></g><g class=\"point\"><path d=\"M35,62.93V54.4H35.64V62.93Z\" style=\"vector-effect: non-scaling-stroke; opacity: 1; stroke-width: 0.5px; fill: rgb(70, 130, 180); fill-opacity: 1; stroke: rgb(229, 236, 246); stroke-opacity: 1;\"/></g><g class=\"point\"><path d=\"M35,52.27V43.73H35.71V52.27Z\" style=\"vector-effect: non-scaling-stroke; opacity: 1; stroke-width: 0.5px; fill: rgb(70, 130, 180); fill-opacity: 1; stroke: rgb(229, 236, 246); stroke-opacity: 1;\"/></g><g class=\"point\"><path d=\"M35,41.6V33.07H35.79V41.6Z\" style=\"vector-effect: non-scaling-stroke; opacity: 1; stroke-width: 0.5px; fill: rgb(70, 130, 180); fill-opacity: 1; stroke: rgb(229, 236, 246); stroke-opacity: 1;\"/></g><g class=\"point\"><path d=\"M35,30.93V22.4H36.14V30.93Z\" style=\"vector-effect: non-scaling-stroke; opacity: 1; stroke-width: 0.5px; fill: rgb(70, 130, 180); fill-opacity: 1; stroke: rgb(229, 236, 246); stroke-opacity: 1;\"/></g><g class=\"point\"><path d=\"M35,20.27V11.73H37.14V20.27Z\" style=\"vector-effect: non-scaling-stroke; opacity: 1; stroke-width: 0.5px; fill: rgb(70, 130, 180); fill-opacity: 1; stroke: rgb(229, 236, 246); stroke-opacity: 1;\"/></g><g class=\"point\"><path d=\"M35,9.6V1.07H39.79V9.6Z\" style=\"vector-effect: non-scaling-stroke; opacity: 1; stroke-width: 0.5px; fill: rgb(70, 130, 180); fill-opacity: 1; stroke: rgb(229, 236, 246); stroke-opacity: 1;\"/></g></g></g></g></g><g class=\"overplot\"/><path class=\"xlines-above crisp\" d=\"M0,0\" style=\"fill: none;\"/><path class=\"ylines-above crisp\" d=\"M0,0\" style=\"fill: none;\"/><g class=\"overlines-above\"/><g class=\"xaxislayer-above\"><g class=\"xtick\"><text text-anchor=\"start\" x=\"0\" y=\"433\" transform=\"translate(370.41,0) rotate(90,0,427)\" style=\"font-family: 'Open Sans', verdana, arial, sans-serif; font-size: 12px; fill: rgb(42, 63, 95); fill-opacity: 1; white-space: pre; opacity: 1;\">−400</text></g><g class=\"xtick\"><text text-anchor=\"start\" x=\"0\" y=\"433\" style=\"font-family: 'Open Sans', verdana, arial, sans-serif; font-size: 12px; fill: rgb(42, 63, 95); fill-opacity: 1; white-space: pre; opacity: 1;\" transform=\"translate(384.71,0) rotate(90,0,427)\">−200</text></g><g class=\"xtick\"><text text-anchor=\"start\" x=\"0\" y=\"433\" style=\"font-family: 'Open Sans', verdana, arial, sans-serif; font-size: 12px; fill: rgb(42, 63, 95); fill-opacity: 1; white-space: pre; opacity: 1;\" transform=\"translate(399,0) rotate(90,0,427)\">0</text></g><g class=\"xtick\"><text text-anchor=\"start\" x=\"0\" y=\"433\" style=\"font-family: 'Open Sans', verdana, arial, sans-serif; font-size: 12px; fill: rgb(42, 63, 95); fill-opacity: 1; white-space: pre; opacity: 1;\" transform=\"translate(413.29,0) rotate(90,0,427)\">200</text></g><g class=\"xtick\"><text text-anchor=\"start\" x=\"0\" y=\"433\" style=\"font-family: 'Open Sans', verdana, arial, sans-serif; font-size: 12px; fill: rgb(42, 63, 95); fill-opacity: 1; white-space: pre; opacity: 1;\" transform=\"translate(427.59000000000003,0) rotate(90,0,427)\">400</text></g></g><g class=\"yaxislayer-above\"><g class=\"ytick\"><text text-anchor=\"end\" x=\"363\" y=\"4.199999999999999\" transform=\"translate(0,414.67)\" style=\"font-family: 'Open Sans', verdana, arial, sans-serif; font-size: 12px; fill: rgb(42, 63, 95); fill-opacity: 1; white-space: pre; opacity: 1;\">SENIOR DATA SCIENTIST AND MACHINE LEARNING ENGINEER</text></g><g class=\"ytick\"><text text-anchor=\"end\" x=\"363\" y=\"4.199999999999999\" transform=\"translate(0,393.33)\" style=\"font-family: 'Open Sans', verdana, arial, sans-serif; font-size: 12px; fill: rgb(42, 63, 95); fill-opacity: 1; white-space: pre; opacity: 1;\">Data Engineer</text></g><g class=\"ytick\"><text text-anchor=\"end\" x=\"363\" y=\"4.199999999999999\" transform=\"translate(0,372)\" style=\"font-family: 'Open Sans', verdana, arial, sans-serif; font-size: 12px; fill: rgb(42, 63, 95); fill-opacity: 1; white-space: pre; opacity: 1;\">DATA SCIENTIST</text></g><g class=\"ytick\"><text text-anchor=\"end\" x=\"363\" y=\"4.199999999999999\" transform=\"translate(0,350.66999999999996)\" style=\"font-family: 'Open Sans', verdana, arial, sans-serif; font-size: 12px; fill: rgb(42, 63, 95); fill-opacity: 1; white-space: pre; opacity: 1;\">Full Stack Data Scientist</text></g><g class=\"ytick\"><text text-anchor=\"end\" x=\"363\" y=\"4.199999999999999\" transform=\"translate(0,329.33000000000004)\" style=\"font-family: 'Open Sans', verdana, arial, sans-serif; font-size: 12px; fill: rgb(42, 63, 95); fill-opacity: 1; white-space: pre; opacity: 1;\">Senior Data Scientist</text></g><g class=\"ytick\"><text text-anchor=\"end\" x=\"363\" y=\"4.199999999999999\" transform=\"translate(0,308)\" style=\"font-family: 'Open Sans', verdana, arial, sans-serif; font-size: 12px; fill: rgb(42, 63, 95); fill-opacity: 1; white-space: pre; opacity: 1;\">India</text></g><g class=\"ytick\"><text text-anchor=\"end\" x=\"363\" y=\"4.199999999999999\" transform=\"translate(0,286.66999999999996)\" style=\"font-family: 'Open Sans', verdana, arial, sans-serif; font-size: 12px; fill: rgb(42, 63, 95); fill-opacity: 1; white-space: pre; opacity: 1;\">Delhi</text></g><g class=\"ytick\"><text text-anchor=\"end\" x=\"363\" y=\"4.199999999999999\" transform=\"translate(0,265.33000000000004)\" style=\"font-family: 'Open Sans', verdana, arial, sans-serif; font-size: 12px; fill: rgb(42, 63, 95); fill-opacity: 1; white-space: pre; opacity: 1;\">Noida</text></g><g class=\"ytick\"><text text-anchor=\"end\" x=\"363\" y=\"4.199999999999999\" transform=\"translate(0,244)\" style=\"font-family: 'Open Sans', verdana, arial, sans-serif; font-size: 12px; fill: rgb(42, 63, 95); fill-opacity: 1; white-space: pre; opacity: 1;\">Hyderabad</text></g><g class=\"ytick\"><text text-anchor=\"end\" x=\"363\" y=\"4.199999999999999\" transform=\"translate(0,222.67000000000002)\" style=\"font-family: 'Open Sans', verdana, arial, sans-serif; font-size: 12px; fill: rgb(42, 63, 95); fill-opacity: 1; white-space: pre; opacity: 1;\">Mumbai</text></g><g class=\"ytick\"><text text-anchor=\"end\" x=\"363\" y=\"4.199999999999999\" transform=\"translate(0,201.32999999999998)\" style=\"font-family: 'Open Sans', verdana, arial, sans-serif; font-size: 12px; fill: rgb(42, 63, 95); fill-opacity: 1; white-space: pre; opacity: 1;\">Hyrefox</text></g><g class=\"ytick\"><text text-anchor=\"end\" x=\"363\" y=\"4.199999999999999\" transform=\"translate(0,180)\" style=\"font-family: 'Open Sans', verdana, arial, sans-serif; font-size: 12px; fill: rgb(42, 63, 95); fill-opacity: 1; white-space: pre; opacity: 1;\">Maven Workforce Pvt. Ltd</text></g><g class=\"ytick\"><text text-anchor=\"end\" x=\"363\" y=\"4.199999999999999\" transform=\"translate(0,158.67000000000002)\" style=\"font-family: 'Open Sans', verdana, arial, sans-serif; font-size: 12px; fill: rgb(42, 63, 95); fill-opacity: 1; white-space: pre; opacity: 1;\">Wolters Kluwer India Pvt Ltd</text></g><g class=\"ytick\"><text text-anchor=\"end\" x=\"363\" y=\"4.199999999999999\" transform=\"translate(0,137.32999999999998)\" style=\"font-family: 'Open Sans', verdana, arial, sans-serif; font-size: 12px; fill: rgb(42, 63, 95); fill-opacity: 1; white-space: pre; opacity: 1;\">Career Maker</text></g><g class=\"ytick\"><text text-anchor=\"end\" x=\"363\" y=\"4.199999999999999\" transform=\"translate(0,116)\" style=\"font-family: 'Open Sans', verdana, arial, sans-serif; font-size: 12px; fill: rgb(42, 63, 95); fill-opacity: 1; white-space: pre; opacity: 1;\">Analytics Vidhya Educon Pvt. Ltd</text></g></g><g class=\"overaxes-above\"/></g></g><g class=\"polarlayer\"/><g class=\"smithlayer\"/><g class=\"ternarylayer\"/><g class=\"geolayer\"/><g class=\"funnelarealayer\"/><g class=\"pielayer\"/><g class=\"iciclelayer\"/><g class=\"treemaplayer\"/><g class=\"sunburstlayer\"/><g class=\"glimages\"/><defs id=\"topdefs-8fa3a0\"><g class=\"clips\"/><clipPath id=\"legend8fa3a0\"><rect width=\"103\" height=\"67\" x=\"0\" y=\"0\"/></clipPath></defs><g class=\"layer-above\"><g class=\"imagelayer\"/><g class=\"shapelayer\"/></g><g class=\"infolayer\"><g class=\"legend\" pointer-events=\"all\" transform=\"translate(429.28,100)\"><rect class=\"bg\" shape-rendering=\"crispEdges\" style=\"stroke: rgb(68, 68, 68); stroke-opacity: 1; fill: rgb(255, 255, 255); fill-opacity: 1; stroke-width: 0px;\" width=\"103\" height=\"67\" x=\"0\" y=\"0\"/><g class=\"scrollbox\" transform=\"\" clip-path=\"url(#legend8fa3a0)\"><g class=\"groups\"><g class=\"traces\" transform=\"translate(0,14.5)\" style=\"opacity: 1;\"><text class=\"legendtext\" text-anchor=\"start\" x=\"40\" y=\"4.680000000000001\" style=\"font-family: 'Open Sans', verdana, arial, sans-serif; font-size: 12px; fill: rgb(42, 63, 95); fill-opacity: 1; white-space: pre;\">roles</text><g class=\"layers\" style=\"opacity: 1;\"><g class=\"legendfill\"/><g class=\"legendlines\"/><g class=\"legendsymbols\"><g class=\"legendpoints\"><path class=\"legendundefined\" d=\"M6,6H-6V-6H6Z\" transform=\"translate(20,0)\" style=\"stroke-width: 0.5px; fill: rgb(240, 128, 128); fill-opacity: 1; stroke: rgb(229, 236, 246); stroke-opacity: 1;\"/></g></g></g><rect class=\"legendtoggle\" x=\"0\" y=\"-9.5\" width=\"97.5\" height=\"19\" style=\"fill: rgb(0, 0, 0); fill-opacity: 0;\"/></g><g class=\"traces\" transform=\"translate(0,33.5)\" style=\"opacity: 1;\"><text class=\"legendtext\" text-anchor=\"start\" x=\"40\" y=\"4.680000000000001\" style=\"font-family: 'Open Sans', verdana, arial, sans-serif; font-size: 12px; fill: rgb(42, 63, 95); fill-opacity: 1; white-space: pre;\">Locations</text><g class=\"layers\" style=\"opacity: 1;\"><g class=\"legendfill\"/><g class=\"legendlines\"/><g class=\"legendsymbols\"><g class=\"legendpoints\"><path class=\"legendundefined\" d=\"M6,6H-6V-6H6Z\" transform=\"translate(20,0)\" style=\"stroke-width: 0.5px; fill: rgb(95, 158, 160); fill-opacity: 1; stroke: rgb(229, 236, 246); stroke-opacity: 1;\"/></g></g></g><rect class=\"legendtoggle\" x=\"0\" y=\"-9.5\" width=\"97.5\" height=\"19\" style=\"fill: rgb(0, 0, 0); fill-opacity: 0;\"/></g><g class=\"traces\" transform=\"translate(0,52.5)\" style=\"opacity: 1;\"><text class=\"legendtext\" text-anchor=\"start\" x=\"40\" y=\"4.680000000000001\" style=\"font-family: 'Open Sans', verdana, arial, sans-serif; font-size: 12px; fill: rgb(42, 63, 95); fill-opacity: 1; white-space: pre;\">Company</text><g class=\"layers\" style=\"opacity: 1;\"><g class=\"legendfill\"/><g class=\"legendlines\"/><g class=\"legendsymbols\"><g class=\"legendpoints\"><path class=\"legendundefined\" d=\"M6,6H-6V-6H6Z\" transform=\"translate(20,0)\" style=\"stroke-width: 0.5px; fill: rgb(70, 130, 180); fill-opacity: 1; stroke: rgb(229, 236, 246); stroke-opacity: 1;\"/></g></g></g><rect class=\"legendtoggle\" x=\"0\" y=\"-9.5\" width=\"97.5\" height=\"19\" style=\"fill: rgb(0, 0, 0); fill-opacity: 0;\"/></g></g></g><rect class=\"scrollbar\" rx=\"20\" ry=\"3\" width=\"0\" height=\"0\" style=\"fill: rgb(128, 139, 164); fill-opacity: 1;\" x=\"0\" y=\"0\"/></g><g class=\"g-gtitle\"><text class=\"gtitle\" x=\"350\" y=\"50\" text-anchor=\"middle\" dy=\"0em\" style=\"font-family: 'Open Sans', verdana, arial, sans-serif; font-size: 20px; fill: rgb(25, 25, 112); opacity: 1; font-weight: normal; white-space: pre;\">Top 10 roles, Locations and Companies</text></g><g class=\"g-xtitle\"/><g class=\"g-ytitle\"/><g class=\"annotation\" data-index=\"0\" style=\"opacity: 1;\"><g class=\"annotation-text-g\" transform=\"rotate(0,399,87.50000000000001)\"><g class=\"cursor-pointer\" transform=\"translate(364,76)\"><rect class=\"bg\" x=\"0.5\" y=\"0.5\" width=\"69\" height=\"22\" style=\"stroke-width: 1px; stroke: rgb(0, 0, 0); stroke-opacity: 0; fill: rgb(0, 0, 0); fill-opacity: 0;\"/><text class=\"annotation-text\" text-anchor=\"end\" x=\"67.859375\" y=\"18\" style=\"font-family: 'Open Sans', verdana, arial, sans-serif; font-size: 16px; fill: rgb(72, 61, 139); fill-opacity: 1; white-space: pre;\">Choose:</text></g></g></g></g><g class=\"menulayer\"><g class=\"updatemenu-container\" style=\"cursor: pointer;\"><g class=\"updatemenu-header-group\" pointer-events=\"all\"><g class=\"updatemenu-button\" transform=\"translate(375,73)\"><rect class=\"updatemenu-item-rect\" rx=\"2\" ry=\"2\" shape-rendering=\"crispEdges\" x=\"0\" y=\"0\" width=\"43\" height=\"33\" style=\"stroke: rgb(190, 200, 217); stroke-opacity: 1; fill: rgb(244, 250, 255); fill-opacity: 1; stroke-width: 1px;\"/><text class=\"updatemenu-item-text\" text-anchor=\"start\" data-notex=\"1\" x=\"12\" y=\"19.5\" style=\"font-family: 'Open Sans', verdana, arial, sans-serif; font-size: 14px; fill: rgb(75, 0, 130); fill-opacity: 1; white-space: pre;\">All</text></g><g class=\"updatemenu-button\" transform=\"translate(420,73)\"><rect class=\"updatemenu-item-rect\" rx=\"2\" ry=\"2\" shape-rendering=\"crispEdges\" x=\"0\" y=\"0\" width=\"59\" height=\"33\" style=\"stroke: rgb(190, 200, 217); stroke-opacity: 1; fill: rgb(255, 255, 255); fill-opacity: 1; stroke-width: 1px;\"/><text class=\"updatemenu-item-text\" text-anchor=\"start\" data-notex=\"1\" x=\"12\" y=\"19.5\" style=\"font-family: 'Open Sans', verdana, arial, sans-serif; font-size: 14px; fill: rgb(75, 0, 130); fill-opacity: 1; white-space: pre;\">roles</text></g><g class=\"updatemenu-button\" transform=\"translate(481,73)\"><rect class=\"updatemenu-item-rect\" rx=\"2\" ry=\"2\" shape-rendering=\"crispEdges\" x=\"0\" y=\"0\" width=\"83\" height=\"33\" style=\"stroke: rgb(190, 200, 217); stroke-opacity: 1; fill: rgb(255, 255, 255); fill-opacity: 1; stroke-width: 1px;\"/><text class=\"updatemenu-item-text\" text-anchor=\"start\" data-notex=\"1\" x=\"12\" y=\"19.5\" style=\"font-family: 'Open Sans', verdana, arial, sans-serif; font-size: 14px; fill: rgb(75, 0, 130); fill-opacity: 1; white-space: pre;\">Location</text></g><g class=\"updatemenu-button\" transform=\"translate(566,73)\"><rect class=\"updatemenu-item-rect\" rx=\"2\" ry=\"2\" shape-rendering=\"crispEdges\" x=\"0\" y=\"0\" width=\"91\" height=\"33\" style=\"stroke: rgb(190, 200, 217); stroke-opacity: 1; fill: rgb(255, 255, 255); fill-opacity: 1; stroke-width: 1px;\"/><text class=\"updatemenu-item-text\" text-anchor=\"start\" data-notex=\"1\" x=\"12\" y=\"19.5\" style=\"font-family: 'Open Sans', verdana, arial, sans-serif; font-size: 14px; fill: rgb(75, 0, 130); fill-opacity: 1; white-space: pre;\">Company</text></g></g><g class=\"updatemenu-dropdown-button-group\" updatemenu-active-index=\"-1\" style=\"pointer-events: all;\"><rect class=\"scrollbox-bg\" opacity=\"0\" x=\"0\" y=\"0\" width=\"0\" height=\"0\" style=\"pointer-events: all;\"/></g></g></g></svg>"
      ]
     },
     "metadata": {},
     "output_type": "display_data"
    }
   ],
   "source": [
    "dfp = df['roles'].value_counts().head(10).sort_values(ascending = True).reset_index()\n",
    "dfl = df['locations'].value_counts().head(10).sort_values(ascending = True).reset_index()\n",
    "dfc = df['companies'].value_counts().head(10).sort_values(ascending = True).reset_index()\n",
    "\n",
    "fig = go.Figure()\n",
    "\n",
    "fig.add_trace(go.Bar(x = dfp['roles'],\n",
    "                     y = dfp['index'],\n",
    "                     orientation='h',\n",
    "                     name = 'roles',\n",
    "                     marker = dict(color = 'LightCoral')))\n",
    "\n",
    "fig.add_trace(go.Bar(x = dfl['locations'],\n",
    "                     y = dfl['index'],\n",
    "                     orientation='h',\n",
    "                     name = 'Locations',\n",
    "                     marker = dict(color = 'CadetBlue')))\n",
    "\n",
    "fig.add_trace(go.Bar(x = dfc['companies'],\n",
    "                     y = dfc['index'],\n",
    "                     orientation='h',\n",
    "                     name = 'Company',\n",
    "                     marker = dict(color = 'SteelBlue')))\n",
    "\n",
    "fig.update_layout( \n",
    "    updatemenus=[ \n",
    "        dict( \n",
    "            type = \"buttons\",\n",
    "            direction=\"left\", \n",
    "            pad={\"r\": 10, \"t\": 10},\n",
    "            showactive=True, \n",
    "            x=0.16, \n",
    "            xanchor=\"left\",\n",
    "            y=1.12, \n",
    "            yanchor=\"top\",\n",
    "            font = dict(color = 'Indigo',size = 14),\n",
    "            buttons=list([ \n",
    "                dict(label=\"All\", \n",
    "                     method=\"update\", \n",
    "                     args=[ {\"visible\": [True, True, True]}, \n",
    "                            {'showlegend' : True} \n",
    "                        ]),\n",
    "                dict(label=\"roles\", \n",
    "                     method=\"update\", \n",
    "                     args=[ {\"visible\": [True, False, False]}, \n",
    "                            {'showlegend' : True} \n",
    "                        ]), \n",
    "                dict(label='Location', \n",
    "                     method=\"update\", \n",
    "                     args=[ {\"visible\": [False, True, False]}, \n",
    "                            {'showlegend' : True} \n",
    "                     ]), \n",
    "                dict(label='Company', \n",
    "                     method=\"update\", \n",
    "                     args=[ {\"visible\": [False, False, True]}, \n",
    "                            {'showlegend' : True}]),\n",
    "            ]),\n",
    "        )])\n",
    "\n",
    "fig.update_layout(\n",
    "    annotations=[\n",
    "        dict(text=\"Choose:\", showarrow=False,\n",
    "             x=0, y=1.075, yref=\"paper\", align=\"right\",\n",
    "             font=dict(size=16,color = 'DarkSlateBlue'))])\n",
    "\n",
    "fig.update_layout(title =\"Top 10 roles, Locations and Companies\",\n",
    "                  title_x = 0.5,\n",
    "                  title_font = dict(size = 20, color = 'MidnightBlue'))\n",
    "fig.show(renderer='svg')"
   ]
  },
  {
   "cell_type": "code",
   "execution_count": 14,
   "metadata": {},
   "outputs": [
    {
     "data": {
      "text/html": [
       "        <script type=\"text/javascript\">\n",
       "        window.PlotlyConfig = {MathJaxConfig: 'local'};\n",
       "        if (window.MathJax) {MathJax.Hub.Config({SVG: {font: \"STIX-Web\"}});}\n",
       "        if (typeof require !== 'undefined') {\n",
       "        require.undef(\"plotly\");\n",
       "        requirejs.config({\n",
       "            paths: {\n",
       "                'plotly': ['https://cdn.plot.ly/plotly-2.8.3.min']\n",
       "            }\n",
       "        });\n",
       "        require(['plotly'], function(Plotly) {\n",
       "            window._Plotly = Plotly;\n",
       "        });\n",
       "        }\n",
       "        </script>\n",
       "        "
      ]
     },
     "metadata": {},
     "output_type": "display_data"
    },
    {
     "data": {
      "text/html": [
       "<div>                            <div id=\"a5284175-c41e-499d-bb56-bd027cbf4d9f\" class=\"plotly-graph-div\" style=\"height:525px; width:100%;\"></div>            <script type=\"text/javascript\">                require([\"plotly\"], function(Plotly) {                    window.PLOTLYENV=window.PLOTLYENV || {};                                    if (document.getElementById(\"a5284175-c41e-499d-bb56-bd027cbf4d9f\")) {                    Plotly.newPlot(                        \"a5284175-c41e-499d-bb56-bd027cbf4d9f\",                        [{\"marker\":{\"color\":\"LightCoral\"},\"name\":\"roles\",\"orientation\":\"h\",\"x\":[7,8,8,8,9,12,13,28,64,343],\"y\":[\"SENIOR DATA SCIENTIST AND MACHINE LEARNING ENGINEER\",\"Data Science Engineer\",\"Data Engineer\",\"Sr Data Scientist\",\"DATA SCIENTIST\",\"Sr. Data Scientist\",\"Full Stack Data Scientist\",\"Lead Data Scientist\",\"Senior Data Scientist\",\"Data Scientist\"],\"type\":\"bar\"},{\"marker\":{\"color\":\"CadetBlue\"},\"name\":\"Locations\",\"orientation\":\"h\",\"x\":[16,19,28,53,55,78,101,109,134,361],\"y\":[\"India\",\"Delhi NCR, Gurgaon\",\"Delhi\",\"Chennai\",\"Noida\",\"Gurgaon\",\"Hyderabad\",\"Pune\",\"Mumbai\",\"Bengaluru\"],\"type\":\"bar\"},{\"marker\":{\"color\":\"SteelBlue\"},\"name\":\"Company\",\"orientation\":\"h\",\"x\":[9,9,9,9,9,10,11,16,30,67],\"y\":[\"Hyrefox\",\"Walmart Labs\",\"Maven Workforce Pvt. Ltd\",\"Catalyst\",\"Wolters Kluwer India Pvt Ltd\",\"IHS India\",\"Career Maker\",\"AXCESS CONSULTANCY SERVICES\",\"Analytics Vidhya Educon Pvt. Ltd\",\"Huquo Consulting Pvt. Ltd\"],\"type\":\"bar\"}],                        {\"template\":{\"data\":{\"bar\":[{\"error_x\":{\"color\":\"#2a3f5f\"},\"error_y\":{\"color\":\"#2a3f5f\"},\"marker\":{\"line\":{\"color\":\"#E5ECF6\",\"width\":0.5},\"pattern\":{\"fillmode\":\"overlay\",\"size\":10,\"solidity\":0.2}},\"type\":\"bar\"}],\"barpolar\":[{\"marker\":{\"line\":{\"color\":\"#E5ECF6\",\"width\":0.5},\"pattern\":{\"fillmode\":\"overlay\",\"size\":10,\"solidity\":0.2}},\"type\":\"barpolar\"}],\"carpet\":[{\"aaxis\":{\"endlinecolor\":\"#2a3f5f\",\"gridcolor\":\"white\",\"linecolor\":\"white\",\"minorgridcolor\":\"white\",\"startlinecolor\":\"#2a3f5f\"},\"baxis\":{\"endlinecolor\":\"#2a3f5f\",\"gridcolor\":\"white\",\"linecolor\":\"white\",\"minorgridcolor\":\"white\",\"startlinecolor\":\"#2a3f5f\"},\"type\":\"carpet\"}],\"choropleth\":[{\"colorbar\":{\"outlinewidth\":0,\"ticks\":\"\"},\"type\":\"choropleth\"}],\"contour\":[{\"colorbar\":{\"outlinewidth\":0,\"ticks\":\"\"},\"colorscale\":[[0.0,\"#0d0887\"],[0.1111111111111111,\"#46039f\"],[0.2222222222222222,\"#7201a8\"],[0.3333333333333333,\"#9c179e\"],[0.4444444444444444,\"#bd3786\"],[0.5555555555555556,\"#d8576b\"],[0.6666666666666666,\"#ed7953\"],[0.7777777777777778,\"#fb9f3a\"],[0.8888888888888888,\"#fdca26\"],[1.0,\"#f0f921\"]],\"type\":\"contour\"}],\"contourcarpet\":[{\"colorbar\":{\"outlinewidth\":0,\"ticks\":\"\"},\"type\":\"contourcarpet\"}],\"heatmap\":[{\"colorbar\":{\"outlinewidth\":0,\"ticks\":\"\"},\"colorscale\":[[0.0,\"#0d0887\"],[0.1111111111111111,\"#46039f\"],[0.2222222222222222,\"#7201a8\"],[0.3333333333333333,\"#9c179e\"],[0.4444444444444444,\"#bd3786\"],[0.5555555555555556,\"#d8576b\"],[0.6666666666666666,\"#ed7953\"],[0.7777777777777778,\"#fb9f3a\"],[0.8888888888888888,\"#fdca26\"],[1.0,\"#f0f921\"]],\"type\":\"heatmap\"}],\"heatmapgl\":[{\"colorbar\":{\"outlinewidth\":0,\"ticks\":\"\"},\"colorscale\":[[0.0,\"#0d0887\"],[0.1111111111111111,\"#46039f\"],[0.2222222222222222,\"#7201a8\"],[0.3333333333333333,\"#9c179e\"],[0.4444444444444444,\"#bd3786\"],[0.5555555555555556,\"#d8576b\"],[0.6666666666666666,\"#ed7953\"],[0.7777777777777778,\"#fb9f3a\"],[0.8888888888888888,\"#fdca26\"],[1.0,\"#f0f921\"]],\"type\":\"heatmapgl\"}],\"histogram\":[{\"marker\":{\"pattern\":{\"fillmode\":\"overlay\",\"size\":10,\"solidity\":0.2}},\"type\":\"histogram\"}],\"histogram2d\":[{\"colorbar\":{\"outlinewidth\":0,\"ticks\":\"\"},\"colorscale\":[[0.0,\"#0d0887\"],[0.1111111111111111,\"#46039f\"],[0.2222222222222222,\"#7201a8\"],[0.3333333333333333,\"#9c179e\"],[0.4444444444444444,\"#bd3786\"],[0.5555555555555556,\"#d8576b\"],[0.6666666666666666,\"#ed7953\"],[0.7777777777777778,\"#fb9f3a\"],[0.8888888888888888,\"#fdca26\"],[1.0,\"#f0f921\"]],\"type\":\"histogram2d\"}],\"histogram2dcontour\":[{\"colorbar\":{\"outlinewidth\":0,\"ticks\":\"\"},\"colorscale\":[[0.0,\"#0d0887\"],[0.1111111111111111,\"#46039f\"],[0.2222222222222222,\"#7201a8\"],[0.3333333333333333,\"#9c179e\"],[0.4444444444444444,\"#bd3786\"],[0.5555555555555556,\"#d8576b\"],[0.6666666666666666,\"#ed7953\"],[0.7777777777777778,\"#fb9f3a\"],[0.8888888888888888,\"#fdca26\"],[1.0,\"#f0f921\"]],\"type\":\"histogram2dcontour\"}],\"mesh3d\":[{\"colorbar\":{\"outlinewidth\":0,\"ticks\":\"\"},\"type\":\"mesh3d\"}],\"parcoords\":[{\"line\":{\"colorbar\":{\"outlinewidth\":0,\"ticks\":\"\"}},\"type\":\"parcoords\"}],\"pie\":[{\"automargin\":true,\"type\":\"pie\"}],\"scatter\":[{\"marker\":{\"colorbar\":{\"outlinewidth\":0,\"ticks\":\"\"}},\"type\":\"scatter\"}],\"scatter3d\":[{\"line\":{\"colorbar\":{\"outlinewidth\":0,\"ticks\":\"\"}},\"marker\":{\"colorbar\":{\"outlinewidth\":0,\"ticks\":\"\"}},\"type\":\"scatter3d\"}],\"scattercarpet\":[{\"marker\":{\"colorbar\":{\"outlinewidth\":0,\"ticks\":\"\"}},\"type\":\"scattercarpet\"}],\"scattergeo\":[{\"marker\":{\"colorbar\":{\"outlinewidth\":0,\"ticks\":\"\"}},\"type\":\"scattergeo\"}],\"scattergl\":[{\"marker\":{\"colorbar\":{\"outlinewidth\":0,\"ticks\":\"\"}},\"type\":\"scattergl\"}],\"scattermapbox\":[{\"marker\":{\"colorbar\":{\"outlinewidth\":0,\"ticks\":\"\"}},\"type\":\"scattermapbox\"}],\"scatterpolar\":[{\"marker\":{\"colorbar\":{\"outlinewidth\":0,\"ticks\":\"\"}},\"type\":\"scatterpolar\"}],\"scatterpolargl\":[{\"marker\":{\"colorbar\":{\"outlinewidth\":0,\"ticks\":\"\"}},\"type\":\"scatterpolargl\"}],\"scatterternary\":[{\"marker\":{\"colorbar\":{\"outlinewidth\":0,\"ticks\":\"\"}},\"type\":\"scatterternary\"}],\"surface\":[{\"colorbar\":{\"outlinewidth\":0,\"ticks\":\"\"},\"colorscale\":[[0.0,\"#0d0887\"],[0.1111111111111111,\"#46039f\"],[0.2222222222222222,\"#7201a8\"],[0.3333333333333333,\"#9c179e\"],[0.4444444444444444,\"#bd3786\"],[0.5555555555555556,\"#d8576b\"],[0.6666666666666666,\"#ed7953\"],[0.7777777777777778,\"#fb9f3a\"],[0.8888888888888888,\"#fdca26\"],[1.0,\"#f0f921\"]],\"type\":\"surface\"}],\"table\":[{\"cells\":{\"fill\":{\"color\":\"#EBF0F8\"},\"line\":{\"color\":\"white\"}},\"header\":{\"fill\":{\"color\":\"#C8D4E3\"},\"line\":{\"color\":\"white\"}},\"type\":\"table\"}]},\"layout\":{\"annotationdefaults\":{\"arrowcolor\":\"#2a3f5f\",\"arrowhead\":0,\"arrowwidth\":1},\"autotypenumbers\":\"strict\",\"coloraxis\":{\"colorbar\":{\"outlinewidth\":0,\"ticks\":\"\"}},\"colorscale\":{\"diverging\":[[0,\"#8e0152\"],[0.1,\"#c51b7d\"],[0.2,\"#de77ae\"],[0.3,\"#f1b6da\"],[0.4,\"#fde0ef\"],[0.5,\"#f7f7f7\"],[0.6,\"#e6f5d0\"],[0.7,\"#b8e186\"],[0.8,\"#7fbc41\"],[0.9,\"#4d9221\"],[1,\"#276419\"]],\"sequential\":[[0.0,\"#0d0887\"],[0.1111111111111111,\"#46039f\"],[0.2222222222222222,\"#7201a8\"],[0.3333333333333333,\"#9c179e\"],[0.4444444444444444,\"#bd3786\"],[0.5555555555555556,\"#d8576b\"],[0.6666666666666666,\"#ed7953\"],[0.7777777777777778,\"#fb9f3a\"],[0.8888888888888888,\"#fdca26\"],[1.0,\"#f0f921\"]],\"sequentialminus\":[[0.0,\"#0d0887\"],[0.1111111111111111,\"#46039f\"],[0.2222222222222222,\"#7201a8\"],[0.3333333333333333,\"#9c179e\"],[0.4444444444444444,\"#bd3786\"],[0.5555555555555556,\"#d8576b\"],[0.6666666666666666,\"#ed7953\"],[0.7777777777777778,\"#fb9f3a\"],[0.8888888888888888,\"#fdca26\"],[1.0,\"#f0f921\"]]},\"colorway\":[\"#636efa\",\"#EF553B\",\"#00cc96\",\"#ab63fa\",\"#FFA15A\",\"#19d3f3\",\"#FF6692\",\"#B6E880\",\"#FF97FF\",\"#FECB52\"],\"font\":{\"color\":\"#2a3f5f\"},\"geo\":{\"bgcolor\":\"white\",\"lakecolor\":\"white\",\"landcolor\":\"#E5ECF6\",\"showlakes\":true,\"showland\":true,\"subunitcolor\":\"white\"},\"hoverlabel\":{\"align\":\"left\"},\"hovermode\":\"closest\",\"mapbox\":{\"style\":\"light\"},\"paper_bgcolor\":\"white\",\"plot_bgcolor\":\"#E5ECF6\",\"polar\":{\"angularaxis\":{\"gridcolor\":\"white\",\"linecolor\":\"white\",\"ticks\":\"\"},\"bgcolor\":\"#E5ECF6\",\"radialaxis\":{\"gridcolor\":\"white\",\"linecolor\":\"white\",\"ticks\":\"\"}},\"scene\":{\"xaxis\":{\"backgroundcolor\":\"#E5ECF6\",\"gridcolor\":\"white\",\"gridwidth\":2,\"linecolor\":\"white\",\"showbackground\":true,\"ticks\":\"\",\"zerolinecolor\":\"white\"},\"yaxis\":{\"backgroundcolor\":\"#E5ECF6\",\"gridcolor\":\"white\",\"gridwidth\":2,\"linecolor\":\"white\",\"showbackground\":true,\"ticks\":\"\",\"zerolinecolor\":\"white\"},\"zaxis\":{\"backgroundcolor\":\"#E5ECF6\",\"gridcolor\":\"white\",\"gridwidth\":2,\"linecolor\":\"white\",\"showbackground\":true,\"ticks\":\"\",\"zerolinecolor\":\"white\"}},\"shapedefaults\":{\"line\":{\"color\":\"#2a3f5f\"}},\"ternary\":{\"aaxis\":{\"gridcolor\":\"white\",\"linecolor\":\"white\",\"ticks\":\"\"},\"baxis\":{\"gridcolor\":\"white\",\"linecolor\":\"white\",\"ticks\":\"\"},\"bgcolor\":\"#E5ECF6\",\"caxis\":{\"gridcolor\":\"white\",\"linecolor\":\"white\",\"ticks\":\"\"}},\"title\":{\"x\":0.05},\"xaxis\":{\"automargin\":true,\"gridcolor\":\"white\",\"linecolor\":\"white\",\"ticks\":\"\",\"title\":{\"standoff\":15},\"zerolinecolor\":\"white\",\"zerolinewidth\":2},\"yaxis\":{\"automargin\":true,\"gridcolor\":\"white\",\"linecolor\":\"white\",\"ticks\":\"\",\"title\":{\"standoff\":15},\"zerolinecolor\":\"white\",\"zerolinewidth\":2}}},\"updatemenus\":[{\"buttons\":[{\"args\":[{\"visible\":[true,true,true]},{\"showlegend\":true}],\"label\":\"All\",\"method\":\"update\"},{\"args\":[{\"visible\":[true,false,false]},{\"showlegend\":true}],\"label\":\"roles\",\"method\":\"update\"},{\"args\":[{\"visible\":[false,true,false]},{\"showlegend\":true}],\"label\":\"Location\",\"method\":\"update\"},{\"args\":[{\"visible\":[false,false,true]},{\"showlegend\":true}],\"label\":\"Company\",\"method\":\"update\"}],\"direction\":\"left\",\"font\":{\"color\":\"Indigo\",\"size\":14},\"pad\":{\"r\":10,\"t\":10},\"showactive\":true,\"type\":\"buttons\",\"x\":0.16,\"xanchor\":\"left\",\"y\":1.12,\"yanchor\":\"top\"}],\"annotations\":[{\"align\":\"right\",\"font\":{\"color\":\"DarkSlateBlue\",\"size\":16},\"showarrow\":false,\"text\":\"Choose:\",\"x\":0,\"y\":1.075,\"yref\":\"paper\"}],\"title\":{\"text\":\"Top 10 roles, Locations and Companies\",\"x\":0.5,\"font\":{\"size\":20,\"color\":\"MidnightBlue\"}}},                        {\"responsive\": true}                    ).then(function(){\n",
       "                            \n",
       "var gd = document.getElementById('a5284175-c41e-499d-bb56-bd027cbf4d9f');\n",
       "var x = new MutationObserver(function (mutations, observer) {{\n",
       "        var display = window.getComputedStyle(gd).display;\n",
       "        if (!display || display === 'none') {{\n",
       "            console.log([gd, 'removed!']);\n",
       "            Plotly.purge(gd);\n",
       "            observer.disconnect();\n",
       "        }}\n",
       "}});\n",
       "\n",
       "// Listen for the removal of the full notebook cells\n",
       "var notebookContainer = gd.closest('#notebook-container');\n",
       "if (notebookContainer) {{\n",
       "    x.observe(notebookContainer, {childList: true});\n",
       "}}\n",
       "\n",
       "// Listen for the clearing of the current output cell\n",
       "var outputEl = gd.closest('.output');\n",
       "if (outputEl) {{\n",
       "    x.observe(outputEl, {childList: true});\n",
       "}}\n",
       "\n",
       "                        })                };                });            </script>        </div>"
      ]
     },
     "metadata": {},
     "output_type": "display_data"
    }
   ],
   "source": [
    "dfp = df['roles'].value_counts().head(10).sort_values(ascending = True).reset_index()\n",
    "dfl = df['locations'].value_counts().head(10).sort_values(ascending = True).reset_index()\n",
    "dfc = df['companies'].value_counts().head(10).sort_values(ascending = True).reset_index()\n",
    "\n",
    "fig = go.Figure()\n",
    "\n",
    "fig.add_trace(go.Bar(x = dfp['roles'],\n",
    "                     y = dfp['index'],\n",
    "                     orientation='h',\n",
    "                     name = 'roles',\n",
    "                     marker = dict(color = 'LightCoral')))\n",
    "\n",
    "fig.add_trace(go.Bar(x = dfl['locations'],\n",
    "                     y = dfl['index'],\n",
    "                     orientation='h',\n",
    "                     name = 'Locations',\n",
    "                     marker = dict(color = 'CadetBlue')))\n",
    "\n",
    "fig.add_trace(go.Bar(x = dfc['companies'],\n",
    "                     y = dfc['index'],\n",
    "                     orientation='h',\n",
    "                     name = 'Company',\n",
    "                     marker = dict(color = 'SteelBlue')))\n",
    "\n",
    "fig.update_layout( \n",
    "    updatemenus=[ \n",
    "        dict( \n",
    "            type = \"buttons\",\n",
    "            direction=\"left\", \n",
    "            pad={\"r\": 10, \"t\": 10},\n",
    "            showactive=True, \n",
    "            x=0.16, \n",
    "            xanchor=\"left\",\n",
    "            y=1.12, \n",
    "            yanchor=\"top\",\n",
    "            font = dict(color = 'Indigo',size = 14),\n",
    "            buttons=list([ \n",
    "                dict(label=\"All\", \n",
    "                     method=\"update\", \n",
    "                     args=[ {\"visible\": [True, True, True]}, \n",
    "                            {'showlegend' : True} \n",
    "                        ]),\n",
    "                dict(label=\"roles\", \n",
    "                     method=\"update\", \n",
    "                     args=[ {\"visible\": [True, False, False]}, \n",
    "                            {'showlegend' : True} \n",
    "                        ]), \n",
    "                dict(label='Location', \n",
    "                     method=\"update\", \n",
    "                     args=[ {\"visible\": [False, True, False]}, \n",
    "                            {'showlegend' : True} \n",
    "                     ]), \n",
    "                dict(label='Company', \n",
    "                     method=\"update\", \n",
    "                     args=[ {\"visible\": [False, False, True]}, \n",
    "                            {'showlegend' : True}]),\n",
    "            ]),\n",
    "        )])\n",
    "\n",
    "fig.update_layout(\n",
    "    annotations=[\n",
    "        dict(text=\"Choose:\", showarrow=False,\n",
    "             x=0, y=1.075, yref=\"paper\", align=\"right\",\n",
    "             font=dict(size=16,color = 'DarkSlateBlue'))])\n",
    "\n",
    "fig.update_layout(title =\"Top 10 roles, Locations and Companies\",\n",
    "                  title_x = 0.5,\n",
    "                  title_font = dict(size = 20, color = 'MidnightBlue'))\n",
    "fig.show(renderer='kaggle')"
   ]
  },
  {
   "cell_type": "code",
   "execution_count": 13,
   "metadata": {},
   "outputs": [
    {
     "data": {
      "application/vnd.plotly.v1+json": {
       "config": {
        "plotlyServerURL": "https://plot.ly"
       },
       "data": [
        {
         "marker": {
          "color": "LightCoral"
         },
         "name": "roles",
         "orientation": "h",
         "type": "bar",
         "x": [
          7,
          8,
          8,
          8,
          9,
          12,
          13,
          28,
          64,
          343
         ],
         "y": [
          "SENIOR DATA SCIENTIST AND MACHINE LEARNING ENGINEER",
          "Data Science Engineer",
          "Data Engineer",
          "Sr Data Scientist",
          "DATA SCIENTIST",
          "Sr. Data Scientist",
          "Full Stack Data Scientist",
          "Lead Data Scientist",
          "Senior Data Scientist",
          "Data Scientist"
         ]
        },
        {
         "marker": {
          "color": "CadetBlue"
         },
         "name": "Locations",
         "orientation": "h",
         "type": "bar",
         "x": [
          16,
          19,
          28,
          53,
          55,
          78,
          101,
          109,
          134,
          361
         ],
         "y": [
          "India",
          "Delhi NCR, Gurgaon",
          "Delhi",
          "Chennai",
          "Noida",
          "Gurgaon",
          "Hyderabad",
          "Pune",
          "Mumbai",
          "Bengaluru"
         ]
        },
        {
         "marker": {
          "color": "SteelBlue"
         },
         "name": "Company",
         "orientation": "h",
         "type": "bar",
         "x": [
          9,
          9,
          9,
          9,
          9,
          10,
          11,
          16,
          30,
          67
         ],
         "y": [
          "Hyrefox",
          "Walmart Labs",
          "Maven Workforce Pvt. Ltd",
          "Catalyst",
          "Wolters Kluwer India Pvt Ltd",
          "IHS India",
          "Career Maker",
          "AXCESS CONSULTANCY SERVICES",
          "Analytics Vidhya Educon Pvt. Ltd",
          "Huquo Consulting Pvt. Ltd"
         ]
        }
       ],
       "layout": {
        "annotations": [
         {
          "align": "right",
          "font": {
           "color": "DarkSlateBlue",
           "size": 16
          },
          "showarrow": false,
          "text": "Choose:",
          "x": 0,
          "y": 1.075,
          "yref": "paper"
         }
        ],
        "template": {
         "data": {
          "bar": [
           {
            "error_x": {
             "color": "#2a3f5f"
            },
            "error_y": {
             "color": "#2a3f5f"
            },
            "marker": {
             "line": {
              "color": "#E5ECF6",
              "width": 0.5
             },
             "pattern": {
              "fillmode": "overlay",
              "size": 10,
              "solidity": 0.2
             }
            },
            "type": "bar"
           }
          ],
          "barpolar": [
           {
            "marker": {
             "line": {
              "color": "#E5ECF6",
              "width": 0.5
             },
             "pattern": {
              "fillmode": "overlay",
              "size": 10,
              "solidity": 0.2
             }
            },
            "type": "barpolar"
           }
          ],
          "carpet": [
           {
            "aaxis": {
             "endlinecolor": "#2a3f5f",
             "gridcolor": "white",
             "linecolor": "white",
             "minorgridcolor": "white",
             "startlinecolor": "#2a3f5f"
            },
            "baxis": {
             "endlinecolor": "#2a3f5f",
             "gridcolor": "white",
             "linecolor": "white",
             "minorgridcolor": "white",
             "startlinecolor": "#2a3f5f"
            },
            "type": "carpet"
           }
          ],
          "choropleth": [
           {
            "colorbar": {
             "outlinewidth": 0,
             "ticks": ""
            },
            "type": "choropleth"
           }
          ],
          "contour": [
           {
            "colorbar": {
             "outlinewidth": 0,
             "ticks": ""
            },
            "colorscale": [
             [
              0,
              "#0d0887"
             ],
             [
              0.1111111111111111,
              "#46039f"
             ],
             [
              0.2222222222222222,
              "#7201a8"
             ],
             [
              0.3333333333333333,
              "#9c179e"
             ],
             [
              0.4444444444444444,
              "#bd3786"
             ],
             [
              0.5555555555555556,
              "#d8576b"
             ],
             [
              0.6666666666666666,
              "#ed7953"
             ],
             [
              0.7777777777777778,
              "#fb9f3a"
             ],
             [
              0.8888888888888888,
              "#fdca26"
             ],
             [
              1,
              "#f0f921"
             ]
            ],
            "type": "contour"
           }
          ],
          "contourcarpet": [
           {
            "colorbar": {
             "outlinewidth": 0,
             "ticks": ""
            },
            "type": "contourcarpet"
           }
          ],
          "heatmap": [
           {
            "colorbar": {
             "outlinewidth": 0,
             "ticks": ""
            },
            "colorscale": [
             [
              0,
              "#0d0887"
             ],
             [
              0.1111111111111111,
              "#46039f"
             ],
             [
              0.2222222222222222,
              "#7201a8"
             ],
             [
              0.3333333333333333,
              "#9c179e"
             ],
             [
              0.4444444444444444,
              "#bd3786"
             ],
             [
              0.5555555555555556,
              "#d8576b"
             ],
             [
              0.6666666666666666,
              "#ed7953"
             ],
             [
              0.7777777777777778,
              "#fb9f3a"
             ],
             [
              0.8888888888888888,
              "#fdca26"
             ],
             [
              1,
              "#f0f921"
             ]
            ],
            "type": "heatmap"
           }
          ],
          "heatmapgl": [
           {
            "colorbar": {
             "outlinewidth": 0,
             "ticks": ""
            },
            "colorscale": [
             [
              0,
              "#0d0887"
             ],
             [
              0.1111111111111111,
              "#46039f"
             ],
             [
              0.2222222222222222,
              "#7201a8"
             ],
             [
              0.3333333333333333,
              "#9c179e"
             ],
             [
              0.4444444444444444,
              "#bd3786"
             ],
             [
              0.5555555555555556,
              "#d8576b"
             ],
             [
              0.6666666666666666,
              "#ed7953"
             ],
             [
              0.7777777777777778,
              "#fb9f3a"
             ],
             [
              0.8888888888888888,
              "#fdca26"
             ],
             [
              1,
              "#f0f921"
             ]
            ],
            "type": "heatmapgl"
           }
          ],
          "histogram": [
           {
            "marker": {
             "pattern": {
              "fillmode": "overlay",
              "size": 10,
              "solidity": 0.2
             }
            },
            "type": "histogram"
           }
          ],
          "histogram2d": [
           {
            "colorbar": {
             "outlinewidth": 0,
             "ticks": ""
            },
            "colorscale": [
             [
              0,
              "#0d0887"
             ],
             [
              0.1111111111111111,
              "#46039f"
             ],
             [
              0.2222222222222222,
              "#7201a8"
             ],
             [
              0.3333333333333333,
              "#9c179e"
             ],
             [
              0.4444444444444444,
              "#bd3786"
             ],
             [
              0.5555555555555556,
              "#d8576b"
             ],
             [
              0.6666666666666666,
              "#ed7953"
             ],
             [
              0.7777777777777778,
              "#fb9f3a"
             ],
             [
              0.8888888888888888,
              "#fdca26"
             ],
             [
              1,
              "#f0f921"
             ]
            ],
            "type": "histogram2d"
           }
          ],
          "histogram2dcontour": [
           {
            "colorbar": {
             "outlinewidth": 0,
             "ticks": ""
            },
            "colorscale": [
             [
              0,
              "#0d0887"
             ],
             [
              0.1111111111111111,
              "#46039f"
             ],
             [
              0.2222222222222222,
              "#7201a8"
             ],
             [
              0.3333333333333333,
              "#9c179e"
             ],
             [
              0.4444444444444444,
              "#bd3786"
             ],
             [
              0.5555555555555556,
              "#d8576b"
             ],
             [
              0.6666666666666666,
              "#ed7953"
             ],
             [
              0.7777777777777778,
              "#fb9f3a"
             ],
             [
              0.8888888888888888,
              "#fdca26"
             ],
             [
              1,
              "#f0f921"
             ]
            ],
            "type": "histogram2dcontour"
           }
          ],
          "mesh3d": [
           {
            "colorbar": {
             "outlinewidth": 0,
             "ticks": ""
            },
            "type": "mesh3d"
           }
          ],
          "parcoords": [
           {
            "line": {
             "colorbar": {
              "outlinewidth": 0,
              "ticks": ""
             }
            },
            "type": "parcoords"
           }
          ],
          "pie": [
           {
            "automargin": true,
            "type": "pie"
           }
          ],
          "scatter": [
           {
            "marker": {
             "colorbar": {
              "outlinewidth": 0,
              "ticks": ""
             }
            },
            "type": "scatter"
           }
          ],
          "scatter3d": [
           {
            "line": {
             "colorbar": {
              "outlinewidth": 0,
              "ticks": ""
             }
            },
            "marker": {
             "colorbar": {
              "outlinewidth": 0,
              "ticks": ""
             }
            },
            "type": "scatter3d"
           }
          ],
          "scattercarpet": [
           {
            "marker": {
             "colorbar": {
              "outlinewidth": 0,
              "ticks": ""
             }
            },
            "type": "scattercarpet"
           }
          ],
          "scattergeo": [
           {
            "marker": {
             "colorbar": {
              "outlinewidth": 0,
              "ticks": ""
             }
            },
            "type": "scattergeo"
           }
          ],
          "scattergl": [
           {
            "marker": {
             "colorbar": {
              "outlinewidth": 0,
              "ticks": ""
             }
            },
            "type": "scattergl"
           }
          ],
          "scattermapbox": [
           {
            "marker": {
             "colorbar": {
              "outlinewidth": 0,
              "ticks": ""
             }
            },
            "type": "scattermapbox"
           }
          ],
          "scatterpolar": [
           {
            "marker": {
             "colorbar": {
              "outlinewidth": 0,
              "ticks": ""
             }
            },
            "type": "scatterpolar"
           }
          ],
          "scatterpolargl": [
           {
            "marker": {
             "colorbar": {
              "outlinewidth": 0,
              "ticks": ""
             }
            },
            "type": "scatterpolargl"
           }
          ],
          "scatterternary": [
           {
            "marker": {
             "colorbar": {
              "outlinewidth": 0,
              "ticks": ""
             }
            },
            "type": "scatterternary"
           }
          ],
          "surface": [
           {
            "colorbar": {
             "outlinewidth": 0,
             "ticks": ""
            },
            "colorscale": [
             [
              0,
              "#0d0887"
             ],
             [
              0.1111111111111111,
              "#46039f"
             ],
             [
              0.2222222222222222,
              "#7201a8"
             ],
             [
              0.3333333333333333,
              "#9c179e"
             ],
             [
              0.4444444444444444,
              "#bd3786"
             ],
             [
              0.5555555555555556,
              "#d8576b"
             ],
             [
              0.6666666666666666,
              "#ed7953"
             ],
             [
              0.7777777777777778,
              "#fb9f3a"
             ],
             [
              0.8888888888888888,
              "#fdca26"
             ],
             [
              1,
              "#f0f921"
             ]
            ],
            "type": "surface"
           }
          ],
          "table": [
           {
            "cells": {
             "fill": {
              "color": "#EBF0F8"
             },
             "line": {
              "color": "white"
             }
            },
            "header": {
             "fill": {
              "color": "#C8D4E3"
             },
             "line": {
              "color": "white"
             }
            },
            "type": "table"
           }
          ]
         },
         "layout": {
          "annotationdefaults": {
           "arrowcolor": "#2a3f5f",
           "arrowhead": 0,
           "arrowwidth": 1
          },
          "autotypenumbers": "strict",
          "coloraxis": {
           "colorbar": {
            "outlinewidth": 0,
            "ticks": ""
           }
          },
          "colorscale": {
           "diverging": [
            [
             0,
             "#8e0152"
            ],
            [
             0.1,
             "#c51b7d"
            ],
            [
             0.2,
             "#de77ae"
            ],
            [
             0.3,
             "#f1b6da"
            ],
            [
             0.4,
             "#fde0ef"
            ],
            [
             0.5,
             "#f7f7f7"
            ],
            [
             0.6,
             "#e6f5d0"
            ],
            [
             0.7,
             "#b8e186"
            ],
            [
             0.8,
             "#7fbc41"
            ],
            [
             0.9,
             "#4d9221"
            ],
            [
             1,
             "#276419"
            ]
           ],
           "sequential": [
            [
             0,
             "#0d0887"
            ],
            [
             0.1111111111111111,
             "#46039f"
            ],
            [
             0.2222222222222222,
             "#7201a8"
            ],
            [
             0.3333333333333333,
             "#9c179e"
            ],
            [
             0.4444444444444444,
             "#bd3786"
            ],
            [
             0.5555555555555556,
             "#d8576b"
            ],
            [
             0.6666666666666666,
             "#ed7953"
            ],
            [
             0.7777777777777778,
             "#fb9f3a"
            ],
            [
             0.8888888888888888,
             "#fdca26"
            ],
            [
             1,
             "#f0f921"
            ]
           ],
           "sequentialminus": [
            [
             0,
             "#0d0887"
            ],
            [
             0.1111111111111111,
             "#46039f"
            ],
            [
             0.2222222222222222,
             "#7201a8"
            ],
            [
             0.3333333333333333,
             "#9c179e"
            ],
            [
             0.4444444444444444,
             "#bd3786"
            ],
            [
             0.5555555555555556,
             "#d8576b"
            ],
            [
             0.6666666666666666,
             "#ed7953"
            ],
            [
             0.7777777777777778,
             "#fb9f3a"
            ],
            [
             0.8888888888888888,
             "#fdca26"
            ],
            [
             1,
             "#f0f921"
            ]
           ]
          },
          "colorway": [
           "#636efa",
           "#EF553B",
           "#00cc96",
           "#ab63fa",
           "#FFA15A",
           "#19d3f3",
           "#FF6692",
           "#B6E880",
           "#FF97FF",
           "#FECB52"
          ],
          "font": {
           "color": "#2a3f5f"
          },
          "geo": {
           "bgcolor": "white",
           "lakecolor": "white",
           "landcolor": "#E5ECF6",
           "showlakes": true,
           "showland": true,
           "subunitcolor": "white"
          },
          "hoverlabel": {
           "align": "left"
          },
          "hovermode": "closest",
          "mapbox": {
           "style": "light"
          },
          "paper_bgcolor": "white",
          "plot_bgcolor": "#E5ECF6",
          "polar": {
           "angularaxis": {
            "gridcolor": "white",
            "linecolor": "white",
            "ticks": ""
           },
           "bgcolor": "#E5ECF6",
           "radialaxis": {
            "gridcolor": "white",
            "linecolor": "white",
            "ticks": ""
           }
          },
          "scene": {
           "xaxis": {
            "backgroundcolor": "#E5ECF6",
            "gridcolor": "white",
            "gridwidth": 2,
            "linecolor": "white",
            "showbackground": true,
            "ticks": "",
            "zerolinecolor": "white"
           },
           "yaxis": {
            "backgroundcolor": "#E5ECF6",
            "gridcolor": "white",
            "gridwidth": 2,
            "linecolor": "white",
            "showbackground": true,
            "ticks": "",
            "zerolinecolor": "white"
           },
           "zaxis": {
            "backgroundcolor": "#E5ECF6",
            "gridcolor": "white",
            "gridwidth": 2,
            "linecolor": "white",
            "showbackground": true,
            "ticks": "",
            "zerolinecolor": "white"
           }
          },
          "shapedefaults": {
           "line": {
            "color": "#2a3f5f"
           }
          },
          "ternary": {
           "aaxis": {
            "gridcolor": "white",
            "linecolor": "white",
            "ticks": ""
           },
           "baxis": {
            "gridcolor": "white",
            "linecolor": "white",
            "ticks": ""
           },
           "bgcolor": "#E5ECF6",
           "caxis": {
            "gridcolor": "white",
            "linecolor": "white",
            "ticks": ""
           }
          },
          "title": {
           "x": 0.05
          },
          "xaxis": {
           "automargin": true,
           "gridcolor": "white",
           "linecolor": "white",
           "ticks": "",
           "title": {
            "standoff": 15
           },
           "zerolinecolor": "white",
           "zerolinewidth": 2
          },
          "yaxis": {
           "automargin": true,
           "gridcolor": "white",
           "linecolor": "white",
           "ticks": "",
           "title": {
            "standoff": 15
           },
           "zerolinecolor": "white",
           "zerolinewidth": 2
          }
         }
        },
        "title": {
         "font": {
          "color": "MidnightBlue",
          "size": 20
         },
         "text": "Top 10 roles, Locations and Companies",
         "x": 0.5
        },
        "updatemenus": [
         {
          "buttons": [
           {
            "args": [
             {
              "visible": [
               true,
               true,
               true
              ]
             },
             {
              "showlegend": true
             }
            ],
            "label": "All",
            "method": "update"
           },
           {
            "args": [
             {
              "visible": [
               true,
               false,
               false
              ]
             },
             {
              "showlegend": true
             }
            ],
            "label": "roles",
            "method": "update"
           },
           {
            "args": [
             {
              "visible": [
               false,
               true,
               false
              ]
             },
             {
              "showlegend": true
             }
            ],
            "label": "Location",
            "method": "update"
           },
           {
            "args": [
             {
              "visible": [
               false,
               false,
               true
              ]
             },
             {
              "showlegend": true
             }
            ],
            "label": "Company",
            "method": "update"
           }
          ],
          "direction": "left",
          "font": {
           "color": "Indigo",
           "size": 14
          },
          "pad": {
           "r": 10,
           "t": 10
          },
          "showactive": true,
          "type": "buttons",
          "x": 0.16,
          "xanchor": "left",
          "y": 1.12,
          "yanchor": "top"
         }
        ]
       }
      }
     },
     "metadata": {},
     "output_type": "display_data"
    }
   ],
   "source": [
    "dfp = df['roles'].value_counts().head(10).sort_values(ascending = True).reset_index()\n",
    "dfl = df['locations'].value_counts().head(10).sort_values(ascending = True).reset_index()\n",
    "dfc = df['companies'].value_counts().head(10).sort_values(ascending = True).reset_index()\n",
    "\n",
    "fig = go.Figure()\n",
    "\n",
    "fig.add_trace(go.Bar(x = dfp['roles'],\n",
    "                     y = dfp['index'],\n",
    "                     orientation='h',\n",
    "                     name = 'roles',\n",
    "                     marker = dict(color = 'LightCoral')))\n",
    "\n",
    "fig.add_trace(go.Bar(x = dfl['locations'],\n",
    "                     y = dfl['index'],\n",
    "                     orientation='h',\n",
    "                     name = 'Locations',\n",
    "                     marker = dict(color = 'CadetBlue')))\n",
    "\n",
    "fig.add_trace(go.Bar(x = dfc['companies'],\n",
    "                     y = dfc['index'],\n",
    "                     orientation='h',\n",
    "                     name = 'Company',\n",
    "                     marker = dict(color = 'SteelBlue')))\n",
    "\n",
    "fig.update_layout( \n",
    "    updatemenus=[ \n",
    "        dict( \n",
    "            type = \"buttons\",\n",
    "            direction=\"left\", \n",
    "            pad={\"r\": 10, \"t\": 10},\n",
    "            showactive=True, \n",
    "            x=0.16, \n",
    "            xanchor=\"left\",\n",
    "            y=1.12, \n",
    "            yanchor=\"top\",\n",
    "            font = dict(color = 'Indigo',size = 14),\n",
    "            buttons=list([ \n",
    "                dict(label=\"All\", \n",
    "                     method=\"update\", \n",
    "                     args=[ {\"visible\": [True, True, True]}, \n",
    "                            {'showlegend' : True} \n",
    "                        ]),\n",
    "                dict(label=\"roles\", \n",
    "                     method=\"update\", \n",
    "                     args=[ {\"visible\": [True, False, False]}, \n",
    "                            {'showlegend' : True} \n",
    "                        ]), \n",
    "                dict(label='Location', \n",
    "                     method=\"update\", \n",
    "                     args=[ {\"visible\": [False, True, False]}, \n",
    "                            {'showlegend' : True} \n",
    "                     ]), \n",
    "                dict(label='Company', \n",
    "                     method=\"update\", \n",
    "                     args=[ {\"visible\": [False, False, True]}, \n",
    "                            {'showlegend' : True}]),\n",
    "            ]),\n",
    "        )])\n",
    "\n",
    "fig.update_layout(\n",
    "    annotations=[\n",
    "        dict(text=\"Choose:\", showarrow=False,\n",
    "             x=0, y=1.075, yref=\"paper\", align=\"right\",\n",
    "             font=dict(size=16,color = 'DarkSlateBlue'))])\n",
    "\n",
    "fig.update_layout(title =\"Top 10 roles, Locations and Companies\",\n",
    "                  title_x = 0.5,\n",
    "                  title_font = dict(size = 20, color = 'MidnightBlue'))\n",
    "fig.show(renderer='nteract')"
   ]
  },
  {
   "cell_type": "code",
   "execution_count": 11,
   "metadata": {},
   "outputs": [],
   "source": [
    "dfp = df['roles'].value_counts().head(10).sort_values(ascending = True).reset_index()\n",
    "dfl = df['locations'].value_counts().head(10).sort_values(ascending = True).reset_index()\n",
    "dfc = df['companies'].value_counts().head(10).sort_values(ascending = True).reset_index()\n",
    "\n",
    "fig = go.Figure()\n",
    "\n",
    "fig.add_trace(go.Bar(x = dfp['roles'],\n",
    "                     y = dfp['index'],\n",
    "                     orientation='h',\n",
    "                     name = 'roles',\n",
    "                     marker = dict(color = 'LightCoral')))\n",
    "\n",
    "fig.add_trace(go.Bar(x = dfl['locations'],\n",
    "                     y = dfl['index'],\n",
    "                     orientation='h',\n",
    "                     name = 'Locations',\n",
    "                     marker = dict(color = 'CadetBlue')))\n",
    "\n",
    "fig.add_trace(go.Bar(x = dfc['companies'],\n",
    "                     y = dfc['index'],\n",
    "                     orientation='h',\n",
    "                     name = 'Company',\n",
    "                     marker = dict(color = 'SteelBlue')))\n",
    "\n",
    "fig.update_layout( \n",
    "    updatemenus=[ \n",
    "        dict( \n",
    "            type = \"buttons\",\n",
    "            direction=\"left\", \n",
    "            pad={\"r\": 10, \"t\": 10},\n",
    "            showactive=True, \n",
    "            x=0.16, \n",
    "            xanchor=\"left\",\n",
    "            y=1.12, \n",
    "            yanchor=\"top\",\n",
    "            font = dict(color = 'Indigo',size = 14),\n",
    "            buttons=list([ \n",
    "                dict(label=\"All\", \n",
    "                     method=\"update\", \n",
    "                     args=[ {\"visible\": [True, True, True]}, \n",
    "                            {'showlegend' : True} \n",
    "                        ]),\n",
    "                dict(label=\"roles\", \n",
    "                     method=\"update\", \n",
    "                     args=[ {\"visible\": [True, False, False]}, \n",
    "                            {'showlegend' : True} \n",
    "                        ]), \n",
    "                dict(label='Location', \n",
    "                     method=\"update\", \n",
    "                     args=[ {\"visible\": [False, True, False]}, \n",
    "                            {'showlegend' : True} \n",
    "                     ]), \n",
    "                dict(label='Company', \n",
    "                     method=\"update\", \n",
    "                     args=[ {\"visible\": [False, False, True]}, \n",
    "                            {'showlegend' : True}]),\n",
    "            ]),\n",
    "        )])\n",
    "\n",
    "fig.update_layout(\n",
    "    annotations=[\n",
    "        dict(text=\"Choose:\", showarrow=False,\n",
    "             x=0, y=1.075, yref=\"paper\", align=\"right\",\n",
    "             font=dict(size=16,color = 'DarkSlateBlue'))])\n",
    "\n",
    "fig.update_layout(title =\"Top 10 roles, Locations and Companies\",\n",
    "                  title_x = 0.5,\n",
    "                  title_font = dict(size = 20, color = 'MidnightBlue'))\n",
    "fig.show(renderer='browser')"
   ]
  },
  {
   "cell_type": "code",
   "execution_count": 15,
   "metadata": {},
   "outputs": [
    {
     "data": {
      "application/json": {
       "data": [
        {
         "marker": {
          "color": "LightCoral"
         },
         "name": "roles",
         "orientation": "h",
         "type": "bar",
         "x": [
          7,
          8,
          8,
          8,
          9,
          12,
          13,
          28,
          64,
          343
         ],
         "y": [
          "SENIOR DATA SCIENTIST AND MACHINE LEARNING ENGINEER",
          "Data Science Engineer",
          "Data Engineer",
          "Sr Data Scientist",
          "DATA SCIENTIST",
          "Sr. Data Scientist",
          "Full Stack Data Scientist",
          "Lead Data Scientist",
          "Senior Data Scientist",
          "Data Scientist"
         ]
        },
        {
         "marker": {
          "color": "CadetBlue"
         },
         "name": "Locations",
         "orientation": "h",
         "type": "bar",
         "x": [
          16,
          19,
          28,
          53,
          55,
          78,
          101,
          109,
          134,
          361
         ],
         "y": [
          "India",
          "Delhi NCR, Gurgaon",
          "Delhi",
          "Chennai",
          "Noida",
          "Gurgaon",
          "Hyderabad",
          "Pune",
          "Mumbai",
          "Bengaluru"
         ]
        },
        {
         "marker": {
          "color": "SteelBlue"
         },
         "name": "Company",
         "orientation": "h",
         "type": "bar",
         "x": [
          9,
          9,
          9,
          9,
          9,
          10,
          11,
          16,
          30,
          67
         ],
         "y": [
          "Hyrefox",
          "Walmart Labs",
          "Maven Workforce Pvt. Ltd",
          "Catalyst",
          "Wolters Kluwer India Pvt Ltd",
          "IHS India",
          "Career Maker",
          "AXCESS CONSULTANCY SERVICES",
          "Analytics Vidhya Educon Pvt. Ltd",
          "Huquo Consulting Pvt. Ltd"
         ]
        }
       ],
       "layout": {
        "annotations": [
         {
          "align": "right",
          "font": {
           "color": "DarkSlateBlue",
           "size": 16
          },
          "showarrow": false,
          "text": "Choose:",
          "x": 0,
          "y": 1.075,
          "yref": "paper"
         }
        ],
        "template": {
         "data": {
          "bar": [
           {
            "error_x": {
             "color": "#2a3f5f"
            },
            "error_y": {
             "color": "#2a3f5f"
            },
            "marker": {
             "line": {
              "color": "#E5ECF6",
              "width": 0.5
             },
             "pattern": {
              "fillmode": "overlay",
              "size": 10,
              "solidity": 0.2
             }
            },
            "type": "bar"
           }
          ],
          "barpolar": [
           {
            "marker": {
             "line": {
              "color": "#E5ECF6",
              "width": 0.5
             },
             "pattern": {
              "fillmode": "overlay",
              "size": 10,
              "solidity": 0.2
             }
            },
            "type": "barpolar"
           }
          ],
          "carpet": [
           {
            "aaxis": {
             "endlinecolor": "#2a3f5f",
             "gridcolor": "white",
             "linecolor": "white",
             "minorgridcolor": "white",
             "startlinecolor": "#2a3f5f"
            },
            "baxis": {
             "endlinecolor": "#2a3f5f",
             "gridcolor": "white",
             "linecolor": "white",
             "minorgridcolor": "white",
             "startlinecolor": "#2a3f5f"
            },
            "type": "carpet"
           }
          ],
          "choropleth": [
           {
            "colorbar": {
             "outlinewidth": 0,
             "ticks": ""
            },
            "type": "choropleth"
           }
          ],
          "contour": [
           {
            "colorbar": {
             "outlinewidth": 0,
             "ticks": ""
            },
            "colorscale": [
             [
              0,
              "#0d0887"
             ],
             [
              0.1111111111111111,
              "#46039f"
             ],
             [
              0.2222222222222222,
              "#7201a8"
             ],
             [
              0.3333333333333333,
              "#9c179e"
             ],
             [
              0.4444444444444444,
              "#bd3786"
             ],
             [
              0.5555555555555556,
              "#d8576b"
             ],
             [
              0.6666666666666666,
              "#ed7953"
             ],
             [
              0.7777777777777778,
              "#fb9f3a"
             ],
             [
              0.8888888888888888,
              "#fdca26"
             ],
             [
              1,
              "#f0f921"
             ]
            ],
            "type": "contour"
           }
          ],
          "contourcarpet": [
           {
            "colorbar": {
             "outlinewidth": 0,
             "ticks": ""
            },
            "type": "contourcarpet"
           }
          ],
          "heatmap": [
           {
            "colorbar": {
             "outlinewidth": 0,
             "ticks": ""
            },
            "colorscale": [
             [
              0,
              "#0d0887"
             ],
             [
              0.1111111111111111,
              "#46039f"
             ],
             [
              0.2222222222222222,
              "#7201a8"
             ],
             [
              0.3333333333333333,
              "#9c179e"
             ],
             [
              0.4444444444444444,
              "#bd3786"
             ],
             [
              0.5555555555555556,
              "#d8576b"
             ],
             [
              0.6666666666666666,
              "#ed7953"
             ],
             [
              0.7777777777777778,
              "#fb9f3a"
             ],
             [
              0.8888888888888888,
              "#fdca26"
             ],
             [
              1,
              "#f0f921"
             ]
            ],
            "type": "heatmap"
           }
          ],
          "heatmapgl": [
           {
            "colorbar": {
             "outlinewidth": 0,
             "ticks": ""
            },
            "colorscale": [
             [
              0,
              "#0d0887"
             ],
             [
              0.1111111111111111,
              "#46039f"
             ],
             [
              0.2222222222222222,
              "#7201a8"
             ],
             [
              0.3333333333333333,
              "#9c179e"
             ],
             [
              0.4444444444444444,
              "#bd3786"
             ],
             [
              0.5555555555555556,
              "#d8576b"
             ],
             [
              0.6666666666666666,
              "#ed7953"
             ],
             [
              0.7777777777777778,
              "#fb9f3a"
             ],
             [
              0.8888888888888888,
              "#fdca26"
             ],
             [
              1,
              "#f0f921"
             ]
            ],
            "type": "heatmapgl"
           }
          ],
          "histogram": [
           {
            "marker": {
             "pattern": {
              "fillmode": "overlay",
              "size": 10,
              "solidity": 0.2
             }
            },
            "type": "histogram"
           }
          ],
          "histogram2d": [
           {
            "colorbar": {
             "outlinewidth": 0,
             "ticks": ""
            },
            "colorscale": [
             [
              0,
              "#0d0887"
             ],
             [
              0.1111111111111111,
              "#46039f"
             ],
             [
              0.2222222222222222,
              "#7201a8"
             ],
             [
              0.3333333333333333,
              "#9c179e"
             ],
             [
              0.4444444444444444,
              "#bd3786"
             ],
             [
              0.5555555555555556,
              "#d8576b"
             ],
             [
              0.6666666666666666,
              "#ed7953"
             ],
             [
              0.7777777777777778,
              "#fb9f3a"
             ],
             [
              0.8888888888888888,
              "#fdca26"
             ],
             [
              1,
              "#f0f921"
             ]
            ],
            "type": "histogram2d"
           }
          ],
          "histogram2dcontour": [
           {
            "colorbar": {
             "outlinewidth": 0,
             "ticks": ""
            },
            "colorscale": [
             [
              0,
              "#0d0887"
             ],
             [
              0.1111111111111111,
              "#46039f"
             ],
             [
              0.2222222222222222,
              "#7201a8"
             ],
             [
              0.3333333333333333,
              "#9c179e"
             ],
             [
              0.4444444444444444,
              "#bd3786"
             ],
             [
              0.5555555555555556,
              "#d8576b"
             ],
             [
              0.6666666666666666,
              "#ed7953"
             ],
             [
              0.7777777777777778,
              "#fb9f3a"
             ],
             [
              0.8888888888888888,
              "#fdca26"
             ],
             [
              1,
              "#f0f921"
             ]
            ],
            "type": "histogram2dcontour"
           }
          ],
          "mesh3d": [
           {
            "colorbar": {
             "outlinewidth": 0,
             "ticks": ""
            },
            "type": "mesh3d"
           }
          ],
          "parcoords": [
           {
            "line": {
             "colorbar": {
              "outlinewidth": 0,
              "ticks": ""
             }
            },
            "type": "parcoords"
           }
          ],
          "pie": [
           {
            "automargin": true,
            "type": "pie"
           }
          ],
          "scatter": [
           {
            "marker": {
             "colorbar": {
              "outlinewidth": 0,
              "ticks": ""
             }
            },
            "type": "scatter"
           }
          ],
          "scatter3d": [
           {
            "line": {
             "colorbar": {
              "outlinewidth": 0,
              "ticks": ""
             }
            },
            "marker": {
             "colorbar": {
              "outlinewidth": 0,
              "ticks": ""
             }
            },
            "type": "scatter3d"
           }
          ],
          "scattercarpet": [
           {
            "marker": {
             "colorbar": {
              "outlinewidth": 0,
              "ticks": ""
             }
            },
            "type": "scattercarpet"
           }
          ],
          "scattergeo": [
           {
            "marker": {
             "colorbar": {
              "outlinewidth": 0,
              "ticks": ""
             }
            },
            "type": "scattergeo"
           }
          ],
          "scattergl": [
           {
            "marker": {
             "colorbar": {
              "outlinewidth": 0,
              "ticks": ""
             }
            },
            "type": "scattergl"
           }
          ],
          "scattermapbox": [
           {
            "marker": {
             "colorbar": {
              "outlinewidth": 0,
              "ticks": ""
             }
            },
            "type": "scattermapbox"
           }
          ],
          "scatterpolar": [
           {
            "marker": {
             "colorbar": {
              "outlinewidth": 0,
              "ticks": ""
             }
            },
            "type": "scatterpolar"
           }
          ],
          "scatterpolargl": [
           {
            "marker": {
             "colorbar": {
              "outlinewidth": 0,
              "ticks": ""
             }
            },
            "type": "scatterpolargl"
           }
          ],
          "scatterternary": [
           {
            "marker": {
             "colorbar": {
              "outlinewidth": 0,
              "ticks": ""
             }
            },
            "type": "scatterternary"
           }
          ],
          "surface": [
           {
            "colorbar": {
             "outlinewidth": 0,
             "ticks": ""
            },
            "colorscale": [
             [
              0,
              "#0d0887"
             ],
             [
              0.1111111111111111,
              "#46039f"
             ],
             [
              0.2222222222222222,
              "#7201a8"
             ],
             [
              0.3333333333333333,
              "#9c179e"
             ],
             [
              0.4444444444444444,
              "#bd3786"
             ],
             [
              0.5555555555555556,
              "#d8576b"
             ],
             [
              0.6666666666666666,
              "#ed7953"
             ],
             [
              0.7777777777777778,
              "#fb9f3a"
             ],
             [
              0.8888888888888888,
              "#fdca26"
             ],
             [
              1,
              "#f0f921"
             ]
            ],
            "type": "surface"
           }
          ],
          "table": [
           {
            "cells": {
             "fill": {
              "color": "#EBF0F8"
             },
             "line": {
              "color": "white"
             }
            },
            "header": {
             "fill": {
              "color": "#C8D4E3"
             },
             "line": {
              "color": "white"
             }
            },
            "type": "table"
           }
          ]
         },
         "layout": {
          "annotationdefaults": {
           "arrowcolor": "#2a3f5f",
           "arrowhead": 0,
           "arrowwidth": 1
          },
          "autotypenumbers": "strict",
          "coloraxis": {
           "colorbar": {
            "outlinewidth": 0,
            "ticks": ""
           }
          },
          "colorscale": {
           "diverging": [
            [
             0,
             "#8e0152"
            ],
            [
             0.1,
             "#c51b7d"
            ],
            [
             0.2,
             "#de77ae"
            ],
            [
             0.3,
             "#f1b6da"
            ],
            [
             0.4,
             "#fde0ef"
            ],
            [
             0.5,
             "#f7f7f7"
            ],
            [
             0.6,
             "#e6f5d0"
            ],
            [
             0.7,
             "#b8e186"
            ],
            [
             0.8,
             "#7fbc41"
            ],
            [
             0.9,
             "#4d9221"
            ],
            [
             1,
             "#276419"
            ]
           ],
           "sequential": [
            [
             0,
             "#0d0887"
            ],
            [
             0.1111111111111111,
             "#46039f"
            ],
            [
             0.2222222222222222,
             "#7201a8"
            ],
            [
             0.3333333333333333,
             "#9c179e"
            ],
            [
             0.4444444444444444,
             "#bd3786"
            ],
            [
             0.5555555555555556,
             "#d8576b"
            ],
            [
             0.6666666666666666,
             "#ed7953"
            ],
            [
             0.7777777777777778,
             "#fb9f3a"
            ],
            [
             0.8888888888888888,
             "#fdca26"
            ],
            [
             1,
             "#f0f921"
            ]
           ],
           "sequentialminus": [
            [
             0,
             "#0d0887"
            ],
            [
             0.1111111111111111,
             "#46039f"
            ],
            [
             0.2222222222222222,
             "#7201a8"
            ],
            [
             0.3333333333333333,
             "#9c179e"
            ],
            [
             0.4444444444444444,
             "#bd3786"
            ],
            [
             0.5555555555555556,
             "#d8576b"
            ],
            [
             0.6666666666666666,
             "#ed7953"
            ],
            [
             0.7777777777777778,
             "#fb9f3a"
            ],
            [
             0.8888888888888888,
             "#fdca26"
            ],
            [
             1,
             "#f0f921"
            ]
           ]
          },
          "colorway": [
           "#636efa",
           "#EF553B",
           "#00cc96",
           "#ab63fa",
           "#FFA15A",
           "#19d3f3",
           "#FF6692",
           "#B6E880",
           "#FF97FF",
           "#FECB52"
          ],
          "font": {
           "color": "#2a3f5f"
          },
          "geo": {
           "bgcolor": "white",
           "lakecolor": "white",
           "landcolor": "#E5ECF6",
           "showlakes": true,
           "showland": true,
           "subunitcolor": "white"
          },
          "hoverlabel": {
           "align": "left"
          },
          "hovermode": "closest",
          "mapbox": {
           "style": "light"
          },
          "paper_bgcolor": "white",
          "plot_bgcolor": "#E5ECF6",
          "polar": {
           "angularaxis": {
            "gridcolor": "white",
            "linecolor": "white",
            "ticks": ""
           },
           "bgcolor": "#E5ECF6",
           "radialaxis": {
            "gridcolor": "white",
            "linecolor": "white",
            "ticks": ""
           }
          },
          "scene": {
           "xaxis": {
            "backgroundcolor": "#E5ECF6",
            "gridcolor": "white",
            "gridwidth": 2,
            "linecolor": "white",
            "showbackground": true,
            "ticks": "",
            "zerolinecolor": "white"
           },
           "yaxis": {
            "backgroundcolor": "#E5ECF6",
            "gridcolor": "white",
            "gridwidth": 2,
            "linecolor": "white",
            "showbackground": true,
            "ticks": "",
            "zerolinecolor": "white"
           },
           "zaxis": {
            "backgroundcolor": "#E5ECF6",
            "gridcolor": "white",
            "gridwidth": 2,
            "linecolor": "white",
            "showbackground": true,
            "ticks": "",
            "zerolinecolor": "white"
           }
          },
          "shapedefaults": {
           "line": {
            "color": "#2a3f5f"
           }
          },
          "ternary": {
           "aaxis": {
            "gridcolor": "white",
            "linecolor": "white",
            "ticks": ""
           },
           "baxis": {
            "gridcolor": "white",
            "linecolor": "white",
            "ticks": ""
           },
           "bgcolor": "#E5ECF6",
           "caxis": {
            "gridcolor": "white",
            "linecolor": "white",
            "ticks": ""
           }
          },
          "title": {
           "x": 0.05
          },
          "xaxis": {
           "automargin": true,
           "gridcolor": "white",
           "linecolor": "white",
           "ticks": "",
           "title": {
            "standoff": 15
           },
           "zerolinecolor": "white",
           "zerolinewidth": 2
          },
          "yaxis": {
           "automargin": true,
           "gridcolor": "white",
           "linecolor": "white",
           "ticks": "",
           "title": {
            "standoff": 15
           },
           "zerolinecolor": "white",
           "zerolinewidth": 2
          }
         }
        },
        "title": {
         "font": {
          "color": "MidnightBlue",
          "size": 20
         },
         "text": "Top 10 roles, Locations and Companies",
         "x": 0.5
        },
        "updatemenus": [
         {
          "buttons": [
           {
            "args": [
             {
              "visible": [
               true,
               true,
               true
              ]
             },
             {
              "showlegend": true
             }
            ],
            "label": "All",
            "method": "update"
           },
           {
            "args": [
             {
              "visible": [
               true,
               false,
               false
              ]
             },
             {
              "showlegend": true
             }
            ],
            "label": "roles",
            "method": "update"
           },
           {
            "args": [
             {
              "visible": [
               false,
               true,
               false
              ]
             },
             {
              "showlegend": true
             }
            ],
            "label": "Location",
            "method": "update"
           },
           {
            "args": [
             {
              "visible": [
               false,
               false,
               true
              ]
             },
             {
              "showlegend": true
             }
            ],
            "label": "Company",
            "method": "update"
           }
          ],
          "direction": "left",
          "font": {
           "color": "Indigo",
           "size": 14
          },
          "pad": {
           "r": 10,
           "t": 10
          },
          "showactive": true,
          "type": "buttons",
          "x": 0.16,
          "xanchor": "left",
          "y": 1.12,
          "yanchor": "top"
         }
        ]
       }
      }
     },
     "metadata": {},
     "output_type": "display_data"
    }
   ],
   "source": [
    "dfp = df['roles'].value_counts().head(10).sort_values(ascending = True).reset_index()\n",
    "dfl = df['locations'].value_counts().head(10).sort_values(ascending = True).reset_index()\n",
    "dfc = df['companies'].value_counts().head(10).sort_values(ascending = True).reset_index()\n",
    "\n",
    "fig = go.Figure()\n",
    "\n",
    "fig.add_trace(go.Bar(x = dfp['roles'],\n",
    "                     y = dfp['index'],\n",
    "                     orientation='h',\n",
    "                     name = 'roles',\n",
    "                     marker = dict(color = 'LightCoral')))\n",
    "\n",
    "fig.add_trace(go.Bar(x = dfl['locations'],\n",
    "                     y = dfl['index'],\n",
    "                     orientation='h',\n",
    "                     name = 'Locations',\n",
    "                     marker = dict(color = 'CadetBlue')))\n",
    "\n",
    "fig.add_trace(go.Bar(x = dfc['companies'],\n",
    "                     y = dfc['index'],\n",
    "                     orientation='h',\n",
    "                     name = 'Company',\n",
    "                     marker = dict(color = 'SteelBlue')))\n",
    "\n",
    "fig.update_layout( \n",
    "    updatemenus=[ \n",
    "        dict( \n",
    "            type = \"buttons\",\n",
    "            direction=\"left\", \n",
    "            pad={\"r\": 10, \"t\": 10},\n",
    "            showactive=True, \n",
    "            x=0.16, \n",
    "            xanchor=\"left\",\n",
    "            y=1.12, \n",
    "            yanchor=\"top\",\n",
    "            font = dict(color = 'Indigo',size = 14),\n",
    "            buttons=list([ \n",
    "                dict(label=\"All\", \n",
    "                     method=\"update\", \n",
    "                     args=[ {\"visible\": [True, True, True]}, \n",
    "                            {'showlegend' : True} \n",
    "                        ]),\n",
    "                dict(label=\"roles\", \n",
    "                     method=\"update\", \n",
    "                     args=[ {\"visible\": [True, False, False]}, \n",
    "                            {'showlegend' : True} \n",
    "                        ]), \n",
    "                dict(label='Location', \n",
    "                     method=\"update\", \n",
    "                     args=[ {\"visible\": [False, True, False]}, \n",
    "                            {'showlegend' : True} \n",
    "                     ]), \n",
    "                dict(label='Company', \n",
    "                     method=\"update\", \n",
    "                     args=[ {\"visible\": [False, False, True]}, \n",
    "                            {'showlegend' : True}]),\n",
    "            ]),\n",
    "        )])\n",
    "\n",
    "fig.update_layout(\n",
    "    annotations=[\n",
    "        dict(text=\"Choose:\", showarrow=False,\n",
    "             x=0, y=1.075, yref=\"paper\", align=\"right\",\n",
    "             font=dict(size=16,color = 'DarkSlateBlue'))])\n",
    "\n",
    "fig.update_layout(title =\"Top 10 roles, Locations and Companies\",\n",
    "                  title_x = 0.5,\n",
    "                  title_font = dict(size = 20, color = 'MidnightBlue'))\n",
    "fig.show(renderer='json')"
   ]
  },
  {
   "cell_type": "code",
   "execution_count": 16,
   "metadata": {},
   "outputs": [
    {
     "data": {
      "text/html": [
       "<div>            <script src=\"https://cdnjs.cloudflare.com/ajax/libs/mathjax/2.7.5/MathJax.js?config=TeX-AMS-MML_SVG\"></script><script type=\"text/javascript\">if (window.MathJax) {MathJax.Hub.Config({SVG: {font: \"STIX-Web\"}});}</script>                <script type=\"text/javascript\">window.PlotlyConfig = {MathJaxConfig: 'local'};</script>\n",
       "        <script src=\"https://cdn.plot.ly/plotly-2.8.3.min.js\"></script>                <div id=\"fdb8251c-6d1d-4b23-8c13-15874e283452\" class=\"plotly-graph-div\" style=\"height:525px; width:100%;\"></div>            <script type=\"text/javascript\">                                    window.PLOTLYENV=window.PLOTLYENV || {};                                    if (document.getElementById(\"fdb8251c-6d1d-4b23-8c13-15874e283452\")) {                    Plotly.newPlot(                        \"fdb8251c-6d1d-4b23-8c13-15874e283452\",                        [{\"marker\":{\"color\":\"LightCoral\"},\"name\":\"roles\",\"orientation\":\"h\",\"x\":[7,8,8,8,9,12,13,28,64,343],\"y\":[\"SENIOR DATA SCIENTIST AND MACHINE LEARNING ENGINEER\",\"Data Science Engineer\",\"Data Engineer\",\"Sr Data Scientist\",\"DATA SCIENTIST\",\"Sr. Data Scientist\",\"Full Stack Data Scientist\",\"Lead Data Scientist\",\"Senior Data Scientist\",\"Data Scientist\"],\"type\":\"bar\"},{\"marker\":{\"color\":\"CadetBlue\"},\"name\":\"Locations\",\"orientation\":\"h\",\"x\":[16,19,28,53,55,78,101,109,134,361],\"y\":[\"India\",\"Delhi NCR, Gurgaon\",\"Delhi\",\"Chennai\",\"Noida\",\"Gurgaon\",\"Hyderabad\",\"Pune\",\"Mumbai\",\"Bengaluru\"],\"type\":\"bar\"},{\"marker\":{\"color\":\"SteelBlue\"},\"name\":\"Company\",\"orientation\":\"h\",\"x\":[9,9,9,9,9,10,11,16,30,67],\"y\":[\"Hyrefox\",\"Walmart Labs\",\"Maven Workforce Pvt. Ltd\",\"Catalyst\",\"Wolters Kluwer India Pvt Ltd\",\"IHS India\",\"Career Maker\",\"AXCESS CONSULTANCY SERVICES\",\"Analytics Vidhya Educon Pvt. Ltd\",\"Huquo Consulting Pvt. Ltd\"],\"type\":\"bar\"}],                        {\"template\":{\"data\":{\"bar\":[{\"error_x\":{\"color\":\"#2a3f5f\"},\"error_y\":{\"color\":\"#2a3f5f\"},\"marker\":{\"line\":{\"color\":\"#E5ECF6\",\"width\":0.5},\"pattern\":{\"fillmode\":\"overlay\",\"size\":10,\"solidity\":0.2}},\"type\":\"bar\"}],\"barpolar\":[{\"marker\":{\"line\":{\"color\":\"#E5ECF6\",\"width\":0.5},\"pattern\":{\"fillmode\":\"overlay\",\"size\":10,\"solidity\":0.2}},\"type\":\"barpolar\"}],\"carpet\":[{\"aaxis\":{\"endlinecolor\":\"#2a3f5f\",\"gridcolor\":\"white\",\"linecolor\":\"white\",\"minorgridcolor\":\"white\",\"startlinecolor\":\"#2a3f5f\"},\"baxis\":{\"endlinecolor\":\"#2a3f5f\",\"gridcolor\":\"white\",\"linecolor\":\"white\",\"minorgridcolor\":\"white\",\"startlinecolor\":\"#2a3f5f\"},\"type\":\"carpet\"}],\"choropleth\":[{\"colorbar\":{\"outlinewidth\":0,\"ticks\":\"\"},\"type\":\"choropleth\"}],\"contour\":[{\"colorbar\":{\"outlinewidth\":0,\"ticks\":\"\"},\"colorscale\":[[0.0,\"#0d0887\"],[0.1111111111111111,\"#46039f\"],[0.2222222222222222,\"#7201a8\"],[0.3333333333333333,\"#9c179e\"],[0.4444444444444444,\"#bd3786\"],[0.5555555555555556,\"#d8576b\"],[0.6666666666666666,\"#ed7953\"],[0.7777777777777778,\"#fb9f3a\"],[0.8888888888888888,\"#fdca26\"],[1.0,\"#f0f921\"]],\"type\":\"contour\"}],\"contourcarpet\":[{\"colorbar\":{\"outlinewidth\":0,\"ticks\":\"\"},\"type\":\"contourcarpet\"}],\"heatmap\":[{\"colorbar\":{\"outlinewidth\":0,\"ticks\":\"\"},\"colorscale\":[[0.0,\"#0d0887\"],[0.1111111111111111,\"#46039f\"],[0.2222222222222222,\"#7201a8\"],[0.3333333333333333,\"#9c179e\"],[0.4444444444444444,\"#bd3786\"],[0.5555555555555556,\"#d8576b\"],[0.6666666666666666,\"#ed7953\"],[0.7777777777777778,\"#fb9f3a\"],[0.8888888888888888,\"#fdca26\"],[1.0,\"#f0f921\"]],\"type\":\"heatmap\"}],\"heatmapgl\":[{\"colorbar\":{\"outlinewidth\":0,\"ticks\":\"\"},\"colorscale\":[[0.0,\"#0d0887\"],[0.1111111111111111,\"#46039f\"],[0.2222222222222222,\"#7201a8\"],[0.3333333333333333,\"#9c179e\"],[0.4444444444444444,\"#bd3786\"],[0.5555555555555556,\"#d8576b\"],[0.6666666666666666,\"#ed7953\"],[0.7777777777777778,\"#fb9f3a\"],[0.8888888888888888,\"#fdca26\"],[1.0,\"#f0f921\"]],\"type\":\"heatmapgl\"}],\"histogram\":[{\"marker\":{\"pattern\":{\"fillmode\":\"overlay\",\"size\":10,\"solidity\":0.2}},\"type\":\"histogram\"}],\"histogram2d\":[{\"colorbar\":{\"outlinewidth\":0,\"ticks\":\"\"},\"colorscale\":[[0.0,\"#0d0887\"],[0.1111111111111111,\"#46039f\"],[0.2222222222222222,\"#7201a8\"],[0.3333333333333333,\"#9c179e\"],[0.4444444444444444,\"#bd3786\"],[0.5555555555555556,\"#d8576b\"],[0.6666666666666666,\"#ed7953\"],[0.7777777777777778,\"#fb9f3a\"],[0.8888888888888888,\"#fdca26\"],[1.0,\"#f0f921\"]],\"type\":\"histogram2d\"}],\"histogram2dcontour\":[{\"colorbar\":{\"outlinewidth\":0,\"ticks\":\"\"},\"colorscale\":[[0.0,\"#0d0887\"],[0.1111111111111111,\"#46039f\"],[0.2222222222222222,\"#7201a8\"],[0.3333333333333333,\"#9c179e\"],[0.4444444444444444,\"#bd3786\"],[0.5555555555555556,\"#d8576b\"],[0.6666666666666666,\"#ed7953\"],[0.7777777777777778,\"#fb9f3a\"],[0.8888888888888888,\"#fdca26\"],[1.0,\"#f0f921\"]],\"type\":\"histogram2dcontour\"}],\"mesh3d\":[{\"colorbar\":{\"outlinewidth\":0,\"ticks\":\"\"},\"type\":\"mesh3d\"}],\"parcoords\":[{\"line\":{\"colorbar\":{\"outlinewidth\":0,\"ticks\":\"\"}},\"type\":\"parcoords\"}],\"pie\":[{\"automargin\":true,\"type\":\"pie\"}],\"scatter\":[{\"marker\":{\"colorbar\":{\"outlinewidth\":0,\"ticks\":\"\"}},\"type\":\"scatter\"}],\"scatter3d\":[{\"line\":{\"colorbar\":{\"outlinewidth\":0,\"ticks\":\"\"}},\"marker\":{\"colorbar\":{\"outlinewidth\":0,\"ticks\":\"\"}},\"type\":\"scatter3d\"}],\"scattercarpet\":[{\"marker\":{\"colorbar\":{\"outlinewidth\":0,\"ticks\":\"\"}},\"type\":\"scattercarpet\"}],\"scattergeo\":[{\"marker\":{\"colorbar\":{\"outlinewidth\":0,\"ticks\":\"\"}},\"type\":\"scattergeo\"}],\"scattergl\":[{\"marker\":{\"colorbar\":{\"outlinewidth\":0,\"ticks\":\"\"}},\"type\":\"scattergl\"}],\"scattermapbox\":[{\"marker\":{\"colorbar\":{\"outlinewidth\":0,\"ticks\":\"\"}},\"type\":\"scattermapbox\"}],\"scatterpolar\":[{\"marker\":{\"colorbar\":{\"outlinewidth\":0,\"ticks\":\"\"}},\"type\":\"scatterpolar\"}],\"scatterpolargl\":[{\"marker\":{\"colorbar\":{\"outlinewidth\":0,\"ticks\":\"\"}},\"type\":\"scatterpolargl\"}],\"scatterternary\":[{\"marker\":{\"colorbar\":{\"outlinewidth\":0,\"ticks\":\"\"}},\"type\":\"scatterternary\"}],\"surface\":[{\"colorbar\":{\"outlinewidth\":0,\"ticks\":\"\"},\"colorscale\":[[0.0,\"#0d0887\"],[0.1111111111111111,\"#46039f\"],[0.2222222222222222,\"#7201a8\"],[0.3333333333333333,\"#9c179e\"],[0.4444444444444444,\"#bd3786\"],[0.5555555555555556,\"#d8576b\"],[0.6666666666666666,\"#ed7953\"],[0.7777777777777778,\"#fb9f3a\"],[0.8888888888888888,\"#fdca26\"],[1.0,\"#f0f921\"]],\"type\":\"surface\"}],\"table\":[{\"cells\":{\"fill\":{\"color\":\"#EBF0F8\"},\"line\":{\"color\":\"white\"}},\"header\":{\"fill\":{\"color\":\"#C8D4E3\"},\"line\":{\"color\":\"white\"}},\"type\":\"table\"}]},\"layout\":{\"annotationdefaults\":{\"arrowcolor\":\"#2a3f5f\",\"arrowhead\":0,\"arrowwidth\":1},\"autotypenumbers\":\"strict\",\"coloraxis\":{\"colorbar\":{\"outlinewidth\":0,\"ticks\":\"\"}},\"colorscale\":{\"diverging\":[[0,\"#8e0152\"],[0.1,\"#c51b7d\"],[0.2,\"#de77ae\"],[0.3,\"#f1b6da\"],[0.4,\"#fde0ef\"],[0.5,\"#f7f7f7\"],[0.6,\"#e6f5d0\"],[0.7,\"#b8e186\"],[0.8,\"#7fbc41\"],[0.9,\"#4d9221\"],[1,\"#276419\"]],\"sequential\":[[0.0,\"#0d0887\"],[0.1111111111111111,\"#46039f\"],[0.2222222222222222,\"#7201a8\"],[0.3333333333333333,\"#9c179e\"],[0.4444444444444444,\"#bd3786\"],[0.5555555555555556,\"#d8576b\"],[0.6666666666666666,\"#ed7953\"],[0.7777777777777778,\"#fb9f3a\"],[0.8888888888888888,\"#fdca26\"],[1.0,\"#f0f921\"]],\"sequentialminus\":[[0.0,\"#0d0887\"],[0.1111111111111111,\"#46039f\"],[0.2222222222222222,\"#7201a8\"],[0.3333333333333333,\"#9c179e\"],[0.4444444444444444,\"#bd3786\"],[0.5555555555555556,\"#d8576b\"],[0.6666666666666666,\"#ed7953\"],[0.7777777777777778,\"#fb9f3a\"],[0.8888888888888888,\"#fdca26\"],[1.0,\"#f0f921\"]]},\"colorway\":[\"#636efa\",\"#EF553B\",\"#00cc96\",\"#ab63fa\",\"#FFA15A\",\"#19d3f3\",\"#FF6692\",\"#B6E880\",\"#FF97FF\",\"#FECB52\"],\"font\":{\"color\":\"#2a3f5f\"},\"geo\":{\"bgcolor\":\"white\",\"lakecolor\":\"white\",\"landcolor\":\"#E5ECF6\",\"showlakes\":true,\"showland\":true,\"subunitcolor\":\"white\"},\"hoverlabel\":{\"align\":\"left\"},\"hovermode\":\"closest\",\"mapbox\":{\"style\":\"light\"},\"paper_bgcolor\":\"white\",\"plot_bgcolor\":\"#E5ECF6\",\"polar\":{\"angularaxis\":{\"gridcolor\":\"white\",\"linecolor\":\"white\",\"ticks\":\"\"},\"bgcolor\":\"#E5ECF6\",\"radialaxis\":{\"gridcolor\":\"white\",\"linecolor\":\"white\",\"ticks\":\"\"}},\"scene\":{\"xaxis\":{\"backgroundcolor\":\"#E5ECF6\",\"gridcolor\":\"white\",\"gridwidth\":2,\"linecolor\":\"white\",\"showbackground\":true,\"ticks\":\"\",\"zerolinecolor\":\"white\"},\"yaxis\":{\"backgroundcolor\":\"#E5ECF6\",\"gridcolor\":\"white\",\"gridwidth\":2,\"linecolor\":\"white\",\"showbackground\":true,\"ticks\":\"\",\"zerolinecolor\":\"white\"},\"zaxis\":{\"backgroundcolor\":\"#E5ECF6\",\"gridcolor\":\"white\",\"gridwidth\":2,\"linecolor\":\"white\",\"showbackground\":true,\"ticks\":\"\",\"zerolinecolor\":\"white\"}},\"shapedefaults\":{\"line\":{\"color\":\"#2a3f5f\"}},\"ternary\":{\"aaxis\":{\"gridcolor\":\"white\",\"linecolor\":\"white\",\"ticks\":\"\"},\"baxis\":{\"gridcolor\":\"white\",\"linecolor\":\"white\",\"ticks\":\"\"},\"bgcolor\":\"#E5ECF6\",\"caxis\":{\"gridcolor\":\"white\",\"linecolor\":\"white\",\"ticks\":\"\"}},\"title\":{\"x\":0.05},\"xaxis\":{\"automargin\":true,\"gridcolor\":\"white\",\"linecolor\":\"white\",\"ticks\":\"\",\"title\":{\"standoff\":15},\"zerolinecolor\":\"white\",\"zerolinewidth\":2},\"yaxis\":{\"automargin\":true,\"gridcolor\":\"white\",\"linecolor\":\"white\",\"ticks\":\"\",\"title\":{\"standoff\":15},\"zerolinecolor\":\"white\",\"zerolinewidth\":2}}},\"updatemenus\":[{\"buttons\":[{\"args\":[{\"visible\":[true,true,true]},{\"showlegend\":true}],\"label\":\"All\",\"method\":\"update\"},{\"args\":[{\"visible\":[true,false,false]},{\"showlegend\":true}],\"label\":\"roles\",\"method\":\"update\"},{\"args\":[{\"visible\":[false,true,false]},{\"showlegend\":true}],\"label\":\"Location\",\"method\":\"update\"},{\"args\":[{\"visible\":[false,false,true]},{\"showlegend\":true}],\"label\":\"Company\",\"method\":\"update\"}],\"direction\":\"left\",\"font\":{\"color\":\"Indigo\",\"size\":14},\"pad\":{\"r\":10,\"t\":10},\"showactive\":true,\"type\":\"buttons\",\"x\":0.16,\"xanchor\":\"left\",\"y\":1.12,\"yanchor\":\"top\"}],\"annotations\":[{\"align\":\"right\",\"font\":{\"color\":\"DarkSlateBlue\",\"size\":16},\"showarrow\":false,\"text\":\"Choose:\",\"x\":0,\"y\":1.075,\"yref\":\"paper\"}],\"title\":{\"text\":\"Top 10 roles, Locations and Companies\",\"x\":0.5,\"font\":{\"size\":20,\"color\":\"MidnightBlue\"}}},                        {\"responsive\": true}                    )                };                            </script>        </div>"
      ]
     },
     "metadata": {},
     "output_type": "display_data"
    }
   ],
   "source": [
    "dfp = df['roles'].value_counts().head(10).sort_values(ascending = True).reset_index()\n",
    "dfl = df['locations'].value_counts().head(10).sort_values(ascending = True).reset_index()\n",
    "dfc = df['companies'].value_counts().head(10).sort_values(ascending = True).reset_index()\n",
    "\n",
    "fig = go.Figure()\n",
    "\n",
    "fig.add_trace(go.Bar(x = dfp['roles'],\n",
    "                     y = dfp['index'],\n",
    "                     orientation='h',\n",
    "                     name = 'roles',\n",
    "                     marker = dict(color = 'LightCoral')))\n",
    "\n",
    "fig.add_trace(go.Bar(x = dfl['locations'],\n",
    "                     y = dfl['index'],\n",
    "                     orientation='h',\n",
    "                     name = 'Locations',\n",
    "                     marker = dict(color = 'CadetBlue')))\n",
    "\n",
    "fig.add_trace(go.Bar(x = dfc['companies'],\n",
    "                     y = dfc['index'],\n",
    "                     orientation='h',\n",
    "                     name = 'Company',\n",
    "                     marker = dict(color = 'SteelBlue')))\n",
    "\n",
    "fig.update_layout( \n",
    "    updatemenus=[ \n",
    "        dict( \n",
    "            type = \"buttons\",\n",
    "            direction=\"left\", \n",
    "            pad={\"r\": 10, \"t\": 10},\n",
    "            showactive=True, \n",
    "            x=0.16, \n",
    "            xanchor=\"left\",\n",
    "            y=1.12, \n",
    "            yanchor=\"top\",\n",
    "            font = dict(color = 'Indigo',size = 14),\n",
    "            buttons=list([ \n",
    "                dict(label=\"All\", \n",
    "                     method=\"update\", \n",
    "                     args=[ {\"visible\": [True, True, True]}, \n",
    "                            {'showlegend' : True} \n",
    "                        ]),\n",
    "                dict(label=\"roles\", \n",
    "                     method=\"update\", \n",
    "                     args=[ {\"visible\": [True, False, False]}, \n",
    "                            {'showlegend' : True} \n",
    "                        ]), \n",
    "                dict(label='Location', \n",
    "                     method=\"update\", \n",
    "                     args=[ {\"visible\": [False, True, False]}, \n",
    "                            {'showlegend' : True} \n",
    "                     ]), \n",
    "                dict(label='Company', \n",
    "                     method=\"update\", \n",
    "                     args=[ {\"visible\": [False, False, True]}, \n",
    "                            {'showlegend' : True}]),\n",
    "            ]),\n",
    "        )])\n",
    "\n",
    "fig.update_layout(\n",
    "    annotations=[\n",
    "        dict(text=\"Choose:\", showarrow=False,\n",
    "             x=0, y=1.075, yref=\"paper\", align=\"right\",\n",
    "             font=dict(size=16,color = 'DarkSlateBlue'))])\n",
    "\n",
    "fig.update_layout(title =\"Top 10 roles, Locations and Companies\",\n",
    "                  title_x = 0.5,\n",
    "                  title_font = dict(size = 20, color = 'MidnightBlue'))\n",
    "fig.show(renderer='sphinx_gallery')"
   ]
  },
  {
   "cell_type": "code",
   "execution_count": 17,
   "metadata": {},
   "outputs": [
    {
     "data": {
      "text/html": [
       "<iframe\n",
       "    scrolling=\"no\"\n",
       "    width=\"100%\"\n",
       "    height=\"545px\"\n",
       "    src=\"iframe_figures/figure_17.html\"\n",
       "    frameborder=\"0\"\n",
       "    allowfullscreen\n",
       "></iframe>\n"
      ]
     },
     "metadata": {},
     "output_type": "display_data"
    }
   ],
   "source": [
    "\n",
    "dfp = df['roles'].value_counts().head(10).sort_values(ascending = True).reset_index()\n",
    "dfl = df['locations'].value_counts().head(10).sort_values(ascending = True).reset_index()\n",
    "dfc = df['companies'].value_counts().head(10).sort_values(ascending = True).reset_index()\n",
    "\n",
    "fig = go.Figure()\n",
    "\n",
    "fig.add_trace(go.Bar(x = dfp['roles'],\n",
    "                     y = dfp['index'],\n",
    "                     orientation='h',\n",
    "                     name = 'roles',\n",
    "                     marker = dict(color = 'LightCoral')))\n",
    "\n",
    "fig.add_trace(go.Bar(x = dfl['locations'],\n",
    "                     y = dfl['index'],\n",
    "                     orientation='h',\n",
    "                     name = 'Locations',\n",
    "                     marker = dict(color = 'CadetBlue')))\n",
    "\n",
    "fig.add_trace(go.Bar(x = dfc['companies'],\n",
    "                     y = dfc['index'],\n",
    "                     orientation='h',\n",
    "                     name = 'Company',\n",
    "                     marker = dict(color = 'SteelBlue')))\n",
    "\n",
    "fig.update_layout( \n",
    "    updatemenus=[ \n",
    "        dict( \n",
    "            type = \"buttons\",\n",
    "            direction=\"left\", \n",
    "            pad={\"r\": 10, \"t\": 10},\n",
    "            showactive=True, \n",
    "            x=0.16, \n",
    "            xanchor=\"left\",\n",
    "            y=1.12, \n",
    "            yanchor=\"top\",\n",
    "            font = dict(color = 'Indigo',size = 14),\n",
    "            buttons=list([ \n",
    "                dict(label=\"All\", \n",
    "                     method=\"update\", \n",
    "                     args=[ {\"visible\": [True, True, True]}, \n",
    "                            {'showlegend' : True} \n",
    "                        ]),\n",
    "                dict(label=\"roles\", \n",
    "                     method=\"update\", \n",
    "                     args=[ {\"visible\": [True, False, False]}, \n",
    "                            {'showlegend' : True} \n",
    "                        ]), \n",
    "                dict(label='Location', \n",
    "                     method=\"update\", \n",
    "                     args=[ {\"visible\": [False, True, False]}, \n",
    "                            {'showlegend' : True} \n",
    "                     ]), \n",
    "                dict(label='Company', \n",
    "                     method=\"update\", \n",
    "                     args=[ {\"visible\": [False, False, True]}, \n",
    "                            {'showlegend' : True}]),\n",
    "            ]),\n",
    "        )])\n",
    "\n",
    "fig.update_layout(\n",
    "    annotations=[\n",
    "        dict(text=\"Choose:\", showarrow=False,\n",
    "             x=0, y=1.075, yref=\"paper\", align=\"right\",\n",
    "             font=dict(size=16,color = 'DarkSlateBlue'))])\n",
    "\n",
    "fig.update_layout(title =\"Top 10 roles, Locations and Companies\",\n",
    "                  title_x = 0.5,\n",
    "                  title_font = dict(size = 20, color = 'MidnightBlue'))\n",
    "fig.show(renderer='iframe')"
   ]
  },
  {
   "cell_type": "code",
   "execution_count": null,
   "metadata": {},
   "outputs": [],
   "source": []
  }
 ],
 "metadata": {
  "kernelspec": {
   "display_name": "Python 3",
   "language": "python",
   "name": "python3"
  },
  "language_info": {
   "codemirror_mode": {
    "name": "ipython",
    "version": 3
   },
   "file_extension": ".py",
   "mimetype": "text/x-python",
   "name": "python",
   "nbconvert_exporter": "python",
   "pygments_lexer": "ipython3",
   "version": "3.8.5"
  }
 },
 "nbformat": 4,
 "nbformat_minor": 4
}
