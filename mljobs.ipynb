{
 "cells": [
  {
   "cell_type": "code",
   "execution_count": 276,
   "metadata": {},
   "outputs": [],
   "source": [
    "import numpy as np\n",
    "import pandas as pd\n",
    "import matplotlib.pyplot as plt\n",
    "import seaborn as sns\n",
    "import plotly.graph_objs as go\n",
    "from wordcloud import WordCloud\n",
    "import nltk\n",
    "from nltk.tokenize import word_tokenize\n",
    "from nltk.stem import WordNetLemmatizer\n",
    "from matplotlib import colors \n",
    "import re\n",
    "import string\n"
   ]
  },
  {
   "cell_type": "code",
   "execution_count": 277,
   "metadata": {},
   "outputs": [],
   "source": [
    "df= pd.read_csv('DataScience_jobs.csv')"
   ]
  },
  {
   "cell_type": "code",
   "execution_count": 278,
   "metadata": {
    "scrolled": true
   },
   "outputs": [
    {
     "data": {
      "text/html": [
       "<div>\n",
       "<style scoped>\n",
       "    .dataframe tbody tr th:only-of-type {\n",
       "        vertical-align: middle;\n",
       "    }\n",
       "\n",
       "    .dataframe tbody tr th {\n",
       "        vertical-align: top;\n",
       "    }\n",
       "\n",
       "    .dataframe thead th {\n",
       "        text-align: right;\n",
       "    }\n",
       "</style>\n",
       "<table border=\"1\" class=\"dataframe\">\n",
       "  <thead>\n",
       "    <tr style=\"text-align: right;\">\n",
       "      <th></th>\n",
       "      <th>Unnamed: 0</th>\n",
       "      <th>roles</th>\n",
       "      <th>companies</th>\n",
       "      <th>locations</th>\n",
       "      <th>experience</th>\n",
       "      <th>skills</th>\n",
       "    </tr>\n",
       "  </thead>\n",
       "  <tbody>\n",
       "    <tr>\n",
       "      <th>0</th>\n",
       "      <td>0</td>\n",
       "      <td>Data Scientist/ Academic Counselor</td>\n",
       "      <td>GREAT LAKES E-LEARNING SERVICES PRIVATE LIMITED</td>\n",
       "      <td>Chennai, Bengaluru</td>\n",
       "      <td>2-7 Yrs</td>\n",
       "      <td>Data Science\\nArtificial Intelligence\\ntrainin...</td>\n",
       "    </tr>\n",
       "    <tr>\n",
       "      <th>1</th>\n",
       "      <td>1</td>\n",
       "      <td>Data Scientist</td>\n",
       "      <td>Shell India Markets Private Limited</td>\n",
       "      <td>Chennai</td>\n",
       "      <td>5-7 Yrs</td>\n",
       "      <td>Data Science\\nMultivariate Analysis\\nFactor An...</td>\n",
       "    </tr>\n",
       "    <tr>\n",
       "      <th>2</th>\n",
       "      <td>2</td>\n",
       "      <td>Senior Data Scientist</td>\n",
       "      <td>Decision Point</td>\n",
       "      <td>Gurgaon</td>\n",
       "      <td>3-5 Yrs</td>\n",
       "      <td>Azure\\ntimeseries forecasting\\nMachine Learnin...</td>\n",
       "    </tr>\n",
       "    <tr>\n",
       "      <th>3</th>\n",
       "      <td>3</td>\n",
       "      <td>Data Scientist - Machine Learning &amp; Statistica...</td>\n",
       "      <td>Talent Stock Solutions</td>\n",
       "      <td>Delhi</td>\n",
       "      <td>2-5 Yrs</td>\n",
       "      <td>Data Science\\nR\\nC\\nData Scientist\\nStatistica...</td>\n",
       "    </tr>\n",
       "    <tr>\n",
       "      <th>4</th>\n",
       "      <td>4</td>\n",
       "      <td>Data Scientist</td>\n",
       "      <td>Zen3Tech (A Tech Mahindra Company)</td>\n",
       "      <td>Hyderabad</td>\n",
       "      <td>3-8 Yrs</td>\n",
       "      <td>R\\nA/B Testing\\nData Manipulation\\nMachine Lea...</td>\n",
       "    </tr>\n",
       "    <tr>\n",
       "      <th>5</th>\n",
       "      <td>5</td>\n",
       "      <td>Data Scientist</td>\n",
       "      <td>Extentia Information Technology Pvt Ltd</td>\n",
       "      <td>Pune</td>\n",
       "      <td>0-2 Yrs</td>\n",
       "      <td>Machine Learning\\nPython</td>\n",
       "    </tr>\n",
       "    <tr>\n",
       "      <th>6</th>\n",
       "      <td>6</td>\n",
       "      <td>Data Scientist</td>\n",
       "      <td>KONE Elevator India Pvt. Ltd</td>\n",
       "      <td>Pune</td>\n",
       "      <td>3-5 Yrs</td>\n",
       "      <td>predictive algorithms\\nK-Means\\nGithub\\nGenera...</td>\n",
       "    </tr>\n",
       "    <tr>\n",
       "      <th>7</th>\n",
       "      <td>7</td>\n",
       "      <td>Data Scientist | Integreon Managed Solutions |...</td>\n",
       "      <td>INTEGREON MANAGED SOLUTIONS INDIA PVT LIMITED</td>\n",
       "      <td>Mumbai</td>\n",
       "      <td>2-7 Yrs</td>\n",
       "      <td>analytics\\npython\\ntableau\\nregression\\npredic...</td>\n",
       "    </tr>\n",
       "    <tr>\n",
       "      <th>8</th>\n",
       "      <td>8</td>\n",
       "      <td>Data Scientist</td>\n",
       "      <td>Bigshyft Hiring for Indus OS</td>\n",
       "      <td>Mumbai</td>\n",
       "      <td>2-5 Yrs</td>\n",
       "      <td>cassandra\\nScala\\nHadoop\\nSpark\\nPython</td>\n",
       "    </tr>\n",
       "    <tr>\n",
       "      <th>9</th>\n",
       "      <td>9</td>\n",
       "      <td>Senior Data Scientist (NLP)</td>\n",
       "      <td>Visible Alpha Solutions India Pvt. Ltd.</td>\n",
       "      <td>Mumbai</td>\n",
       "      <td>5-7 Yrs</td>\n",
       "      <td>Java\\nR\\nNLP\\nAlgorithms\\nLinux\\nWeb Technolog...</td>\n",
       "    </tr>\n",
       "  </tbody>\n",
       "</table>\n",
       "</div>"
      ],
      "text/plain": [
       "   Unnamed: 0                                              roles  \\\n",
       "0           0                 Data Scientist/ Academic Counselor   \n",
       "1           1                                     Data Scientist   \n",
       "2           2                              Senior Data Scientist   \n",
       "3           3  Data Scientist - Machine Learning & Statistica...   \n",
       "4           4                                     Data Scientist   \n",
       "5           5                                     Data Scientist   \n",
       "6           6                                     Data Scientist   \n",
       "7           7  Data Scientist | Integreon Managed Solutions |...   \n",
       "8           8                                     Data Scientist   \n",
       "9           9                        Senior Data Scientist (NLP)   \n",
       "\n",
       "                                         companies           locations  \\\n",
       "0  GREAT LAKES E-LEARNING SERVICES PRIVATE LIMITED  Chennai, Bengaluru   \n",
       "1              Shell India Markets Private Limited             Chennai   \n",
       "2                                   Decision Point             Gurgaon   \n",
       "3                           Talent Stock Solutions               Delhi   \n",
       "4               Zen3Tech (A Tech Mahindra Company)           Hyderabad   \n",
       "5          Extentia Information Technology Pvt Ltd                Pune   \n",
       "6                     KONE Elevator India Pvt. Ltd                Pune   \n",
       "7    INTEGREON MANAGED SOLUTIONS INDIA PVT LIMITED              Mumbai   \n",
       "8                     Bigshyft Hiring for Indus OS              Mumbai   \n",
       "9          Visible Alpha Solutions India Pvt. Ltd.              Mumbai   \n",
       "\n",
       "  experience                                             skills  \n",
       "0    2-7 Yrs  Data Science\\nArtificial Intelligence\\ntrainin...  \n",
       "1    5-7 Yrs  Data Science\\nMultivariate Analysis\\nFactor An...  \n",
       "2    3-5 Yrs  Azure\\ntimeseries forecasting\\nMachine Learnin...  \n",
       "3    2-5 Yrs  Data Science\\nR\\nC\\nData Scientist\\nStatistica...  \n",
       "4    3-8 Yrs  R\\nA/B Testing\\nData Manipulation\\nMachine Lea...  \n",
       "5    0-2 Yrs                           Machine Learning\\nPython  \n",
       "6    3-5 Yrs  predictive algorithms\\nK-Means\\nGithub\\nGenera...  \n",
       "7    2-7 Yrs  analytics\\npython\\ntableau\\nregression\\npredic...  \n",
       "8    2-5 Yrs            cassandra\\nScala\\nHadoop\\nSpark\\nPython  \n",
       "9    5-7 Yrs  Java\\nR\\nNLP\\nAlgorithms\\nLinux\\nWeb Technolog...  "
      ]
     },
     "execution_count": 278,
     "metadata": {},
     "output_type": "execute_result"
    }
   ],
   "source": [
    "df.head(10)"
   ]
  },
  {
   "cell_type": "code",
   "execution_count": 279,
   "metadata": {},
   "outputs": [
    {
     "data": {
      "text/html": [
       "<div>\n",
       "<style scoped>\n",
       "    .dataframe tbody tr th:only-of-type {\n",
       "        vertical-align: middle;\n",
       "    }\n",
       "\n",
       "    .dataframe tbody tr th {\n",
       "        vertical-align: top;\n",
       "    }\n",
       "\n",
       "    .dataframe thead th {\n",
       "        text-align: right;\n",
       "    }\n",
       "</style>\n",
       "<table border=\"1\" class=\"dataframe\">\n",
       "  <thead>\n",
       "    <tr style=\"text-align: right;\">\n",
       "      <th></th>\n",
       "      <th>Unnamed: 0</th>\n",
       "    </tr>\n",
       "  </thead>\n",
       "  <tbody>\n",
       "    <tr>\n",
       "      <th>count</th>\n",
       "      <td>1282.000000</td>\n",
       "    </tr>\n",
       "    <tr>\n",
       "      <th>mean</th>\n",
       "      <td>640.500000</td>\n",
       "    </tr>\n",
       "    <tr>\n",
       "      <th>std</th>\n",
       "      <td>370.225832</td>\n",
       "    </tr>\n",
       "    <tr>\n",
       "      <th>min</th>\n",
       "      <td>0.000000</td>\n",
       "    </tr>\n",
       "    <tr>\n",
       "      <th>25%</th>\n",
       "      <td>320.250000</td>\n",
       "    </tr>\n",
       "    <tr>\n",
       "      <th>50%</th>\n",
       "      <td>640.500000</td>\n",
       "    </tr>\n",
       "    <tr>\n",
       "      <th>75%</th>\n",
       "      <td>960.750000</td>\n",
       "    </tr>\n",
       "    <tr>\n",
       "      <th>max</th>\n",
       "      <td>1281.000000</td>\n",
       "    </tr>\n",
       "  </tbody>\n",
       "</table>\n",
       "</div>"
      ],
      "text/plain": [
       "        Unnamed: 0\n",
       "count  1282.000000\n",
       "mean    640.500000\n",
       "std     370.225832\n",
       "min       0.000000\n",
       "25%     320.250000\n",
       "50%     640.500000\n",
       "75%     960.750000\n",
       "max    1281.000000"
      ]
     },
     "execution_count": 279,
     "metadata": {},
     "output_type": "execute_result"
    }
   ],
   "source": [
    "df.describe()"
   ]
  },
  {
   "cell_type": "code",
   "execution_count": 280,
   "metadata": {
    "scrolled": true
   },
   "outputs": [
    {
     "data": {
      "text/html": [
       "<div>\n",
       "<style scoped>\n",
       "    .dataframe tbody tr th:only-of-type {\n",
       "        vertical-align: middle;\n",
       "    }\n",
       "\n",
       "    .dataframe tbody tr th {\n",
       "        vertical-align: top;\n",
       "    }\n",
       "\n",
       "    .dataframe thead th {\n",
       "        text-align: right;\n",
       "    }\n",
       "</style>\n",
       "<table border=\"1\" class=\"dataframe\">\n",
       "  <thead>\n",
       "    <tr style=\"text-align: right;\">\n",
       "      <th></th>\n",
       "      <th>roles</th>\n",
       "      <th>companies</th>\n",
       "      <th>locations</th>\n",
       "      <th>experience</th>\n",
       "      <th>skills</th>\n",
       "    </tr>\n",
       "  </thead>\n",
       "  <tbody>\n",
       "    <tr>\n",
       "      <th>0</th>\n",
       "      <td>Data Scientist/ Academic Counselor</td>\n",
       "      <td>GREAT LAKES E-LEARNING SERVICES PRIVATE LIMITED</td>\n",
       "      <td>Chennai, Bengaluru</td>\n",
       "      <td>2-7 Yrs</td>\n",
       "      <td>Data Science\\nArtificial Intelligence\\ntrainin...</td>\n",
       "    </tr>\n",
       "    <tr>\n",
       "      <th>1</th>\n",
       "      <td>Data Scientist</td>\n",
       "      <td>Shell India Markets Private Limited</td>\n",
       "      <td>Chennai</td>\n",
       "      <td>5-7 Yrs</td>\n",
       "      <td>Data Science\\nMultivariate Analysis\\nFactor An...</td>\n",
       "    </tr>\n",
       "    <tr>\n",
       "      <th>2</th>\n",
       "      <td>Senior Data Scientist</td>\n",
       "      <td>Decision Point</td>\n",
       "      <td>Gurgaon</td>\n",
       "      <td>3-5 Yrs</td>\n",
       "      <td>Azure\\ntimeseries forecasting\\nMachine Learnin...</td>\n",
       "    </tr>\n",
       "    <tr>\n",
       "      <th>3</th>\n",
       "      <td>Data Scientist - Machine Learning &amp; Statistica...</td>\n",
       "      <td>Talent Stock Solutions</td>\n",
       "      <td>Delhi</td>\n",
       "      <td>2-5 Yrs</td>\n",
       "      <td>Data Science\\nR\\nC\\nData Scientist\\nStatistica...</td>\n",
       "    </tr>\n",
       "    <tr>\n",
       "      <th>4</th>\n",
       "      <td>Data Scientist</td>\n",
       "      <td>Zen3Tech (A Tech Mahindra Company)</td>\n",
       "      <td>Hyderabad</td>\n",
       "      <td>3-8 Yrs</td>\n",
       "      <td>R\\nA/B Testing\\nData Manipulation\\nMachine Lea...</td>\n",
       "    </tr>\n",
       "    <tr>\n",
       "      <th>5</th>\n",
       "      <td>Data Scientist</td>\n",
       "      <td>Extentia Information Technology Pvt Ltd</td>\n",
       "      <td>Pune</td>\n",
       "      <td>0-2 Yrs</td>\n",
       "      <td>Machine Learning\\nPython</td>\n",
       "    </tr>\n",
       "    <tr>\n",
       "      <th>6</th>\n",
       "      <td>Data Scientist</td>\n",
       "      <td>KONE Elevator India Pvt. Ltd</td>\n",
       "      <td>Pune</td>\n",
       "      <td>3-5 Yrs</td>\n",
       "      <td>predictive algorithms\\nK-Means\\nGithub\\nGenera...</td>\n",
       "    </tr>\n",
       "    <tr>\n",
       "      <th>7</th>\n",
       "      <td>Data Scientist | Integreon Managed Solutions |...</td>\n",
       "      <td>INTEGREON MANAGED SOLUTIONS INDIA PVT LIMITED</td>\n",
       "      <td>Mumbai</td>\n",
       "      <td>2-7 Yrs</td>\n",
       "      <td>analytics\\npython\\ntableau\\nregression\\npredic...</td>\n",
       "    </tr>\n",
       "    <tr>\n",
       "      <th>8</th>\n",
       "      <td>Data Scientist</td>\n",
       "      <td>Bigshyft Hiring for Indus OS</td>\n",
       "      <td>Mumbai</td>\n",
       "      <td>2-5 Yrs</td>\n",
       "      <td>cassandra\\nScala\\nHadoop\\nSpark\\nPython</td>\n",
       "    </tr>\n",
       "    <tr>\n",
       "      <th>9</th>\n",
       "      <td>Senior Data Scientist (NLP)</td>\n",
       "      <td>Visible Alpha Solutions India Pvt. Ltd.</td>\n",
       "      <td>Mumbai</td>\n",
       "      <td>5-7 Yrs</td>\n",
       "      <td>Java\\nR\\nNLP\\nAlgorithms\\nLinux\\nWeb Technolog...</td>\n",
       "    </tr>\n",
       "  </tbody>\n",
       "</table>\n",
       "</div>"
      ],
      "text/plain": [
       "                                               roles  \\\n",
       "0                 Data Scientist/ Academic Counselor   \n",
       "1                                     Data Scientist   \n",
       "2                              Senior Data Scientist   \n",
       "3  Data Scientist - Machine Learning & Statistica...   \n",
       "4                                     Data Scientist   \n",
       "5                                     Data Scientist   \n",
       "6                                     Data Scientist   \n",
       "7  Data Scientist | Integreon Managed Solutions |...   \n",
       "8                                     Data Scientist   \n",
       "9                        Senior Data Scientist (NLP)   \n",
       "\n",
       "                                         companies           locations  \\\n",
       "0  GREAT LAKES E-LEARNING SERVICES PRIVATE LIMITED  Chennai, Bengaluru   \n",
       "1              Shell India Markets Private Limited             Chennai   \n",
       "2                                   Decision Point             Gurgaon   \n",
       "3                           Talent Stock Solutions               Delhi   \n",
       "4               Zen3Tech (A Tech Mahindra Company)           Hyderabad   \n",
       "5          Extentia Information Technology Pvt Ltd                Pune   \n",
       "6                     KONE Elevator India Pvt. Ltd                Pune   \n",
       "7    INTEGREON MANAGED SOLUTIONS INDIA PVT LIMITED              Mumbai   \n",
       "8                     Bigshyft Hiring for Indus OS              Mumbai   \n",
       "9          Visible Alpha Solutions India Pvt. Ltd.              Mumbai   \n",
       "\n",
       "  experience                                             skills  \n",
       "0    2-7 Yrs  Data Science\\nArtificial Intelligence\\ntrainin...  \n",
       "1    5-7 Yrs  Data Science\\nMultivariate Analysis\\nFactor An...  \n",
       "2    3-5 Yrs  Azure\\ntimeseries forecasting\\nMachine Learnin...  \n",
       "3    2-5 Yrs  Data Science\\nR\\nC\\nData Scientist\\nStatistica...  \n",
       "4    3-8 Yrs  R\\nA/B Testing\\nData Manipulation\\nMachine Lea...  \n",
       "5    0-2 Yrs                           Machine Learning\\nPython  \n",
       "6    3-5 Yrs  predictive algorithms\\nK-Means\\nGithub\\nGenera...  \n",
       "7    2-7 Yrs  analytics\\npython\\ntableau\\nregression\\npredic...  \n",
       "8    2-5 Yrs            cassandra\\nScala\\nHadoop\\nSpark\\nPython  \n",
       "9    5-7 Yrs  Java\\nR\\nNLP\\nAlgorithms\\nLinux\\nWeb Technolog...  "
      ]
     },
     "execution_count": 280,
     "metadata": {},
     "output_type": "execute_result"
    }
   ],
   "source": [
    "df.drop(df.columns[[0]],axis=1,inplace=True)\n",
    "df.head(10)"
   ]
  },
  {
   "cell_type": "code",
   "execution_count": 281,
   "metadata": {},
   "outputs": [
    {
     "data": {
      "text/plain": [
       "roles         0\n",
       "companies     0\n",
       "locations     0\n",
       "experience    0\n",
       "skills        3\n",
       "dtype: int64"
      ]
     },
     "execution_count": 281,
     "metadata": {},
     "output_type": "execute_result"
    }
   ],
   "source": [
    "df.isnull().sum()"
   ]
  },
  {
   "cell_type": "code",
   "execution_count": 282,
   "metadata": {},
   "outputs": [],
   "source": [
    "df = df.dropna()"
   ]
  },
  {
   "cell_type": "code",
   "execution_count": 283,
   "metadata": {},
   "outputs": [
    {
     "data": {
      "text/plain": [
       "roles         0\n",
       "companies     0\n",
       "locations     0\n",
       "experience    0\n",
       "skills        0\n",
       "dtype: int64"
      ]
     },
     "execution_count": 283,
     "metadata": {},
     "output_type": "execute_result"
    }
   ],
   "source": [
    "df.isnull().sum()"
   ]
  },
  {
   "cell_type": "code",
   "execution_count": 284,
   "metadata": {},
   "outputs": [
    {
     "data": {
      "text/plain": [
       "578"
      ]
     },
     "execution_count": 284,
     "metadata": {},
     "output_type": "execute_result"
    }
   ],
   "source": [
    "df['roles'].nunique()"
   ]
  },
  {
   "cell_type": "code",
   "execution_count": 285,
   "metadata": {},
   "outputs": [
    {
     "data": {
      "text/html": [
       "<div>\n",
       "<style scoped>\n",
       "    .dataframe tbody tr th:only-of-type {\n",
       "        vertical-align: middle;\n",
       "    }\n",
       "\n",
       "    .dataframe tbody tr th {\n",
       "        vertical-align: top;\n",
       "    }\n",
       "\n",
       "    .dataframe thead th {\n",
       "        text-align: right;\n",
       "    }\n",
       "</style>\n",
       "<table border=\"1\" class=\"dataframe\">\n",
       "  <thead>\n",
       "    <tr style=\"text-align: right;\">\n",
       "      <th></th>\n",
       "      <th>roles</th>\n",
       "      <th>companies</th>\n",
       "      <th>locations</th>\n",
       "      <th>experience</th>\n",
       "      <th>skills</th>\n",
       "    </tr>\n",
       "  </thead>\n",
       "  <tbody>\n",
       "    <tr>\n",
       "      <th>0</th>\n",
       "      <td>Data Scientist/ Academic Counselor</td>\n",
       "      <td>GREAT LAKES E-LEARNING SERVICES PRIVATE LIMITED</td>\n",
       "      <td>Chennai, Bengaluru</td>\n",
       "      <td>2-7 Yrs</td>\n",
       "      <td>Data Science\\nArtificial Intelligence\\ntrainin...</td>\n",
       "    </tr>\n",
       "    <tr>\n",
       "      <th>1</th>\n",
       "      <td>Data Scientist</td>\n",
       "      <td>Shell India Markets Private Limited</td>\n",
       "      <td>Chennai</td>\n",
       "      <td>5-7 Yrs</td>\n",
       "      <td>Data Science\\nMultivariate Analysis\\nFactor An...</td>\n",
       "    </tr>\n",
       "    <tr>\n",
       "      <th>2</th>\n",
       "      <td>Senior Data Scientist</td>\n",
       "      <td>Decision Point</td>\n",
       "      <td>Gurgaon</td>\n",
       "      <td>3-5 Yrs</td>\n",
       "      <td>Azure\\ntimeseries forecasting\\nMachine Learnin...</td>\n",
       "    </tr>\n",
       "    <tr>\n",
       "      <th>3</th>\n",
       "      <td>Data Scientist - Machine Learning &amp; Statistica...</td>\n",
       "      <td>Talent Stock Solutions</td>\n",
       "      <td>Delhi</td>\n",
       "      <td>2-5 Yrs</td>\n",
       "      <td>Data Science\\nR\\nC\\nData Scientist\\nStatistica...</td>\n",
       "    </tr>\n",
       "    <tr>\n",
       "      <th>4</th>\n",
       "      <td>Data Scientist</td>\n",
       "      <td>Zen3Tech (A Tech Mahindra Company)</td>\n",
       "      <td>Hyderabad</td>\n",
       "      <td>3-8 Yrs</td>\n",
       "      <td>R\\nA/B Testing\\nData Manipulation\\nMachine Lea...</td>\n",
       "    </tr>\n",
       "    <tr>\n",
       "      <th>...</th>\n",
       "      <td>...</td>\n",
       "      <td>...</td>\n",
       "      <td>...</td>\n",
       "      <td>...</td>\n",
       "      <td>...</td>\n",
       "    </tr>\n",
       "    <tr>\n",
       "      <th>1277</th>\n",
       "      <td>ML/AI Intern</td>\n",
       "      <td>AgNext Technologies ( India's leading Agri Tec...</td>\n",
       "      <td>Mohali, Gurgaon</td>\n",
       "      <td>1-3 Yrs</td>\n",
       "      <td>Computer vision\\ndeep learning\\nC++\\nImage pro...</td>\n",
       "    </tr>\n",
       "    <tr>\n",
       "      <th>1278</th>\n",
       "      <td>FR &amp; D Scientist</td>\n",
       "      <td>Dr. Reddys Laboratories Ltd.</td>\n",
       "      <td>Hyderabad</td>\n",
       "      <td>3-7 Yrs</td>\n",
       "      <td>Product quality\\nOperational excellence\\nPharm...</td>\n",
       "    </tr>\n",
       "    <tr>\n",
       "      <th>1279</th>\n",
       "      <td>FR &amp; D Scientist</td>\n",
       "      <td>Dr. Reddys Laboratories Ltd.</td>\n",
       "      <td>Hyderabad</td>\n",
       "      <td>2-5 Yrs</td>\n",
       "      <td>Product quality\\nOperational excellence\\nPharm...</td>\n",
       "    </tr>\n",
       "    <tr>\n",
       "      <th>1280</th>\n",
       "      <td>Analyst/senior Analyst - Fraud Analytics</td>\n",
       "      <td>bluCognition Private Limited</td>\n",
       "      <td>Pune</td>\n",
       "      <td>3-5 Yrs</td>\n",
       "      <td>Data Science\\nPyspark\\nR\\nSAS SQL\\nHive\\nBig D...</td>\n",
       "    </tr>\n",
       "    <tr>\n",
       "      <th>1281</th>\n",
       "      <td>Python Developer</td>\n",
       "      <td>Diverse Lynx India Pvt. Ltd</td>\n",
       "      <td>Bengaluru</td>\n",
       "      <td>2-6 Yrs</td>\n",
       "      <td>Web services\\nspark\\nR Programming\\nDatabase\\n...</td>\n",
       "    </tr>\n",
       "  </tbody>\n",
       "</table>\n",
       "<p>1279 rows × 5 columns</p>\n",
       "</div>"
      ],
      "text/plain": [
       "                                                  roles  \\\n",
       "0                    Data Scientist/ Academic Counselor   \n",
       "1                                        Data Scientist   \n",
       "2                                 Senior Data Scientist   \n",
       "3     Data Scientist - Machine Learning & Statistica...   \n",
       "4                                        Data Scientist   \n",
       "...                                                 ...   \n",
       "1277                                       ML/AI Intern   \n",
       "1278                                   FR & D Scientist   \n",
       "1279                                   FR & D Scientist   \n",
       "1280           Analyst/senior Analyst - Fraud Analytics   \n",
       "1281                                   Python Developer   \n",
       "\n",
       "                                              companies           locations  \\\n",
       "0       GREAT LAKES E-LEARNING SERVICES PRIVATE LIMITED  Chennai, Bengaluru   \n",
       "1                   Shell India Markets Private Limited             Chennai   \n",
       "2                                        Decision Point             Gurgaon   \n",
       "3                                Talent Stock Solutions               Delhi   \n",
       "4                    Zen3Tech (A Tech Mahindra Company)           Hyderabad   \n",
       "...                                                 ...                 ...   \n",
       "1277  AgNext Technologies ( India's leading Agri Tec...     Mohali, Gurgaon   \n",
       "1278                       Dr. Reddys Laboratories Ltd.           Hyderabad   \n",
       "1279                       Dr. Reddys Laboratories Ltd.           Hyderabad   \n",
       "1280                       bluCognition Private Limited                Pune   \n",
       "1281                        Diverse Lynx India Pvt. Ltd           Bengaluru   \n",
       "\n",
       "     experience                                             skills  \n",
       "0       2-7 Yrs  Data Science\\nArtificial Intelligence\\ntrainin...  \n",
       "1       5-7 Yrs  Data Science\\nMultivariate Analysis\\nFactor An...  \n",
       "2       3-5 Yrs  Azure\\ntimeseries forecasting\\nMachine Learnin...  \n",
       "3       2-5 Yrs  Data Science\\nR\\nC\\nData Scientist\\nStatistica...  \n",
       "4       3-8 Yrs  R\\nA/B Testing\\nData Manipulation\\nMachine Lea...  \n",
       "...         ...                                                ...  \n",
       "1277    1-3 Yrs  Computer vision\\ndeep learning\\nC++\\nImage pro...  \n",
       "1278    3-7 Yrs  Product quality\\nOperational excellence\\nPharm...  \n",
       "1279    2-5 Yrs  Product quality\\nOperational excellence\\nPharm...  \n",
       "1280    3-5 Yrs  Data Science\\nPyspark\\nR\\nSAS SQL\\nHive\\nBig D...  \n",
       "1281    2-6 Yrs  Web services\\nspark\\nR Programming\\nDatabase\\n...  \n",
       "\n",
       "[1279 rows x 5 columns]"
      ]
     },
     "execution_count": 285,
     "metadata": {},
     "output_type": "execute_result"
    }
   ],
   "source": [
    "df"
   ]
  },
  {
   "cell_type": "markdown",
   "metadata": {},
   "source": [
    "\n",
    "# Exploratoty Data Analysis"
   ]
  },
  {
   "cell_type": "markdown",
   "metadata": {},
   "source": [
    "# To analyse the location having more opportunities"
   ]
  },
  {
   "cell_type": "code",
   "execution_count": 286,
   "metadata": {},
   "outputs": [
    {
     "data": {
      "application/vnd.plotly.v1+json": {
       "config": {
        "plotlyServerURL": "https://plot.ly"
       },
       "data": [
        {
         "marker": {
          "color": "LightCoral"
         },
         "name": "roles",
         "orientation": "h",
         "type": "bar",
         "x": [
          7,
          8,
          8,
          8,
          9,
          12,
          13,
          28,
          64,
          343
         ],
         "y": [
          "SENIOR DATA SCIENTIST AND MACHINE LEARNING ENGINEER",
          "Data Science Engineer",
          "Data Engineer",
          "Sr Data Scientist",
          "DATA SCIENTIST",
          "Sr. Data Scientist",
          "Full Stack Data Scientist",
          "Lead Data Scientist",
          "Senior Data Scientist",
          "Data Scientist"
         ]
        },
        {
         "marker": {
          "color": "CadetBlue"
         },
         "name": "Locations",
         "orientation": "h",
         "type": "bar",
         "x": [
          16,
          19,
          28,
          53,
          55,
          78,
          101,
          109,
          134,
          361
         ],
         "y": [
          "India",
          "Delhi NCR, Gurgaon",
          "Delhi",
          "Chennai",
          "Noida",
          "Gurgaon",
          "Hyderabad",
          "Pune",
          "Mumbai",
          "Bengaluru"
         ]
        },
        {
         "marker": {
          "color": "SteelBlue"
         },
         "name": "Company",
         "orientation": "h",
         "type": "bar",
         "x": [
          9,
          9,
          9,
          9,
          9,
          10,
          11,
          16,
          30,
          67
         ],
         "y": [
          "Hyrefox",
          "Walmart Labs",
          "Maven Workforce Pvt. Ltd",
          "Catalyst",
          "Wolters Kluwer India Pvt Ltd",
          "IHS India",
          "Career Maker",
          "AXCESS CONSULTANCY SERVICES",
          "Analytics Vidhya Educon Pvt. Ltd",
          "Huquo Consulting Pvt. Ltd"
         ]
        }
       ],
       "layout": {
        "annotations": [
         {
          "align": "right",
          "font": {
           "color": "DarkSlateBlue",
           "size": 16
          },
          "showarrow": false,
          "text": "Choose:",
          "x": 0,
          "y": 1.075,
          "yref": "paper"
         }
        ],
        "template": {
         "data": {
          "bar": [
           {
            "error_x": {
             "color": "#2a3f5f"
            },
            "error_y": {
             "color": "#2a3f5f"
            },
            "marker": {
             "line": {
              "color": "#E5ECF6",
              "width": 0.5
             },
             "pattern": {
              "fillmode": "overlay",
              "size": 10,
              "solidity": 0.2
             }
            },
            "type": "bar"
           }
          ],
          "barpolar": [
           {
            "marker": {
             "line": {
              "color": "#E5ECF6",
              "width": 0.5
             },
             "pattern": {
              "fillmode": "overlay",
              "size": 10,
              "solidity": 0.2
             }
            },
            "type": "barpolar"
           }
          ],
          "carpet": [
           {
            "aaxis": {
             "endlinecolor": "#2a3f5f",
             "gridcolor": "white",
             "linecolor": "white",
             "minorgridcolor": "white",
             "startlinecolor": "#2a3f5f"
            },
            "baxis": {
             "endlinecolor": "#2a3f5f",
             "gridcolor": "white",
             "linecolor": "white",
             "minorgridcolor": "white",
             "startlinecolor": "#2a3f5f"
            },
            "type": "carpet"
           }
          ],
          "choropleth": [
           {
            "colorbar": {
             "outlinewidth": 0,
             "ticks": ""
            },
            "type": "choropleth"
           }
          ],
          "contour": [
           {
            "colorbar": {
             "outlinewidth": 0,
             "ticks": ""
            },
            "colorscale": [
             [
              0,
              "#0d0887"
             ],
             [
              0.1111111111111111,
              "#46039f"
             ],
             [
              0.2222222222222222,
              "#7201a8"
             ],
             [
              0.3333333333333333,
              "#9c179e"
             ],
             [
              0.4444444444444444,
              "#bd3786"
             ],
             [
              0.5555555555555556,
              "#d8576b"
             ],
             [
              0.6666666666666666,
              "#ed7953"
             ],
             [
              0.7777777777777778,
              "#fb9f3a"
             ],
             [
              0.8888888888888888,
              "#fdca26"
             ],
             [
              1,
              "#f0f921"
             ]
            ],
            "type": "contour"
           }
          ],
          "contourcarpet": [
           {
            "colorbar": {
             "outlinewidth": 0,
             "ticks": ""
            },
            "type": "contourcarpet"
           }
          ],
          "heatmap": [
           {
            "colorbar": {
             "outlinewidth": 0,
             "ticks": ""
            },
            "colorscale": [
             [
              0,
              "#0d0887"
             ],
             [
              0.1111111111111111,
              "#46039f"
             ],
             [
              0.2222222222222222,
              "#7201a8"
             ],
             [
              0.3333333333333333,
              "#9c179e"
             ],
             [
              0.4444444444444444,
              "#bd3786"
             ],
             [
              0.5555555555555556,
              "#d8576b"
             ],
             [
              0.6666666666666666,
              "#ed7953"
             ],
             [
              0.7777777777777778,
              "#fb9f3a"
             ],
             [
              0.8888888888888888,
              "#fdca26"
             ],
             [
              1,
              "#f0f921"
             ]
            ],
            "type": "heatmap"
           }
          ],
          "heatmapgl": [
           {
            "colorbar": {
             "outlinewidth": 0,
             "ticks": ""
            },
            "colorscale": [
             [
              0,
              "#0d0887"
             ],
             [
              0.1111111111111111,
              "#46039f"
             ],
             [
              0.2222222222222222,
              "#7201a8"
             ],
             [
              0.3333333333333333,
              "#9c179e"
             ],
             [
              0.4444444444444444,
              "#bd3786"
             ],
             [
              0.5555555555555556,
              "#d8576b"
             ],
             [
              0.6666666666666666,
              "#ed7953"
             ],
             [
              0.7777777777777778,
              "#fb9f3a"
             ],
             [
              0.8888888888888888,
              "#fdca26"
             ],
             [
              1,
              "#f0f921"
             ]
            ],
            "type": "heatmapgl"
           }
          ],
          "histogram": [
           {
            "marker": {
             "pattern": {
              "fillmode": "overlay",
              "size": 10,
              "solidity": 0.2
             }
            },
            "type": "histogram"
           }
          ],
          "histogram2d": [
           {
            "colorbar": {
             "outlinewidth": 0,
             "ticks": ""
            },
            "colorscale": [
             [
              0,
              "#0d0887"
             ],
             [
              0.1111111111111111,
              "#46039f"
             ],
             [
              0.2222222222222222,
              "#7201a8"
             ],
             [
              0.3333333333333333,
              "#9c179e"
             ],
             [
              0.4444444444444444,
              "#bd3786"
             ],
             [
              0.5555555555555556,
              "#d8576b"
             ],
             [
              0.6666666666666666,
              "#ed7953"
             ],
             [
              0.7777777777777778,
              "#fb9f3a"
             ],
             [
              0.8888888888888888,
              "#fdca26"
             ],
             [
              1,
              "#f0f921"
             ]
            ],
            "type": "histogram2d"
           }
          ],
          "histogram2dcontour": [
           {
            "colorbar": {
             "outlinewidth": 0,
             "ticks": ""
            },
            "colorscale": [
             [
              0,
              "#0d0887"
             ],
             [
              0.1111111111111111,
              "#46039f"
             ],
             [
              0.2222222222222222,
              "#7201a8"
             ],
             [
              0.3333333333333333,
              "#9c179e"
             ],
             [
              0.4444444444444444,
              "#bd3786"
             ],
             [
              0.5555555555555556,
              "#d8576b"
             ],
             [
              0.6666666666666666,
              "#ed7953"
             ],
             [
              0.7777777777777778,
              "#fb9f3a"
             ],
             [
              0.8888888888888888,
              "#fdca26"
             ],
             [
              1,
              "#f0f921"
             ]
            ],
            "type": "histogram2dcontour"
           }
          ],
          "mesh3d": [
           {
            "colorbar": {
             "outlinewidth": 0,
             "ticks": ""
            },
            "type": "mesh3d"
           }
          ],
          "parcoords": [
           {
            "line": {
             "colorbar": {
              "outlinewidth": 0,
              "ticks": ""
             }
            },
            "type": "parcoords"
           }
          ],
          "pie": [
           {
            "automargin": true,
            "type": "pie"
           }
          ],
          "scatter": [
           {
            "marker": {
             "colorbar": {
              "outlinewidth": 0,
              "ticks": ""
             }
            },
            "type": "scatter"
           }
          ],
          "scatter3d": [
           {
            "line": {
             "colorbar": {
              "outlinewidth": 0,
              "ticks": ""
             }
            },
            "marker": {
             "colorbar": {
              "outlinewidth": 0,
              "ticks": ""
             }
            },
            "type": "scatter3d"
           }
          ],
          "scattercarpet": [
           {
            "marker": {
             "colorbar": {
              "outlinewidth": 0,
              "ticks": ""
             }
            },
            "type": "scattercarpet"
           }
          ],
          "scattergeo": [
           {
            "marker": {
             "colorbar": {
              "outlinewidth": 0,
              "ticks": ""
             }
            },
            "type": "scattergeo"
           }
          ],
          "scattergl": [
           {
            "marker": {
             "colorbar": {
              "outlinewidth": 0,
              "ticks": ""
             }
            },
            "type": "scattergl"
           }
          ],
          "scattermapbox": [
           {
            "marker": {
             "colorbar": {
              "outlinewidth": 0,
              "ticks": ""
             }
            },
            "type": "scattermapbox"
           }
          ],
          "scatterpolar": [
           {
            "marker": {
             "colorbar": {
              "outlinewidth": 0,
              "ticks": ""
             }
            },
            "type": "scatterpolar"
           }
          ],
          "scatterpolargl": [
           {
            "marker": {
             "colorbar": {
              "outlinewidth": 0,
              "ticks": ""
             }
            },
            "type": "scatterpolargl"
           }
          ],
          "scatterternary": [
           {
            "marker": {
             "colorbar": {
              "outlinewidth": 0,
              "ticks": ""
             }
            },
            "type": "scatterternary"
           }
          ],
          "surface": [
           {
            "colorbar": {
             "outlinewidth": 0,
             "ticks": ""
            },
            "colorscale": [
             [
              0,
              "#0d0887"
             ],
             [
              0.1111111111111111,
              "#46039f"
             ],
             [
              0.2222222222222222,
              "#7201a8"
             ],
             [
              0.3333333333333333,
              "#9c179e"
             ],
             [
              0.4444444444444444,
              "#bd3786"
             ],
             [
              0.5555555555555556,
              "#d8576b"
             ],
             [
              0.6666666666666666,
              "#ed7953"
             ],
             [
              0.7777777777777778,
              "#fb9f3a"
             ],
             [
              0.8888888888888888,
              "#fdca26"
             ],
             [
              1,
              "#f0f921"
             ]
            ],
            "type": "surface"
           }
          ],
          "table": [
           {
            "cells": {
             "fill": {
              "color": "#EBF0F8"
             },
             "line": {
              "color": "white"
             }
            },
            "header": {
             "fill": {
              "color": "#C8D4E3"
             },
             "line": {
              "color": "white"
             }
            },
            "type": "table"
           }
          ]
         },
         "layout": {
          "annotationdefaults": {
           "arrowcolor": "#2a3f5f",
           "arrowhead": 0,
           "arrowwidth": 1
          },
          "autotypenumbers": "strict",
          "coloraxis": {
           "colorbar": {
            "outlinewidth": 0,
            "ticks": ""
           }
          },
          "colorscale": {
           "diverging": [
            [
             0,
             "#8e0152"
            ],
            [
             0.1,
             "#c51b7d"
            ],
            [
             0.2,
             "#de77ae"
            ],
            [
             0.3,
             "#f1b6da"
            ],
            [
             0.4,
             "#fde0ef"
            ],
            [
             0.5,
             "#f7f7f7"
            ],
            [
             0.6,
             "#e6f5d0"
            ],
            [
             0.7,
             "#b8e186"
            ],
            [
             0.8,
             "#7fbc41"
            ],
            [
             0.9,
             "#4d9221"
            ],
            [
             1,
             "#276419"
            ]
           ],
           "sequential": [
            [
             0,
             "#0d0887"
            ],
            [
             0.1111111111111111,
             "#46039f"
            ],
            [
             0.2222222222222222,
             "#7201a8"
            ],
            [
             0.3333333333333333,
             "#9c179e"
            ],
            [
             0.4444444444444444,
             "#bd3786"
            ],
            [
             0.5555555555555556,
             "#d8576b"
            ],
            [
             0.6666666666666666,
             "#ed7953"
            ],
            [
             0.7777777777777778,
             "#fb9f3a"
            ],
            [
             0.8888888888888888,
             "#fdca26"
            ],
            [
             1,
             "#f0f921"
            ]
           ],
           "sequentialminus": [
            [
             0,
             "#0d0887"
            ],
            [
             0.1111111111111111,
             "#46039f"
            ],
            [
             0.2222222222222222,
             "#7201a8"
            ],
            [
             0.3333333333333333,
             "#9c179e"
            ],
            [
             0.4444444444444444,
             "#bd3786"
            ],
            [
             0.5555555555555556,
             "#d8576b"
            ],
            [
             0.6666666666666666,
             "#ed7953"
            ],
            [
             0.7777777777777778,
             "#fb9f3a"
            ],
            [
             0.8888888888888888,
             "#fdca26"
            ],
            [
             1,
             "#f0f921"
            ]
           ]
          },
          "colorway": [
           "#636efa",
           "#EF553B",
           "#00cc96",
           "#ab63fa",
           "#FFA15A",
           "#19d3f3",
           "#FF6692",
           "#B6E880",
           "#FF97FF",
           "#FECB52"
          ],
          "font": {
           "color": "#2a3f5f"
          },
          "geo": {
           "bgcolor": "white",
           "lakecolor": "white",
           "landcolor": "#E5ECF6",
           "showlakes": true,
           "showland": true,
           "subunitcolor": "white"
          },
          "hoverlabel": {
           "align": "left"
          },
          "hovermode": "closest",
          "mapbox": {
           "style": "light"
          },
          "paper_bgcolor": "white",
          "plot_bgcolor": "#E5ECF6",
          "polar": {
           "angularaxis": {
            "gridcolor": "white",
            "linecolor": "white",
            "ticks": ""
           },
           "bgcolor": "#E5ECF6",
           "radialaxis": {
            "gridcolor": "white",
            "linecolor": "white",
            "ticks": ""
           }
          },
          "scene": {
           "xaxis": {
            "backgroundcolor": "#E5ECF6",
            "gridcolor": "white",
            "gridwidth": 2,
            "linecolor": "white",
            "showbackground": true,
            "ticks": "",
            "zerolinecolor": "white"
           },
           "yaxis": {
            "backgroundcolor": "#E5ECF6",
            "gridcolor": "white",
            "gridwidth": 2,
            "linecolor": "white",
            "showbackground": true,
            "ticks": "",
            "zerolinecolor": "white"
           },
           "zaxis": {
            "backgroundcolor": "#E5ECF6",
            "gridcolor": "white",
            "gridwidth": 2,
            "linecolor": "white",
            "showbackground": true,
            "ticks": "",
            "zerolinecolor": "white"
           }
          },
          "shapedefaults": {
           "line": {
            "color": "#2a3f5f"
           }
          },
          "ternary": {
           "aaxis": {
            "gridcolor": "white",
            "linecolor": "white",
            "ticks": ""
           },
           "baxis": {
            "gridcolor": "white",
            "linecolor": "white",
            "ticks": ""
           },
           "bgcolor": "#E5ECF6",
           "caxis": {
            "gridcolor": "white",
            "linecolor": "white",
            "ticks": ""
           }
          },
          "title": {
           "x": 0.05
          },
          "xaxis": {
           "automargin": true,
           "gridcolor": "white",
           "linecolor": "white",
           "ticks": "",
           "title": {
            "standoff": 15
           },
           "zerolinecolor": "white",
           "zerolinewidth": 2
          },
          "yaxis": {
           "automargin": true,
           "gridcolor": "white",
           "linecolor": "white",
           "ticks": "",
           "title": {
            "standoff": 15
           },
           "zerolinecolor": "white",
           "zerolinewidth": 2
          }
         }
        },
        "title": {
         "font": {
          "color": "MidnightBlue",
          "size": 20
         },
         "text": "Top 10 roles, Locations and Companies",
         "x": 0.5
        },
        "updatemenus": [
         {
          "buttons": [
           {
            "args": [
             {
              "visible": [
               true,
               true,
               true
              ]
             },
             {
              "showlegend": true
             }
            ],
            "label": "All",
            "method": "update"
           },
           {
            "args": [
             {
              "visible": [
               true,
               false,
               false
              ]
             },
             {
              "showlegend": true
             }
            ],
            "label": "roles",
            "method": "update"
           },
           {
            "args": [
             {
              "visible": [
               false,
               true,
               false
              ]
             },
             {
              "showlegend": true
             }
            ],
            "label": "Location",
            "method": "update"
           },
           {
            "args": [
             {
              "visible": [
               false,
               false,
               true
              ]
             },
             {
              "showlegend": true
             }
            ],
            "label": "Company",
            "method": "update"
           }
          ],
          "direction": "left",
          "font": {
           "color": "Indigo",
           "size": 14
          },
          "pad": {
           "r": 10,
           "t": 10
          },
          "showactive": true,
          "type": "buttons",
          "x": 0.16,
          "xanchor": "left",
          "y": 1.12,
          "yanchor": "top"
         }
        ]
       }
      },
      "text/html": [
       "<div>                            <div id=\"8b94dfe0-3723-480a-9dc6-617b2ee54c70\" class=\"plotly-graph-div\" style=\"height:525px; width:100%;\"></div>            <script type=\"text/javascript\">                require([\"plotly\"], function(Plotly) {                    window.PLOTLYENV=window.PLOTLYENV || {};                                    if (document.getElementById(\"8b94dfe0-3723-480a-9dc6-617b2ee54c70\")) {                    Plotly.newPlot(                        \"8b94dfe0-3723-480a-9dc6-617b2ee54c70\",                        [{\"marker\":{\"color\":\"LightCoral\"},\"name\":\"roles\",\"orientation\":\"h\",\"x\":[7,8,8,8,9,12,13,28,64,343],\"y\":[\"SENIOR DATA SCIENTIST AND MACHINE LEARNING ENGINEER\",\"Data Science Engineer\",\"Data Engineer\",\"Sr Data Scientist\",\"DATA SCIENTIST\",\"Sr. Data Scientist\",\"Full Stack Data Scientist\",\"Lead Data Scientist\",\"Senior Data Scientist\",\"Data Scientist\"],\"type\":\"bar\"},{\"marker\":{\"color\":\"CadetBlue\"},\"name\":\"Locations\",\"orientation\":\"h\",\"x\":[16,19,28,53,55,78,101,109,134,361],\"y\":[\"India\",\"Delhi NCR, Gurgaon\",\"Delhi\",\"Chennai\",\"Noida\",\"Gurgaon\",\"Hyderabad\",\"Pune\",\"Mumbai\",\"Bengaluru\"],\"type\":\"bar\"},{\"marker\":{\"color\":\"SteelBlue\"},\"name\":\"Company\",\"orientation\":\"h\",\"x\":[9,9,9,9,9,10,11,16,30,67],\"y\":[\"Hyrefox\",\"Walmart Labs\",\"Maven Workforce Pvt. Ltd\",\"Catalyst\",\"Wolters Kluwer India Pvt Ltd\",\"IHS India\",\"Career Maker\",\"AXCESS CONSULTANCY SERVICES\",\"Analytics Vidhya Educon Pvt. Ltd\",\"Huquo Consulting Pvt. Ltd\"],\"type\":\"bar\"}],                        {\"template\":{\"data\":{\"bar\":[{\"error_x\":{\"color\":\"#2a3f5f\"},\"error_y\":{\"color\":\"#2a3f5f\"},\"marker\":{\"line\":{\"color\":\"#E5ECF6\",\"width\":0.5},\"pattern\":{\"fillmode\":\"overlay\",\"size\":10,\"solidity\":0.2}},\"type\":\"bar\"}],\"barpolar\":[{\"marker\":{\"line\":{\"color\":\"#E5ECF6\",\"width\":0.5},\"pattern\":{\"fillmode\":\"overlay\",\"size\":10,\"solidity\":0.2}},\"type\":\"barpolar\"}],\"carpet\":[{\"aaxis\":{\"endlinecolor\":\"#2a3f5f\",\"gridcolor\":\"white\",\"linecolor\":\"white\",\"minorgridcolor\":\"white\",\"startlinecolor\":\"#2a3f5f\"},\"baxis\":{\"endlinecolor\":\"#2a3f5f\",\"gridcolor\":\"white\",\"linecolor\":\"white\",\"minorgridcolor\":\"white\",\"startlinecolor\":\"#2a3f5f\"},\"type\":\"carpet\"}],\"choropleth\":[{\"colorbar\":{\"outlinewidth\":0,\"ticks\":\"\"},\"type\":\"choropleth\"}],\"contour\":[{\"colorbar\":{\"outlinewidth\":0,\"ticks\":\"\"},\"colorscale\":[[0.0,\"#0d0887\"],[0.1111111111111111,\"#46039f\"],[0.2222222222222222,\"#7201a8\"],[0.3333333333333333,\"#9c179e\"],[0.4444444444444444,\"#bd3786\"],[0.5555555555555556,\"#d8576b\"],[0.6666666666666666,\"#ed7953\"],[0.7777777777777778,\"#fb9f3a\"],[0.8888888888888888,\"#fdca26\"],[1.0,\"#f0f921\"]],\"type\":\"contour\"}],\"contourcarpet\":[{\"colorbar\":{\"outlinewidth\":0,\"ticks\":\"\"},\"type\":\"contourcarpet\"}],\"heatmap\":[{\"colorbar\":{\"outlinewidth\":0,\"ticks\":\"\"},\"colorscale\":[[0.0,\"#0d0887\"],[0.1111111111111111,\"#46039f\"],[0.2222222222222222,\"#7201a8\"],[0.3333333333333333,\"#9c179e\"],[0.4444444444444444,\"#bd3786\"],[0.5555555555555556,\"#d8576b\"],[0.6666666666666666,\"#ed7953\"],[0.7777777777777778,\"#fb9f3a\"],[0.8888888888888888,\"#fdca26\"],[1.0,\"#f0f921\"]],\"type\":\"heatmap\"}],\"heatmapgl\":[{\"colorbar\":{\"outlinewidth\":0,\"ticks\":\"\"},\"colorscale\":[[0.0,\"#0d0887\"],[0.1111111111111111,\"#46039f\"],[0.2222222222222222,\"#7201a8\"],[0.3333333333333333,\"#9c179e\"],[0.4444444444444444,\"#bd3786\"],[0.5555555555555556,\"#d8576b\"],[0.6666666666666666,\"#ed7953\"],[0.7777777777777778,\"#fb9f3a\"],[0.8888888888888888,\"#fdca26\"],[1.0,\"#f0f921\"]],\"type\":\"heatmapgl\"}],\"histogram\":[{\"marker\":{\"pattern\":{\"fillmode\":\"overlay\",\"size\":10,\"solidity\":0.2}},\"type\":\"histogram\"}],\"histogram2d\":[{\"colorbar\":{\"outlinewidth\":0,\"ticks\":\"\"},\"colorscale\":[[0.0,\"#0d0887\"],[0.1111111111111111,\"#46039f\"],[0.2222222222222222,\"#7201a8\"],[0.3333333333333333,\"#9c179e\"],[0.4444444444444444,\"#bd3786\"],[0.5555555555555556,\"#d8576b\"],[0.6666666666666666,\"#ed7953\"],[0.7777777777777778,\"#fb9f3a\"],[0.8888888888888888,\"#fdca26\"],[1.0,\"#f0f921\"]],\"type\":\"histogram2d\"}],\"histogram2dcontour\":[{\"colorbar\":{\"outlinewidth\":0,\"ticks\":\"\"},\"colorscale\":[[0.0,\"#0d0887\"],[0.1111111111111111,\"#46039f\"],[0.2222222222222222,\"#7201a8\"],[0.3333333333333333,\"#9c179e\"],[0.4444444444444444,\"#bd3786\"],[0.5555555555555556,\"#d8576b\"],[0.6666666666666666,\"#ed7953\"],[0.7777777777777778,\"#fb9f3a\"],[0.8888888888888888,\"#fdca26\"],[1.0,\"#f0f921\"]],\"type\":\"histogram2dcontour\"}],\"mesh3d\":[{\"colorbar\":{\"outlinewidth\":0,\"ticks\":\"\"},\"type\":\"mesh3d\"}],\"parcoords\":[{\"line\":{\"colorbar\":{\"outlinewidth\":0,\"ticks\":\"\"}},\"type\":\"parcoords\"}],\"pie\":[{\"automargin\":true,\"type\":\"pie\"}],\"scatter\":[{\"marker\":{\"colorbar\":{\"outlinewidth\":0,\"ticks\":\"\"}},\"type\":\"scatter\"}],\"scatter3d\":[{\"line\":{\"colorbar\":{\"outlinewidth\":0,\"ticks\":\"\"}},\"marker\":{\"colorbar\":{\"outlinewidth\":0,\"ticks\":\"\"}},\"type\":\"scatter3d\"}],\"scattercarpet\":[{\"marker\":{\"colorbar\":{\"outlinewidth\":0,\"ticks\":\"\"}},\"type\":\"scattercarpet\"}],\"scattergeo\":[{\"marker\":{\"colorbar\":{\"outlinewidth\":0,\"ticks\":\"\"}},\"type\":\"scattergeo\"}],\"scattergl\":[{\"marker\":{\"colorbar\":{\"outlinewidth\":0,\"ticks\":\"\"}},\"type\":\"scattergl\"}],\"scattermapbox\":[{\"marker\":{\"colorbar\":{\"outlinewidth\":0,\"ticks\":\"\"}},\"type\":\"scattermapbox\"}],\"scatterpolar\":[{\"marker\":{\"colorbar\":{\"outlinewidth\":0,\"ticks\":\"\"}},\"type\":\"scatterpolar\"}],\"scatterpolargl\":[{\"marker\":{\"colorbar\":{\"outlinewidth\":0,\"ticks\":\"\"}},\"type\":\"scatterpolargl\"}],\"scatterternary\":[{\"marker\":{\"colorbar\":{\"outlinewidth\":0,\"ticks\":\"\"}},\"type\":\"scatterternary\"}],\"surface\":[{\"colorbar\":{\"outlinewidth\":0,\"ticks\":\"\"},\"colorscale\":[[0.0,\"#0d0887\"],[0.1111111111111111,\"#46039f\"],[0.2222222222222222,\"#7201a8\"],[0.3333333333333333,\"#9c179e\"],[0.4444444444444444,\"#bd3786\"],[0.5555555555555556,\"#d8576b\"],[0.6666666666666666,\"#ed7953\"],[0.7777777777777778,\"#fb9f3a\"],[0.8888888888888888,\"#fdca26\"],[1.0,\"#f0f921\"]],\"type\":\"surface\"}],\"table\":[{\"cells\":{\"fill\":{\"color\":\"#EBF0F8\"},\"line\":{\"color\":\"white\"}},\"header\":{\"fill\":{\"color\":\"#C8D4E3\"},\"line\":{\"color\":\"white\"}},\"type\":\"table\"}]},\"layout\":{\"annotationdefaults\":{\"arrowcolor\":\"#2a3f5f\",\"arrowhead\":0,\"arrowwidth\":1},\"autotypenumbers\":\"strict\",\"coloraxis\":{\"colorbar\":{\"outlinewidth\":0,\"ticks\":\"\"}},\"colorscale\":{\"diverging\":[[0,\"#8e0152\"],[0.1,\"#c51b7d\"],[0.2,\"#de77ae\"],[0.3,\"#f1b6da\"],[0.4,\"#fde0ef\"],[0.5,\"#f7f7f7\"],[0.6,\"#e6f5d0\"],[0.7,\"#b8e186\"],[0.8,\"#7fbc41\"],[0.9,\"#4d9221\"],[1,\"#276419\"]],\"sequential\":[[0.0,\"#0d0887\"],[0.1111111111111111,\"#46039f\"],[0.2222222222222222,\"#7201a8\"],[0.3333333333333333,\"#9c179e\"],[0.4444444444444444,\"#bd3786\"],[0.5555555555555556,\"#d8576b\"],[0.6666666666666666,\"#ed7953\"],[0.7777777777777778,\"#fb9f3a\"],[0.8888888888888888,\"#fdca26\"],[1.0,\"#f0f921\"]],\"sequentialminus\":[[0.0,\"#0d0887\"],[0.1111111111111111,\"#46039f\"],[0.2222222222222222,\"#7201a8\"],[0.3333333333333333,\"#9c179e\"],[0.4444444444444444,\"#bd3786\"],[0.5555555555555556,\"#d8576b\"],[0.6666666666666666,\"#ed7953\"],[0.7777777777777778,\"#fb9f3a\"],[0.8888888888888888,\"#fdca26\"],[1.0,\"#f0f921\"]]},\"colorway\":[\"#636efa\",\"#EF553B\",\"#00cc96\",\"#ab63fa\",\"#FFA15A\",\"#19d3f3\",\"#FF6692\",\"#B6E880\",\"#FF97FF\",\"#FECB52\"],\"font\":{\"color\":\"#2a3f5f\"},\"geo\":{\"bgcolor\":\"white\",\"lakecolor\":\"white\",\"landcolor\":\"#E5ECF6\",\"showlakes\":true,\"showland\":true,\"subunitcolor\":\"white\"},\"hoverlabel\":{\"align\":\"left\"},\"hovermode\":\"closest\",\"mapbox\":{\"style\":\"light\"},\"paper_bgcolor\":\"white\",\"plot_bgcolor\":\"#E5ECF6\",\"polar\":{\"angularaxis\":{\"gridcolor\":\"white\",\"linecolor\":\"white\",\"ticks\":\"\"},\"bgcolor\":\"#E5ECF6\",\"radialaxis\":{\"gridcolor\":\"white\",\"linecolor\":\"white\",\"ticks\":\"\"}},\"scene\":{\"xaxis\":{\"backgroundcolor\":\"#E5ECF6\",\"gridcolor\":\"white\",\"gridwidth\":2,\"linecolor\":\"white\",\"showbackground\":true,\"ticks\":\"\",\"zerolinecolor\":\"white\"},\"yaxis\":{\"backgroundcolor\":\"#E5ECF6\",\"gridcolor\":\"white\",\"gridwidth\":2,\"linecolor\":\"white\",\"showbackground\":true,\"ticks\":\"\",\"zerolinecolor\":\"white\"},\"zaxis\":{\"backgroundcolor\":\"#E5ECF6\",\"gridcolor\":\"white\",\"gridwidth\":2,\"linecolor\":\"white\",\"showbackground\":true,\"ticks\":\"\",\"zerolinecolor\":\"white\"}},\"shapedefaults\":{\"line\":{\"color\":\"#2a3f5f\"}},\"ternary\":{\"aaxis\":{\"gridcolor\":\"white\",\"linecolor\":\"white\",\"ticks\":\"\"},\"baxis\":{\"gridcolor\":\"white\",\"linecolor\":\"white\",\"ticks\":\"\"},\"bgcolor\":\"#E5ECF6\",\"caxis\":{\"gridcolor\":\"white\",\"linecolor\":\"white\",\"ticks\":\"\"}},\"title\":{\"x\":0.05},\"xaxis\":{\"automargin\":true,\"gridcolor\":\"white\",\"linecolor\":\"white\",\"ticks\":\"\",\"title\":{\"standoff\":15},\"zerolinecolor\":\"white\",\"zerolinewidth\":2},\"yaxis\":{\"automargin\":true,\"gridcolor\":\"white\",\"linecolor\":\"white\",\"ticks\":\"\",\"title\":{\"standoff\":15},\"zerolinecolor\":\"white\",\"zerolinewidth\":2}}},\"updatemenus\":[{\"buttons\":[{\"args\":[{\"visible\":[true,true,true]},{\"showlegend\":true}],\"label\":\"All\",\"method\":\"update\"},{\"args\":[{\"visible\":[true,false,false]},{\"showlegend\":true}],\"label\":\"roles\",\"method\":\"update\"},{\"args\":[{\"visible\":[false,true,false]},{\"showlegend\":true}],\"label\":\"Location\",\"method\":\"update\"},{\"args\":[{\"visible\":[false,false,true]},{\"showlegend\":true}],\"label\":\"Company\",\"method\":\"update\"}],\"direction\":\"left\",\"font\":{\"color\":\"Indigo\",\"size\":14},\"pad\":{\"r\":10,\"t\":10},\"showactive\":true,\"type\":\"buttons\",\"x\":0.16,\"xanchor\":\"left\",\"y\":1.12,\"yanchor\":\"top\"}],\"annotations\":[{\"align\":\"right\",\"font\":{\"color\":\"DarkSlateBlue\",\"size\":16},\"showarrow\":false,\"text\":\"Choose:\",\"x\":0,\"y\":1.075,\"yref\":\"paper\"}],\"title\":{\"text\":\"Top 10 roles, Locations and Companies\",\"x\":0.5,\"font\":{\"size\":20,\"color\":\"MidnightBlue\"}}},                        {\"responsive\": true}                    ).then(function(){\n",
       "                            \n",
       "var gd = document.getElementById('8b94dfe0-3723-480a-9dc6-617b2ee54c70');\n",
       "var x = new MutationObserver(function (mutations, observer) {{\n",
       "        var display = window.getComputedStyle(gd).display;\n",
       "        if (!display || display === 'none') {{\n",
       "            console.log([gd, 'removed!']);\n",
       "            Plotly.purge(gd);\n",
       "            observer.disconnect();\n",
       "        }}\n",
       "}});\n",
       "\n",
       "// Listen for the removal of the full notebook cells\n",
       "var notebookContainer = gd.closest('#notebook-container');\n",
       "if (notebookContainer) {{\n",
       "    x.observe(notebookContainer, {childList: true});\n",
       "}}\n",
       "\n",
       "// Listen for the clearing of the current output cell\n",
       "var outputEl = gd.closest('.output');\n",
       "if (outputEl) {{\n",
       "    x.observe(outputEl, {childList: true});\n",
       "}}\n",
       "\n",
       "                        })                };                });            </script>        </div>"
      ]
     },
     "metadata": {},
     "output_type": "display_data"
    }
   ],
   "source": [
    "dfp = df['roles'].value_counts().head(10).sort_values(ascending = True).reset_index()\n",
    "dfl = df['locations'].value_counts().head(10).sort_values(ascending = True).reset_index()\n",
    "dfc = df['companies'].value_counts().head(10).sort_values(ascending = True).reset_index()\n",
    "\n",
    "fig = go.Figure()\n",
    "\n",
    "fig.add_trace(go.Bar(x = dfp['roles'],\n",
    "                     y = dfp['index'],\n",
    "                     orientation='h',\n",
    "                     name = 'roles',\n",
    "                     marker = dict(color = 'LightCoral')))\n",
    "\n",
    "fig.add_trace(go.Bar(x = dfl['locations'],\n",
    "                     y = dfl['index'],\n",
    "                     orientation='h',\n",
    "                     name = 'Locations',\n",
    "                     marker = dict(color = 'CadetBlue')))\n",
    "\n",
    "fig.add_trace(go.Bar(x = dfc['companies'],\n",
    "                     y = dfc['index'],\n",
    "                     orientation='h',\n",
    "                     name = 'Company',\n",
    "                     marker = dict(color = 'SteelBlue')))\n",
    "\n",
    "fig.update_layout( \n",
    "    updatemenus=[ \n",
    "        dict( \n",
    "            type = \"buttons\",\n",
    "            direction=\"left\", \n",
    "            pad={\"r\": 10, \"t\": 10},\n",
    "            showactive=True, \n",
    "            x=0.16, \n",
    "            xanchor=\"left\",\n",
    "            y=1.12, \n",
    "            yanchor=\"top\",\n",
    "            font = dict(color = 'Indigo',size = 14),\n",
    "            buttons=list([ \n",
    "                dict(label=\"All\", \n",
    "                     method=\"update\", \n",
    "                     args=[ {\"visible\": [True, True, True]}, \n",
    "                            {'showlegend' : True} \n",
    "                        ]),\n",
    "                dict(label=\"roles\", \n",
    "                     method=\"update\", \n",
    "                     args=[ {\"visible\": [True, False, False]}, \n",
    "                            {'showlegend' : True} \n",
    "                        ]), \n",
    "                dict(label='Location', \n",
    "                     method=\"update\", \n",
    "                     args=[ {\"visible\": [False, True, False]}, \n",
    "                            {'showlegend' : True} \n",
    "                     ]), \n",
    "                dict(label='Company', \n",
    "                     method=\"update\", \n",
    "                     args=[ {\"visible\": [False, False, True]}, \n",
    "                            {'showlegend' : True}]),\n",
    "            ]),\n",
    "        )])\n",
    "\n",
    "fig.update_layout(\n",
    "    annotations=[\n",
    "        dict(text=\"Choose:\", showarrow=False,\n",
    "             x=0, y=1.075, yref=\"paper\", align=\"right\",\n",
    "             font=dict(size=16,color = 'DarkSlateBlue'))])\n",
    "\n",
    "fig.update_layout(title =\"Top 10 roles, Locations and Companies\",\n",
    "                  title_x = 0.5,\n",
    "                  title_font = dict(size = 20, color = 'MidnightBlue'))\n",
    "\n",
    "fig.show()"
   ]
  },
  {
   "cell_type": "code",
   "execution_count": 287,
   "metadata": {},
   "outputs": [
    {
     "data": {
      "text/html": [
       "<div>\n",
       "<style scoped>\n",
       "    .dataframe tbody tr th:only-of-type {\n",
       "        vertical-align: middle;\n",
       "    }\n",
       "\n",
       "    .dataframe tbody tr th {\n",
       "        vertical-align: top;\n",
       "    }\n",
       "\n",
       "    .dataframe thead th {\n",
       "        text-align: right;\n",
       "    }\n",
       "</style>\n",
       "<table border=\"1\" class=\"dataframe\">\n",
       "  <thead>\n",
       "    <tr style=\"text-align: right;\">\n",
       "      <th></th>\n",
       "      <th>roles</th>\n",
       "      <th>companies</th>\n",
       "      <th>locations</th>\n",
       "      <th>experience</th>\n",
       "      <th>skills</th>\n",
       "      <th>min_experience</th>\n",
       "      <th>max_experience</th>\n",
       "    </tr>\n",
       "  </thead>\n",
       "  <tbody>\n",
       "    <tr>\n",
       "      <th>0</th>\n",
       "      <td>Data Scientist/ Academic Counselor</td>\n",
       "      <td>GREAT LAKES E-LEARNING SERVICES PRIVATE LIMITED</td>\n",
       "      <td>Chennai, Bengaluru</td>\n",
       "      <td>2-7 Yrs</td>\n",
       "      <td>Data Science\\nArtificial Intelligence\\ntrainin...</td>\n",
       "      <td>2</td>\n",
       "      <td>7</td>\n",
       "    </tr>\n",
       "    <tr>\n",
       "      <th>1</th>\n",
       "      <td>Data Scientist</td>\n",
       "      <td>Shell India Markets Private Limited</td>\n",
       "      <td>Chennai</td>\n",
       "      <td>5-7 Yrs</td>\n",
       "      <td>Data Science\\nMultivariate Analysis\\nFactor An...</td>\n",
       "      <td>5</td>\n",
       "      <td>7</td>\n",
       "    </tr>\n",
       "    <tr>\n",
       "      <th>2</th>\n",
       "      <td>Senior Data Scientist</td>\n",
       "      <td>Decision Point</td>\n",
       "      <td>Gurgaon</td>\n",
       "      <td>3-5 Yrs</td>\n",
       "      <td>Azure\\ntimeseries forecasting\\nMachine Learnin...</td>\n",
       "      <td>3</td>\n",
       "      <td>5</td>\n",
       "    </tr>\n",
       "    <tr>\n",
       "      <th>3</th>\n",
       "      <td>Data Scientist - Machine Learning &amp; Statistica...</td>\n",
       "      <td>Talent Stock Solutions</td>\n",
       "      <td>Delhi</td>\n",
       "      <td>2-5 Yrs</td>\n",
       "      <td>Data Science\\nR\\nC\\nData Scientist\\nStatistica...</td>\n",
       "      <td>2</td>\n",
       "      <td>5</td>\n",
       "    </tr>\n",
       "    <tr>\n",
       "      <th>4</th>\n",
       "      <td>Data Scientist</td>\n",
       "      <td>Zen3Tech (A Tech Mahindra Company)</td>\n",
       "      <td>Hyderabad</td>\n",
       "      <td>3-8 Yrs</td>\n",
       "      <td>R\\nA/B Testing\\nData Manipulation\\nMachine Lea...</td>\n",
       "      <td>3</td>\n",
       "      <td>8</td>\n",
       "    </tr>\n",
       "    <tr>\n",
       "      <th>5</th>\n",
       "      <td>Data Scientist</td>\n",
       "      <td>Extentia Information Technology Pvt Ltd</td>\n",
       "      <td>Pune</td>\n",
       "      <td>0-2 Yrs</td>\n",
       "      <td>Machine Learning\\nPython</td>\n",
       "      <td>0</td>\n",
       "      <td>2</td>\n",
       "    </tr>\n",
       "    <tr>\n",
       "      <th>6</th>\n",
       "      <td>Data Scientist</td>\n",
       "      <td>KONE Elevator India Pvt. Ltd</td>\n",
       "      <td>Pune</td>\n",
       "      <td>3-5 Yrs</td>\n",
       "      <td>predictive algorithms\\nK-Means\\nGithub\\nGenera...</td>\n",
       "      <td>3</td>\n",
       "      <td>5</td>\n",
       "    </tr>\n",
       "    <tr>\n",
       "      <th>7</th>\n",
       "      <td>Data Scientist | Integreon Managed Solutions |...</td>\n",
       "      <td>INTEGREON MANAGED SOLUTIONS INDIA PVT LIMITED</td>\n",
       "      <td>Mumbai</td>\n",
       "      <td>2-7 Yrs</td>\n",
       "      <td>analytics\\npython\\ntableau\\nregression\\npredic...</td>\n",
       "      <td>2</td>\n",
       "      <td>7</td>\n",
       "    </tr>\n",
       "    <tr>\n",
       "      <th>8</th>\n",
       "      <td>Data Scientist</td>\n",
       "      <td>Bigshyft Hiring for Indus OS</td>\n",
       "      <td>Mumbai</td>\n",
       "      <td>2-5 Yrs</td>\n",
       "      <td>cassandra\\nScala\\nHadoop\\nSpark\\nPython</td>\n",
       "      <td>2</td>\n",
       "      <td>5</td>\n",
       "    </tr>\n",
       "    <tr>\n",
       "      <th>9</th>\n",
       "      <td>Senior Data Scientist (NLP)</td>\n",
       "      <td>Visible Alpha Solutions India Pvt. Ltd.</td>\n",
       "      <td>Mumbai</td>\n",
       "      <td>5-7 Yrs</td>\n",
       "      <td>Java\\nR\\nNLP\\nAlgorithms\\nLinux\\nWeb Technolog...</td>\n",
       "      <td>5</td>\n",
       "      <td>7</td>\n",
       "    </tr>\n",
       "  </tbody>\n",
       "</table>\n",
       "</div>"
      ],
      "text/plain": [
       "                                               roles  \\\n",
       "0                 Data Scientist/ Academic Counselor   \n",
       "1                                     Data Scientist   \n",
       "2                              Senior Data Scientist   \n",
       "3  Data Scientist - Machine Learning & Statistica...   \n",
       "4                                     Data Scientist   \n",
       "5                                     Data Scientist   \n",
       "6                                     Data Scientist   \n",
       "7  Data Scientist | Integreon Managed Solutions |...   \n",
       "8                                     Data Scientist   \n",
       "9                        Senior Data Scientist (NLP)   \n",
       "\n",
       "                                         companies           locations  \\\n",
       "0  GREAT LAKES E-LEARNING SERVICES PRIVATE LIMITED  Chennai, Bengaluru   \n",
       "1              Shell India Markets Private Limited             Chennai   \n",
       "2                                   Decision Point             Gurgaon   \n",
       "3                           Talent Stock Solutions               Delhi   \n",
       "4               Zen3Tech (A Tech Mahindra Company)           Hyderabad   \n",
       "5          Extentia Information Technology Pvt Ltd                Pune   \n",
       "6                     KONE Elevator India Pvt. Ltd                Pune   \n",
       "7    INTEGREON MANAGED SOLUTIONS INDIA PVT LIMITED              Mumbai   \n",
       "8                     Bigshyft Hiring for Indus OS              Mumbai   \n",
       "9          Visible Alpha Solutions India Pvt. Ltd.              Mumbai   \n",
       "\n",
       "  experience                                             skills  \\\n",
       "0    2-7 Yrs  Data Science\\nArtificial Intelligence\\ntrainin...   \n",
       "1    5-7 Yrs  Data Science\\nMultivariate Analysis\\nFactor An...   \n",
       "2    3-5 Yrs  Azure\\ntimeseries forecasting\\nMachine Learnin...   \n",
       "3    2-5 Yrs  Data Science\\nR\\nC\\nData Scientist\\nStatistica...   \n",
       "4    3-8 Yrs  R\\nA/B Testing\\nData Manipulation\\nMachine Lea...   \n",
       "5    0-2 Yrs                           Machine Learning\\nPython   \n",
       "6    3-5 Yrs  predictive algorithms\\nK-Means\\nGithub\\nGenera...   \n",
       "7    2-7 Yrs  analytics\\npython\\ntableau\\nregression\\npredic...   \n",
       "8    2-5 Yrs            cassandra\\nScala\\nHadoop\\nSpark\\nPython   \n",
       "9    5-7 Yrs  Java\\nR\\nNLP\\nAlgorithms\\nLinux\\nWeb Technolog...   \n",
       "\n",
       "  min_experience max_experience  \n",
       "0              2              7  \n",
       "1              5              7  \n",
       "2              3              5  \n",
       "3              2              5  \n",
       "4              3              8  \n",
       "5              0              2  \n",
       "6              3              5  \n",
       "7              2              7  \n",
       "8              2              5  \n",
       "9              5              7  "
      ]
     },
     "execution_count": 287,
     "metadata": {},
     "output_type": "execute_result"
    }
   ],
   "source": [
    "new = df[\"experience\"].str.split(\"-\", n=1,expand = True)\n",
    "df[\"min_experience\"] = new[0]\n",
    "df[\"max_experience\"] = new[1]\n",
    "\n",
    "max_experience = df[\"max_experience\"].str.split(\" \",n=1,expand = True)\n",
    "df[\"max_experience\"]=max_experience[0]\n",
    "\n",
    "df.head(10)"
   ]
  },
  {
   "cell_type": "code",
   "execution_count": 288,
   "metadata": {},
   "outputs": [
    {
     "data": {
      "application/vnd.plotly.v1+json": {
       "config": {
        "plotlyServerURL": "https://plot.ly"
       },
       "data": [
        {
         "marker": {
          "color": "Tomato"
         },
         "name": "Data Scientist",
         "type": "bar",
         "x": [
          "Bengaluru",
          "Pune",
          "Mumbai",
          "Hyderabad",
          "Gurgaon",
          "Chennai",
          "Noida",
          "Delhi",
          "India",
          "Coimbatore"
         ],
         "y": [
          87,
          37,
          31,
          31,
          24,
          22,
          16,
          13,
          7,
          4
         ]
        },
        {
         "marker": {
          "color": "LightCoral"
         },
         "name": "Senior Data Scientist",
         "type": "bar",
         "x": [
          "Bengaluru",
          "Hyderabad",
          "Pune",
          "Chennai",
          "Gurgaon",
          "Mumbai",
          "Bengaluru(Whitefield)",
          "Chandigarh",
          "Bengaluru, Gurgaon",
          "Chennai, Bengaluru, Hyderabad"
         ],
         "y": [
          25,
          7,
          6,
          4,
          3,
          3,
          2,
          2,
          2,
          2
         ]
        },
        {
         "marker": {
          "color": "SteelBlue"
         },
         "name": "Lead Data Scientist",
         "type": "bar",
         "x": [
          "Bengaluru",
          "Mumbai",
          "Delhi NCR(Shalimar Bagh), Delhi",
          "Pune",
          "Hyderabad",
          "Pune, Hyderabad(Gachibowli)",
          "Bengaluru, Noida",
          "Chennai",
          "Remote"
         ],
         "y": [
          12,
          8,
          2,
          1,
          1,
          1,
          1,
          1,
          1
         ]
        },
        {
         "marker": {
          "color": "CadetBlue"
         },
         "name": "Full Stack Data Scientist",
         "type": "bar",
         "x": [
          "Noida",
          "Gurgaon, haryana",
          "Gurgaon",
          "Bengaluru"
         ],
         "y": [
          6,
          3,
          2,
          2
         ]
        }
       ],
       "layout": {
        "annotations": [
         {
          "align": "right",
          "font": {
           "color": "DarkSlateBlue",
           "size": 16
          },
          "showarrow": false,
          "text": "Choose:",
          "x": 0,
          "y": 1.075,
          "yref": "paper"
         }
        ],
        "template": {
         "data": {
          "bar": [
           {
            "error_x": {
             "color": "#2a3f5f"
            },
            "error_y": {
             "color": "#2a3f5f"
            },
            "marker": {
             "line": {
              "color": "#E5ECF6",
              "width": 0.5
             },
             "pattern": {
              "fillmode": "overlay",
              "size": 10,
              "solidity": 0.2
             }
            },
            "type": "bar"
           }
          ],
          "barpolar": [
           {
            "marker": {
             "line": {
              "color": "#E5ECF6",
              "width": 0.5
             },
             "pattern": {
              "fillmode": "overlay",
              "size": 10,
              "solidity": 0.2
             }
            },
            "type": "barpolar"
           }
          ],
          "carpet": [
           {
            "aaxis": {
             "endlinecolor": "#2a3f5f",
             "gridcolor": "white",
             "linecolor": "white",
             "minorgridcolor": "white",
             "startlinecolor": "#2a3f5f"
            },
            "baxis": {
             "endlinecolor": "#2a3f5f",
             "gridcolor": "white",
             "linecolor": "white",
             "minorgridcolor": "white",
             "startlinecolor": "#2a3f5f"
            },
            "type": "carpet"
           }
          ],
          "choropleth": [
           {
            "colorbar": {
             "outlinewidth": 0,
             "ticks": ""
            },
            "type": "choropleth"
           }
          ],
          "contour": [
           {
            "colorbar": {
             "outlinewidth": 0,
             "ticks": ""
            },
            "colorscale": [
             [
              0,
              "#0d0887"
             ],
             [
              0.1111111111111111,
              "#46039f"
             ],
             [
              0.2222222222222222,
              "#7201a8"
             ],
             [
              0.3333333333333333,
              "#9c179e"
             ],
             [
              0.4444444444444444,
              "#bd3786"
             ],
             [
              0.5555555555555556,
              "#d8576b"
             ],
             [
              0.6666666666666666,
              "#ed7953"
             ],
             [
              0.7777777777777778,
              "#fb9f3a"
             ],
             [
              0.8888888888888888,
              "#fdca26"
             ],
             [
              1,
              "#f0f921"
             ]
            ],
            "type": "contour"
           }
          ],
          "contourcarpet": [
           {
            "colorbar": {
             "outlinewidth": 0,
             "ticks": ""
            },
            "type": "contourcarpet"
           }
          ],
          "heatmap": [
           {
            "colorbar": {
             "outlinewidth": 0,
             "ticks": ""
            },
            "colorscale": [
             [
              0,
              "#0d0887"
             ],
             [
              0.1111111111111111,
              "#46039f"
             ],
             [
              0.2222222222222222,
              "#7201a8"
             ],
             [
              0.3333333333333333,
              "#9c179e"
             ],
             [
              0.4444444444444444,
              "#bd3786"
             ],
             [
              0.5555555555555556,
              "#d8576b"
             ],
             [
              0.6666666666666666,
              "#ed7953"
             ],
             [
              0.7777777777777778,
              "#fb9f3a"
             ],
             [
              0.8888888888888888,
              "#fdca26"
             ],
             [
              1,
              "#f0f921"
             ]
            ],
            "type": "heatmap"
           }
          ],
          "heatmapgl": [
           {
            "colorbar": {
             "outlinewidth": 0,
             "ticks": ""
            },
            "colorscale": [
             [
              0,
              "#0d0887"
             ],
             [
              0.1111111111111111,
              "#46039f"
             ],
             [
              0.2222222222222222,
              "#7201a8"
             ],
             [
              0.3333333333333333,
              "#9c179e"
             ],
             [
              0.4444444444444444,
              "#bd3786"
             ],
             [
              0.5555555555555556,
              "#d8576b"
             ],
             [
              0.6666666666666666,
              "#ed7953"
             ],
             [
              0.7777777777777778,
              "#fb9f3a"
             ],
             [
              0.8888888888888888,
              "#fdca26"
             ],
             [
              1,
              "#f0f921"
             ]
            ],
            "type": "heatmapgl"
           }
          ],
          "histogram": [
           {
            "marker": {
             "pattern": {
              "fillmode": "overlay",
              "size": 10,
              "solidity": 0.2
             }
            },
            "type": "histogram"
           }
          ],
          "histogram2d": [
           {
            "colorbar": {
             "outlinewidth": 0,
             "ticks": ""
            },
            "colorscale": [
             [
              0,
              "#0d0887"
             ],
             [
              0.1111111111111111,
              "#46039f"
             ],
             [
              0.2222222222222222,
              "#7201a8"
             ],
             [
              0.3333333333333333,
              "#9c179e"
             ],
             [
              0.4444444444444444,
              "#bd3786"
             ],
             [
              0.5555555555555556,
              "#d8576b"
             ],
             [
              0.6666666666666666,
              "#ed7953"
             ],
             [
              0.7777777777777778,
              "#fb9f3a"
             ],
             [
              0.8888888888888888,
              "#fdca26"
             ],
             [
              1,
              "#f0f921"
             ]
            ],
            "type": "histogram2d"
           }
          ],
          "histogram2dcontour": [
           {
            "colorbar": {
             "outlinewidth": 0,
             "ticks": ""
            },
            "colorscale": [
             [
              0,
              "#0d0887"
             ],
             [
              0.1111111111111111,
              "#46039f"
             ],
             [
              0.2222222222222222,
              "#7201a8"
             ],
             [
              0.3333333333333333,
              "#9c179e"
             ],
             [
              0.4444444444444444,
              "#bd3786"
             ],
             [
              0.5555555555555556,
              "#d8576b"
             ],
             [
              0.6666666666666666,
              "#ed7953"
             ],
             [
              0.7777777777777778,
              "#fb9f3a"
             ],
             [
              0.8888888888888888,
              "#fdca26"
             ],
             [
              1,
              "#f0f921"
             ]
            ],
            "type": "histogram2dcontour"
           }
          ],
          "mesh3d": [
           {
            "colorbar": {
             "outlinewidth": 0,
             "ticks": ""
            },
            "type": "mesh3d"
           }
          ],
          "parcoords": [
           {
            "line": {
             "colorbar": {
              "outlinewidth": 0,
              "ticks": ""
             }
            },
            "type": "parcoords"
           }
          ],
          "pie": [
           {
            "automargin": true,
            "type": "pie"
           }
          ],
          "scatter": [
           {
            "marker": {
             "colorbar": {
              "outlinewidth": 0,
              "ticks": ""
             }
            },
            "type": "scatter"
           }
          ],
          "scatter3d": [
           {
            "line": {
             "colorbar": {
              "outlinewidth": 0,
              "ticks": ""
             }
            },
            "marker": {
             "colorbar": {
              "outlinewidth": 0,
              "ticks": ""
             }
            },
            "type": "scatter3d"
           }
          ],
          "scattercarpet": [
           {
            "marker": {
             "colorbar": {
              "outlinewidth": 0,
              "ticks": ""
             }
            },
            "type": "scattercarpet"
           }
          ],
          "scattergeo": [
           {
            "marker": {
             "colorbar": {
              "outlinewidth": 0,
              "ticks": ""
             }
            },
            "type": "scattergeo"
           }
          ],
          "scattergl": [
           {
            "marker": {
             "colorbar": {
              "outlinewidth": 0,
              "ticks": ""
             }
            },
            "type": "scattergl"
           }
          ],
          "scattermapbox": [
           {
            "marker": {
             "colorbar": {
              "outlinewidth": 0,
              "ticks": ""
             }
            },
            "type": "scattermapbox"
           }
          ],
          "scatterpolar": [
           {
            "marker": {
             "colorbar": {
              "outlinewidth": 0,
              "ticks": ""
             }
            },
            "type": "scatterpolar"
           }
          ],
          "scatterpolargl": [
           {
            "marker": {
             "colorbar": {
              "outlinewidth": 0,
              "ticks": ""
             }
            },
            "type": "scatterpolargl"
           }
          ],
          "scatterternary": [
           {
            "marker": {
             "colorbar": {
              "outlinewidth": 0,
              "ticks": ""
             }
            },
            "type": "scatterternary"
           }
          ],
          "surface": [
           {
            "colorbar": {
             "outlinewidth": 0,
             "ticks": ""
            },
            "colorscale": [
             [
              0,
              "#0d0887"
             ],
             [
              0.1111111111111111,
              "#46039f"
             ],
             [
              0.2222222222222222,
              "#7201a8"
             ],
             [
              0.3333333333333333,
              "#9c179e"
             ],
             [
              0.4444444444444444,
              "#bd3786"
             ],
             [
              0.5555555555555556,
              "#d8576b"
             ],
             [
              0.6666666666666666,
              "#ed7953"
             ],
             [
              0.7777777777777778,
              "#fb9f3a"
             ],
             [
              0.8888888888888888,
              "#fdca26"
             ],
             [
              1,
              "#f0f921"
             ]
            ],
            "type": "surface"
           }
          ],
          "table": [
           {
            "cells": {
             "fill": {
              "color": "#EBF0F8"
             },
             "line": {
              "color": "white"
             }
            },
            "header": {
             "fill": {
              "color": "#C8D4E3"
             },
             "line": {
              "color": "white"
             }
            },
            "type": "table"
           }
          ]
         },
         "layout": {
          "annotationdefaults": {
           "arrowcolor": "#2a3f5f",
           "arrowhead": 0,
           "arrowwidth": 1
          },
          "autotypenumbers": "strict",
          "coloraxis": {
           "colorbar": {
            "outlinewidth": 0,
            "ticks": ""
           }
          },
          "colorscale": {
           "diverging": [
            [
             0,
             "#8e0152"
            ],
            [
             0.1,
             "#c51b7d"
            ],
            [
             0.2,
             "#de77ae"
            ],
            [
             0.3,
             "#f1b6da"
            ],
            [
             0.4,
             "#fde0ef"
            ],
            [
             0.5,
             "#f7f7f7"
            ],
            [
             0.6,
             "#e6f5d0"
            ],
            [
             0.7,
             "#b8e186"
            ],
            [
             0.8,
             "#7fbc41"
            ],
            [
             0.9,
             "#4d9221"
            ],
            [
             1,
             "#276419"
            ]
           ],
           "sequential": [
            [
             0,
             "#0d0887"
            ],
            [
             0.1111111111111111,
             "#46039f"
            ],
            [
             0.2222222222222222,
             "#7201a8"
            ],
            [
             0.3333333333333333,
             "#9c179e"
            ],
            [
             0.4444444444444444,
             "#bd3786"
            ],
            [
             0.5555555555555556,
             "#d8576b"
            ],
            [
             0.6666666666666666,
             "#ed7953"
            ],
            [
             0.7777777777777778,
             "#fb9f3a"
            ],
            [
             0.8888888888888888,
             "#fdca26"
            ],
            [
             1,
             "#f0f921"
            ]
           ],
           "sequentialminus": [
            [
             0,
             "#0d0887"
            ],
            [
             0.1111111111111111,
             "#46039f"
            ],
            [
             0.2222222222222222,
             "#7201a8"
            ],
            [
             0.3333333333333333,
             "#9c179e"
            ],
            [
             0.4444444444444444,
             "#bd3786"
            ],
            [
             0.5555555555555556,
             "#d8576b"
            ],
            [
             0.6666666666666666,
             "#ed7953"
            ],
            [
             0.7777777777777778,
             "#fb9f3a"
            ],
            [
             0.8888888888888888,
             "#fdca26"
            ],
            [
             1,
             "#f0f921"
            ]
           ]
          },
          "colorway": [
           "#636efa",
           "#EF553B",
           "#00cc96",
           "#ab63fa",
           "#FFA15A",
           "#19d3f3",
           "#FF6692",
           "#B6E880",
           "#FF97FF",
           "#FECB52"
          ],
          "font": {
           "color": "#2a3f5f"
          },
          "geo": {
           "bgcolor": "white",
           "lakecolor": "white",
           "landcolor": "#E5ECF6",
           "showlakes": true,
           "showland": true,
           "subunitcolor": "white"
          },
          "hoverlabel": {
           "align": "left"
          },
          "hovermode": "closest",
          "mapbox": {
           "style": "light"
          },
          "paper_bgcolor": "white",
          "plot_bgcolor": "#E5ECF6",
          "polar": {
           "angularaxis": {
            "gridcolor": "white",
            "linecolor": "white",
            "ticks": ""
           },
           "bgcolor": "#E5ECF6",
           "radialaxis": {
            "gridcolor": "white",
            "linecolor": "white",
            "ticks": ""
           }
          },
          "scene": {
           "xaxis": {
            "backgroundcolor": "#E5ECF6",
            "gridcolor": "white",
            "gridwidth": 2,
            "linecolor": "white",
            "showbackground": true,
            "ticks": "",
            "zerolinecolor": "white"
           },
           "yaxis": {
            "backgroundcolor": "#E5ECF6",
            "gridcolor": "white",
            "gridwidth": 2,
            "linecolor": "white",
            "showbackground": true,
            "ticks": "",
            "zerolinecolor": "white"
           },
           "zaxis": {
            "backgroundcolor": "#E5ECF6",
            "gridcolor": "white",
            "gridwidth": 2,
            "linecolor": "white",
            "showbackground": true,
            "ticks": "",
            "zerolinecolor": "white"
           }
          },
          "shapedefaults": {
           "line": {
            "color": "#2a3f5f"
           }
          },
          "ternary": {
           "aaxis": {
            "gridcolor": "white",
            "linecolor": "white",
            "ticks": ""
           },
           "baxis": {
            "gridcolor": "white",
            "linecolor": "white",
            "ticks": ""
           },
           "bgcolor": "#E5ECF6",
           "caxis": {
            "gridcolor": "white",
            "linecolor": "white",
            "ticks": ""
           }
          },
          "title": {
           "x": 0.05
          },
          "xaxis": {
           "automargin": true,
           "gridcolor": "white",
           "linecolor": "white",
           "ticks": "",
           "title": {
            "standoff": 15
           },
           "zerolinecolor": "white",
           "zerolinewidth": 2
          },
          "yaxis": {
           "automargin": true,
           "gridcolor": "white",
           "linecolor": "white",
           "ticks": "",
           "title": {
            "standoff": 15
           },
           "zerolinecolor": "white",
           "zerolinewidth": 2
          }
         }
        },
        "title": {
         "font": {
          "color": "MidnightBlue",
          "size": 20
         },
         "text": "The distribution of states by four roles",
         "x": 0.5
        },
        "updatemenus": [
         {
          "buttons": [
           {
            "args": [
             {
              "visible": [
               true,
               true,
               true,
               true
              ]
             },
             {
              "showlegend": true
             }
            ],
            "label": "All",
            "method": "update"
           },
           {
            "args": [
             {
              "visible": [
               true,
               false,
               false,
               false
              ]
             },
             {
              "showlegend": true
             }
            ],
            "label": "Data Scientist",
            "method": "update"
           },
           {
            "args": [
             {
              "visible": [
               false,
               true,
               false,
               false
              ]
             },
             {
              "showlegend": true
             }
            ],
            "label": "Senior Data Scientist",
            "method": "update"
           },
           {
            "args": [
             {
              "visible": [
               false,
               false,
               true,
               false
              ]
             },
             {
              "showlegend": true
             }
            ],
            "label": "Lead Data Scientist",
            "method": "update"
           },
           {
            "args": [
             {
              "visible": [
               false,
               false,
               false,
               true
              ]
             },
             {
              "showlegend": true
             }
            ],
            "label": "Full Stack Data Scientist",
            "method": "update"
           }
          ],
          "direction": "down",
          "font": {
           "color": "Indigo",
           "size": 14
          },
          "pad": {
           "r": 10,
           "t": 10
          },
          "showactive": true,
          "x": 0.13,
          "xanchor": "left",
          "y": 1.12,
          "yanchor": "top"
         }
        ]
       }
      },
      "text/html": [
       "<div>                            <div id=\"2bc622dc-d648-41af-8106-b26d0e00968f\" class=\"plotly-graph-div\" style=\"height:525px; width:100%;\"></div>            <script type=\"text/javascript\">                require([\"plotly\"], function(Plotly) {                    window.PLOTLYENV=window.PLOTLYENV || {};                                    if (document.getElementById(\"2bc622dc-d648-41af-8106-b26d0e00968f\")) {                    Plotly.newPlot(                        \"2bc622dc-d648-41af-8106-b26d0e00968f\",                        [{\"marker\":{\"color\":\"Tomato\"},\"name\":\"Data Scientist\",\"x\":[\"Bengaluru\",\"Pune\",\"Mumbai\",\"Hyderabad\",\"Gurgaon\",\"Chennai\",\"Noida\",\"Delhi\",\"India\",\"Coimbatore\"],\"y\":[87,37,31,31,24,22,16,13,7,4],\"type\":\"bar\"},{\"marker\":{\"color\":\"LightCoral\"},\"name\":\"Senior Data Scientist\",\"x\":[\"Bengaluru\",\"Hyderabad\",\"Pune\",\"Chennai\",\"Gurgaon\",\"Mumbai\",\"Bengaluru(Whitefield)\",\"Chandigarh\",\"Bengaluru, Gurgaon\",\"Chennai, Bengaluru, Hyderabad\"],\"y\":[25,7,6,4,3,3,2,2,2,2],\"type\":\"bar\"},{\"marker\":{\"color\":\"SteelBlue\"},\"name\":\"Lead Data Scientist\",\"x\":[\"Bengaluru\",\"Mumbai\",\"Delhi NCR(Shalimar Bagh), Delhi\",\"Pune\",\"Hyderabad\",\"Pune, Hyderabad(Gachibowli)\",\"Bengaluru, Noida\",\"Chennai\",\"Remote\"],\"y\":[12,8,2,1,1,1,1,1,1],\"type\":\"bar\"},{\"marker\":{\"color\":\"CadetBlue\"},\"name\":\"Full Stack Data Scientist\",\"x\":[\"Noida\",\"Gurgaon, haryana\",\"Gurgaon\",\"Bengaluru\"],\"y\":[6,3,2,2],\"type\":\"bar\"}],                        {\"template\":{\"data\":{\"bar\":[{\"error_x\":{\"color\":\"#2a3f5f\"},\"error_y\":{\"color\":\"#2a3f5f\"},\"marker\":{\"line\":{\"color\":\"#E5ECF6\",\"width\":0.5},\"pattern\":{\"fillmode\":\"overlay\",\"size\":10,\"solidity\":0.2}},\"type\":\"bar\"}],\"barpolar\":[{\"marker\":{\"line\":{\"color\":\"#E5ECF6\",\"width\":0.5},\"pattern\":{\"fillmode\":\"overlay\",\"size\":10,\"solidity\":0.2}},\"type\":\"barpolar\"}],\"carpet\":[{\"aaxis\":{\"endlinecolor\":\"#2a3f5f\",\"gridcolor\":\"white\",\"linecolor\":\"white\",\"minorgridcolor\":\"white\",\"startlinecolor\":\"#2a3f5f\"},\"baxis\":{\"endlinecolor\":\"#2a3f5f\",\"gridcolor\":\"white\",\"linecolor\":\"white\",\"minorgridcolor\":\"white\",\"startlinecolor\":\"#2a3f5f\"},\"type\":\"carpet\"}],\"choropleth\":[{\"colorbar\":{\"outlinewidth\":0,\"ticks\":\"\"},\"type\":\"choropleth\"}],\"contour\":[{\"colorbar\":{\"outlinewidth\":0,\"ticks\":\"\"},\"colorscale\":[[0.0,\"#0d0887\"],[0.1111111111111111,\"#46039f\"],[0.2222222222222222,\"#7201a8\"],[0.3333333333333333,\"#9c179e\"],[0.4444444444444444,\"#bd3786\"],[0.5555555555555556,\"#d8576b\"],[0.6666666666666666,\"#ed7953\"],[0.7777777777777778,\"#fb9f3a\"],[0.8888888888888888,\"#fdca26\"],[1.0,\"#f0f921\"]],\"type\":\"contour\"}],\"contourcarpet\":[{\"colorbar\":{\"outlinewidth\":0,\"ticks\":\"\"},\"type\":\"contourcarpet\"}],\"heatmap\":[{\"colorbar\":{\"outlinewidth\":0,\"ticks\":\"\"},\"colorscale\":[[0.0,\"#0d0887\"],[0.1111111111111111,\"#46039f\"],[0.2222222222222222,\"#7201a8\"],[0.3333333333333333,\"#9c179e\"],[0.4444444444444444,\"#bd3786\"],[0.5555555555555556,\"#d8576b\"],[0.6666666666666666,\"#ed7953\"],[0.7777777777777778,\"#fb9f3a\"],[0.8888888888888888,\"#fdca26\"],[1.0,\"#f0f921\"]],\"type\":\"heatmap\"}],\"heatmapgl\":[{\"colorbar\":{\"outlinewidth\":0,\"ticks\":\"\"},\"colorscale\":[[0.0,\"#0d0887\"],[0.1111111111111111,\"#46039f\"],[0.2222222222222222,\"#7201a8\"],[0.3333333333333333,\"#9c179e\"],[0.4444444444444444,\"#bd3786\"],[0.5555555555555556,\"#d8576b\"],[0.6666666666666666,\"#ed7953\"],[0.7777777777777778,\"#fb9f3a\"],[0.8888888888888888,\"#fdca26\"],[1.0,\"#f0f921\"]],\"type\":\"heatmapgl\"}],\"histogram\":[{\"marker\":{\"pattern\":{\"fillmode\":\"overlay\",\"size\":10,\"solidity\":0.2}},\"type\":\"histogram\"}],\"histogram2d\":[{\"colorbar\":{\"outlinewidth\":0,\"ticks\":\"\"},\"colorscale\":[[0.0,\"#0d0887\"],[0.1111111111111111,\"#46039f\"],[0.2222222222222222,\"#7201a8\"],[0.3333333333333333,\"#9c179e\"],[0.4444444444444444,\"#bd3786\"],[0.5555555555555556,\"#d8576b\"],[0.6666666666666666,\"#ed7953\"],[0.7777777777777778,\"#fb9f3a\"],[0.8888888888888888,\"#fdca26\"],[1.0,\"#f0f921\"]],\"type\":\"histogram2d\"}],\"histogram2dcontour\":[{\"colorbar\":{\"outlinewidth\":0,\"ticks\":\"\"},\"colorscale\":[[0.0,\"#0d0887\"],[0.1111111111111111,\"#46039f\"],[0.2222222222222222,\"#7201a8\"],[0.3333333333333333,\"#9c179e\"],[0.4444444444444444,\"#bd3786\"],[0.5555555555555556,\"#d8576b\"],[0.6666666666666666,\"#ed7953\"],[0.7777777777777778,\"#fb9f3a\"],[0.8888888888888888,\"#fdca26\"],[1.0,\"#f0f921\"]],\"type\":\"histogram2dcontour\"}],\"mesh3d\":[{\"colorbar\":{\"outlinewidth\":0,\"ticks\":\"\"},\"type\":\"mesh3d\"}],\"parcoords\":[{\"line\":{\"colorbar\":{\"outlinewidth\":0,\"ticks\":\"\"}},\"type\":\"parcoords\"}],\"pie\":[{\"automargin\":true,\"type\":\"pie\"}],\"scatter\":[{\"marker\":{\"colorbar\":{\"outlinewidth\":0,\"ticks\":\"\"}},\"type\":\"scatter\"}],\"scatter3d\":[{\"line\":{\"colorbar\":{\"outlinewidth\":0,\"ticks\":\"\"}},\"marker\":{\"colorbar\":{\"outlinewidth\":0,\"ticks\":\"\"}},\"type\":\"scatter3d\"}],\"scattercarpet\":[{\"marker\":{\"colorbar\":{\"outlinewidth\":0,\"ticks\":\"\"}},\"type\":\"scattercarpet\"}],\"scattergeo\":[{\"marker\":{\"colorbar\":{\"outlinewidth\":0,\"ticks\":\"\"}},\"type\":\"scattergeo\"}],\"scattergl\":[{\"marker\":{\"colorbar\":{\"outlinewidth\":0,\"ticks\":\"\"}},\"type\":\"scattergl\"}],\"scattermapbox\":[{\"marker\":{\"colorbar\":{\"outlinewidth\":0,\"ticks\":\"\"}},\"type\":\"scattermapbox\"}],\"scatterpolar\":[{\"marker\":{\"colorbar\":{\"outlinewidth\":0,\"ticks\":\"\"}},\"type\":\"scatterpolar\"}],\"scatterpolargl\":[{\"marker\":{\"colorbar\":{\"outlinewidth\":0,\"ticks\":\"\"}},\"type\":\"scatterpolargl\"}],\"scatterternary\":[{\"marker\":{\"colorbar\":{\"outlinewidth\":0,\"ticks\":\"\"}},\"type\":\"scatterternary\"}],\"surface\":[{\"colorbar\":{\"outlinewidth\":0,\"ticks\":\"\"},\"colorscale\":[[0.0,\"#0d0887\"],[0.1111111111111111,\"#46039f\"],[0.2222222222222222,\"#7201a8\"],[0.3333333333333333,\"#9c179e\"],[0.4444444444444444,\"#bd3786\"],[0.5555555555555556,\"#d8576b\"],[0.6666666666666666,\"#ed7953\"],[0.7777777777777778,\"#fb9f3a\"],[0.8888888888888888,\"#fdca26\"],[1.0,\"#f0f921\"]],\"type\":\"surface\"}],\"table\":[{\"cells\":{\"fill\":{\"color\":\"#EBF0F8\"},\"line\":{\"color\":\"white\"}},\"header\":{\"fill\":{\"color\":\"#C8D4E3\"},\"line\":{\"color\":\"white\"}},\"type\":\"table\"}]},\"layout\":{\"annotationdefaults\":{\"arrowcolor\":\"#2a3f5f\",\"arrowhead\":0,\"arrowwidth\":1},\"autotypenumbers\":\"strict\",\"coloraxis\":{\"colorbar\":{\"outlinewidth\":0,\"ticks\":\"\"}},\"colorscale\":{\"diverging\":[[0,\"#8e0152\"],[0.1,\"#c51b7d\"],[0.2,\"#de77ae\"],[0.3,\"#f1b6da\"],[0.4,\"#fde0ef\"],[0.5,\"#f7f7f7\"],[0.6,\"#e6f5d0\"],[0.7,\"#b8e186\"],[0.8,\"#7fbc41\"],[0.9,\"#4d9221\"],[1,\"#276419\"]],\"sequential\":[[0.0,\"#0d0887\"],[0.1111111111111111,\"#46039f\"],[0.2222222222222222,\"#7201a8\"],[0.3333333333333333,\"#9c179e\"],[0.4444444444444444,\"#bd3786\"],[0.5555555555555556,\"#d8576b\"],[0.6666666666666666,\"#ed7953\"],[0.7777777777777778,\"#fb9f3a\"],[0.8888888888888888,\"#fdca26\"],[1.0,\"#f0f921\"]],\"sequentialminus\":[[0.0,\"#0d0887\"],[0.1111111111111111,\"#46039f\"],[0.2222222222222222,\"#7201a8\"],[0.3333333333333333,\"#9c179e\"],[0.4444444444444444,\"#bd3786\"],[0.5555555555555556,\"#d8576b\"],[0.6666666666666666,\"#ed7953\"],[0.7777777777777778,\"#fb9f3a\"],[0.8888888888888888,\"#fdca26\"],[1.0,\"#f0f921\"]]},\"colorway\":[\"#636efa\",\"#EF553B\",\"#00cc96\",\"#ab63fa\",\"#FFA15A\",\"#19d3f3\",\"#FF6692\",\"#B6E880\",\"#FF97FF\",\"#FECB52\"],\"font\":{\"color\":\"#2a3f5f\"},\"geo\":{\"bgcolor\":\"white\",\"lakecolor\":\"white\",\"landcolor\":\"#E5ECF6\",\"showlakes\":true,\"showland\":true,\"subunitcolor\":\"white\"},\"hoverlabel\":{\"align\":\"left\"},\"hovermode\":\"closest\",\"mapbox\":{\"style\":\"light\"},\"paper_bgcolor\":\"white\",\"plot_bgcolor\":\"#E5ECF6\",\"polar\":{\"angularaxis\":{\"gridcolor\":\"white\",\"linecolor\":\"white\",\"ticks\":\"\"},\"bgcolor\":\"#E5ECF6\",\"radialaxis\":{\"gridcolor\":\"white\",\"linecolor\":\"white\",\"ticks\":\"\"}},\"scene\":{\"xaxis\":{\"backgroundcolor\":\"#E5ECF6\",\"gridcolor\":\"white\",\"gridwidth\":2,\"linecolor\":\"white\",\"showbackground\":true,\"ticks\":\"\",\"zerolinecolor\":\"white\"},\"yaxis\":{\"backgroundcolor\":\"#E5ECF6\",\"gridcolor\":\"white\",\"gridwidth\":2,\"linecolor\":\"white\",\"showbackground\":true,\"ticks\":\"\",\"zerolinecolor\":\"white\"},\"zaxis\":{\"backgroundcolor\":\"#E5ECF6\",\"gridcolor\":\"white\",\"gridwidth\":2,\"linecolor\":\"white\",\"showbackground\":true,\"ticks\":\"\",\"zerolinecolor\":\"white\"}},\"shapedefaults\":{\"line\":{\"color\":\"#2a3f5f\"}},\"ternary\":{\"aaxis\":{\"gridcolor\":\"white\",\"linecolor\":\"white\",\"ticks\":\"\"},\"baxis\":{\"gridcolor\":\"white\",\"linecolor\":\"white\",\"ticks\":\"\"},\"bgcolor\":\"#E5ECF6\",\"caxis\":{\"gridcolor\":\"white\",\"linecolor\":\"white\",\"ticks\":\"\"}},\"title\":{\"x\":0.05},\"xaxis\":{\"automargin\":true,\"gridcolor\":\"white\",\"linecolor\":\"white\",\"ticks\":\"\",\"title\":{\"standoff\":15},\"zerolinecolor\":\"white\",\"zerolinewidth\":2},\"yaxis\":{\"automargin\":true,\"gridcolor\":\"white\",\"linecolor\":\"white\",\"ticks\":\"\",\"title\":{\"standoff\":15},\"zerolinecolor\":\"white\",\"zerolinewidth\":2}}},\"updatemenus\":[{\"buttons\":[{\"args\":[{\"visible\":[true,true,true,true]},{\"showlegend\":true}],\"label\":\"All\",\"method\":\"update\"},{\"args\":[{\"visible\":[true,false,false,false]},{\"showlegend\":true}],\"label\":\"Data Scientist\",\"method\":\"update\"},{\"args\":[{\"visible\":[false,true,false,false]},{\"showlegend\":true}],\"label\":\"Senior Data Scientist\",\"method\":\"update\"},{\"args\":[{\"visible\":[false,false,true,false]},{\"showlegend\":true}],\"label\":\"Lead Data Scientist\",\"method\":\"update\"},{\"args\":[{\"visible\":[false,false,false,true]},{\"showlegend\":true}],\"label\":\"Full Stack Data Scientist\",\"method\":\"update\"}],\"direction\":\"down\",\"font\":{\"color\":\"Indigo\",\"size\":14},\"pad\":{\"r\":10,\"t\":10},\"showactive\":true,\"x\":0.13,\"xanchor\":\"left\",\"y\":1.12,\"yanchor\":\"top\"}],\"annotations\":[{\"align\":\"right\",\"font\":{\"color\":\"DarkSlateBlue\",\"size\":16},\"showarrow\":false,\"text\":\"Choose:\",\"x\":0,\"y\":1.075,\"yref\":\"paper\"}],\"title\":{\"text\":\"The distribution of states by four roles\",\"x\":0.5,\"font\":{\"size\":20,\"color\":\"MidnightBlue\"}}},                        {\"responsive\": true}                    ).then(function(){\n",
       "                            \n",
       "var gd = document.getElementById('2bc622dc-d648-41af-8106-b26d0e00968f');\n",
       "var x = new MutationObserver(function (mutations, observer) {{\n",
       "        var display = window.getComputedStyle(gd).display;\n",
       "        if (!display || display === 'none') {{\n",
       "            console.log([gd, 'removed!']);\n",
       "            Plotly.purge(gd);\n",
       "            observer.disconnect();\n",
       "        }}\n",
       "}});\n",
       "\n",
       "// Listen for the removal of the full notebook cells\n",
       "var notebookContainer = gd.closest('#notebook-container');\n",
       "if (notebookContainer) {{\n",
       "    x.observe(notebookContainer, {childList: true});\n",
       "}}\n",
       "\n",
       "// Listen for the clearing of the current output cell\n",
       "var outputEl = gd.closest('.output');\n",
       "if (outputEl) {{\n",
       "    x.observe(outputEl, {childList: true});\n",
       "}}\n",
       "\n",
       "                        })                };                });            </script>        </div>"
      ]
     },
     "metadata": {},
     "output_type": "display_data"
    }
   ],
   "source": [
    "dfd1 = df[df['roles']== 'Data Scientist']\n",
    "dfd2 = df[df['roles']== 'Senior Data Scientist']\n",
    "dfd3 = df[df['roles']== 'Lead Data Scientist']\n",
    "dfd4 = df[df['roles']== 'Full Stack Data Scientist']\n",
    "\n",
    "redf1 = dfd1[\"locations\"].value_counts()[:10].reset_index()\n",
    "redf2 = dfd2['locations'].value_counts()[:10].reset_index()\n",
    "redf3 = dfd3['locations'].value_counts()[:10].reset_index()\n",
    "redf4 = dfd4['locations'].value_counts()[:10].reset_index()\n",
    "\n",
    "\n",
    "fig = go.Figure()\n",
    "\n",
    "fig.add_trace(go.Bar(x = redf1[\"index\"],\n",
    "                     y = redf1[\"locations\"],\n",
    "                     marker = dict(color = 'Tomato'),\n",
    "                     name = 'Data Scientist'))\n",
    "\n",
    "fig.add_trace(go.Bar(x = redf2['index'],\n",
    "                     y = redf2['locations'],\n",
    "                     name = 'Senior Data Scientist',\n",
    "                     marker = dict(color = 'LightCoral')))\n",
    "\n",
    "fig.add_trace(go.Bar(x = redf3['index'],\n",
    "                     y = redf3['locations'],\n",
    "                     name = 'Lead Data Scientist',\n",
    "                     marker = dict(color = 'SteelBlue')))\n",
    "\n",
    "fig.add_trace(go.Bar(x = redf4['index'],\n",
    "                     y = redf4['locations'],\n",
    "                     name = 'Full Stack Data Scientist',\n",
    "                     marker = dict(color = 'CadetBlue')))\n",
    "\n",
    "fig.update_layout( \n",
    "    updatemenus=[ \n",
    "        dict( \n",
    "            direction=\"down\", \n",
    "            pad={\"r\": 10, \"t\": 10},\n",
    "            showactive=True, \n",
    "            x=0.13, \n",
    "            xanchor=\"left\",\n",
    "            y=1.12, \n",
    "            yanchor=\"top\",\n",
    "            font = dict(color = 'Indigo',size = 14),\n",
    "            buttons=list([ \n",
    "                dict(label=\"All\", \n",
    "                     method=\"update\", \n",
    "                     args=[ {\"visible\": [True, True, True,True]}, \n",
    "                            {'showlegend' : True} \n",
    "                        ]),\n",
    "                dict(label=\"Data Scientist\", \n",
    "                     method=\"update\", \n",
    "                     args=[ {\"visible\": [True, False, False,False]}, \n",
    "                            {'showlegend' : True} \n",
    "                        ]), \n",
    "                dict(label='Senior Data Scientist', \n",
    "                     method=\"update\", \n",
    "                     args=[ {\"visible\": [False, True, False,False]}, \n",
    "                            {'showlegend' : True} \n",
    "                     ]), \n",
    "                dict(label='Lead Data Scientist', \n",
    "                     method=\"update\", \n",
    "                     args=[ {\"visible\": [False, False, True,False]}, \n",
    "                            {'showlegend' : True} \n",
    "                        ]),  \n",
    "                dict(label='Full Stack Data Scientist', \n",
    "                     method=\"update\", \n",
    "                     args=[ {\"visible\": [False, False,False,True]}, \n",
    "                            {'showlegend' : True}]),\n",
    "            ]),\n",
    "        )])\n",
    "\n",
    "fig.update_layout(\n",
    "    annotations=[\n",
    "        dict(text=\"Choose:\", showarrow=False,\n",
    "             x=0, y=1.075, yref=\"paper\", align=\"right\",\n",
    "             font=dict(size=16,color = 'DarkSlateBlue'))])\n",
    "\n",
    "fig.update_layout(title =\"The distribution of states by four roles\",\n",
    "                  title_x = 0.5,\n",
    "                  title_font = dict(size = 20, color = 'MidnightBlue'))\n",
    "\n",
    "fig.show()"
   ]
  },
  {
   "cell_type": "code",
   "execution_count": 289,
   "metadata": {},
   "outputs": [
    {
     "data": {
      "image/png": "[encoded data removed]",
      "text/plain": [
       "<Figure size 1080x1080 with 1 Axes>"
      ]
     },
     "metadata": {
      "needs_background": "light"
     },
     "output_type": "display_data"
    }
   ],
   "source": [
    "color_list=  ['DarkBlue','Teal','LightBlue','MediumAquamarine','Plum','OrangeRed','DarkRed','Pink','LightGoldenrodYellow']\n",
    "\n",
    "colormap = colors.ListedColormap(color_list)\n",
    "\n",
    "plt.rcParams['figure.figsize'] = (15,15)\n",
    "\n",
    "wordcloud =  WordCloud(background_color= 'white',\n",
    "                       width = 1200,height = 800 ,\n",
    "                       max_words = 120,colormap = colormap ).generate(\" \".join(df['roles']))\n",
    "plt.imshow(wordcloud)\n",
    "plt.axis(\"off\")\n",
    "plt.show()"
   ]
  },
  {
   "cell_type": "markdown",
   "metadata": {},
   "source": [
    "# To analyse the domain skill, the companies look for the most:\n"
   ]
  },
  {
   "cell_type": "code",
   "execution_count": 290,
   "metadata": {},
   "outputs": [
    {
     "data": {
      "text/plain": [
       "'Data Science\\nArtificial Intelligence\\ntra'"
      ]
     },
     "execution_count": 290,
     "metadata": {},
     "output_type": "execute_result"
    }
   ],
   "source": [
    "df.skills.values[0][0:int(len(df.skills.values[0])/2)]"
   ]
  },
  {
   "cell_type": "code",
   "execution_count": 291,
   "metadata": {},
   "outputs": [
    {
     "data": {
      "text/html": [
       "<div>\n",
       "<style scoped>\n",
       "    .dataframe tbody tr th:only-of-type {\n",
       "        vertical-align: middle;\n",
       "    }\n",
       "\n",
       "    .dataframe tbody tr th {\n",
       "        vertical-align: top;\n",
       "    }\n",
       "\n",
       "    .dataframe thead th {\n",
       "        text-align: right;\n",
       "    }\n",
       "</style>\n",
       "<table border=\"1\" class=\"dataframe\">\n",
       "  <thead>\n",
       "    <tr style=\"text-align: right;\">\n",
       "      <th></th>\n",
       "      <th>roles</th>\n",
       "      <th>companies</th>\n",
       "      <th>locations</th>\n",
       "      <th>experience</th>\n",
       "      <th>skills</th>\n",
       "      <th>min_experience</th>\n",
       "      <th>max_experience</th>\n",
       "    </tr>\n",
       "  </thead>\n",
       "  <tbody>\n",
       "    <tr>\n",
       "      <th>0</th>\n",
       "      <td>Data Scientist/ Academic Counselor</td>\n",
       "      <td>GREAT LAKES E-LEARNING SERVICES PRIVATE LIMITED</td>\n",
       "      <td>Chennai, Bengaluru</td>\n",
       "      <td>2-7 Yrs</td>\n",
       "      <td>Data Science\\nArtificial Intelligence\\ntrainin...</td>\n",
       "      <td>2</td>\n",
       "      <td>7</td>\n",
       "    </tr>\n",
       "    <tr>\n",
       "      <th>1</th>\n",
       "      <td>Data Scientist</td>\n",
       "      <td>Shell India Markets Private Limited</td>\n",
       "      <td>Chennai</td>\n",
       "      <td>5-7 Yrs</td>\n",
       "      <td>Data Science\\nMultivariate Analysis\\nFactor An...</td>\n",
       "      <td>5</td>\n",
       "      <td>7</td>\n",
       "    </tr>\n",
       "    <tr>\n",
       "      <th>2</th>\n",
       "      <td>Senior Data Scientist</td>\n",
       "      <td>Decision Point</td>\n",
       "      <td>Gurgaon</td>\n",
       "      <td>3-5 Yrs</td>\n",
       "      <td>Azure\\ntimeseries forecasting\\nMachine Learnin...</td>\n",
       "      <td>3</td>\n",
       "      <td>5</td>\n",
       "    </tr>\n",
       "    <tr>\n",
       "      <th>3</th>\n",
       "      <td>Data Scientist - Machine Learning &amp; Statistica...</td>\n",
       "      <td>Talent Stock Solutions</td>\n",
       "      <td>Delhi</td>\n",
       "      <td>2-5 Yrs</td>\n",
       "      <td>Data Science\\nR\\nC\\nData Scientist\\nStatistica...</td>\n",
       "      <td>2</td>\n",
       "      <td>5</td>\n",
       "    </tr>\n",
       "    <tr>\n",
       "      <th>4</th>\n",
       "      <td>Data Scientist</td>\n",
       "      <td>Zen3Tech (A Tech Mahindra Company)</td>\n",
       "      <td>Hyderabad</td>\n",
       "      <td>3-8 Yrs</td>\n",
       "      <td>R\\nA/B Testing\\nData Manipulation\\nMachine Lea...</td>\n",
       "      <td>3</td>\n",
       "      <td>8</td>\n",
       "    </tr>\n",
       "  </tbody>\n",
       "</table>\n",
       "</div>"
      ],
      "text/plain": [
       "                                               roles  \\\n",
       "0                 Data Scientist/ Academic Counselor   \n",
       "1                                     Data Scientist   \n",
       "2                              Senior Data Scientist   \n",
       "3  Data Scientist - Machine Learning & Statistica...   \n",
       "4                                     Data Scientist   \n",
       "\n",
       "                                         companies           locations  \\\n",
       "0  GREAT LAKES E-LEARNING SERVICES PRIVATE LIMITED  Chennai, Bengaluru   \n",
       "1              Shell India Markets Private Limited             Chennai   \n",
       "2                                   Decision Point             Gurgaon   \n",
       "3                           Talent Stock Solutions               Delhi   \n",
       "4               Zen3Tech (A Tech Mahindra Company)           Hyderabad   \n",
       "\n",
       "  experience                                             skills  \\\n",
       "0    2-7 Yrs  Data Science\\nArtificial Intelligence\\ntrainin...   \n",
       "1    5-7 Yrs  Data Science\\nMultivariate Analysis\\nFactor An...   \n",
       "2    3-5 Yrs  Azure\\ntimeseries forecasting\\nMachine Learnin...   \n",
       "3    2-5 Yrs  Data Science\\nR\\nC\\nData Scientist\\nStatistica...   \n",
       "4    3-8 Yrs  R\\nA/B Testing\\nData Manipulation\\nMachine Lea...   \n",
       "\n",
       "  min_experience max_experience  \n",
       "0              2              7  \n",
       "1              5              7  \n",
       "2              3              5  \n",
       "3              2              5  \n",
       "4              3              8  "
      ]
     },
     "execution_count": 291,
     "metadata": {},
     "output_type": "execute_result"
    }
   ],
   "source": [
    "df.head(5)"
   ]
  },
  {
   "cell_type": "code",
   "execution_count": 292,
   "metadata": {},
   "outputs": [],
   "source": [
    "df1=df"
   ]
  },
  {
   "cell_type": "code",
   "execution_count": 293,
   "metadata": {},
   "outputs": [],
   "source": [
    "df1 = df1.groupby('roles').agg(lambda col: ' '.join(col))\n",
    "df1 = df1[['skills']]"
   ]
  },
  {
   "cell_type": "code",
   "execution_count": 294,
   "metadata": {},
   "outputs": [
    {
     "data": {
      "text/html": [
       "<div>\n",
       "<style scoped>\n",
       "    .dataframe tbody tr th:only-of-type {\n",
       "        vertical-align: middle;\n",
       "    }\n",
       "\n",
       "    .dataframe tbody tr th {\n",
       "        vertical-align: top;\n",
       "    }\n",
       "\n",
       "    .dataframe thead th {\n",
       "        text-align: right;\n",
       "    }\n",
       "</style>\n",
       "<table border=\"1\" class=\"dataframe\">\n",
       "  <thead>\n",
       "    <tr style=\"text-align: right;\">\n",
       "      <th></th>\n",
       "      <th>skills</th>\n",
       "    </tr>\n",
       "    <tr>\n",
       "      <th>roles</th>\n",
       "      <th></th>\n",
       "    </tr>\n",
       "  </thead>\n",
       "  <tbody>\n",
       "    <tr>\n",
       "      <th>.1787_Data Scientist _Bangalore</th>\n",
       "      <td>Data Science\\nPredictive Modeling\\nR\\nNeural N...</td>\n",
       "    </tr>\n",
       "    <tr>\n",
       "      <th>A Data Scientists</th>\n",
       "      <td>Computer science\\nData analysis\\nOperations re...</td>\n",
       "    </tr>\n",
       "    <tr>\n",
       "      <th>ADAS Data Analytics Algorithm &amp; Application Development</th>\n",
       "      <td>Object Detection\\nScipy\\nADAS Data Analytics\\n...</td>\n",
       "    </tr>\n",
       "    <tr>\n",
       "      <th>AGM Data Scientist - Top Durable Brand - Mumbai</th>\n",
       "      <td>data science\\nteam role\\nmachine learning\\nmar...</td>\n",
       "    </tr>\n",
       "    <tr>\n",
       "      <th>AI / ML Data Scientist - Democratize commerce through Technology</th>\n",
       "      <td>Computer science\\nSystem architecture\\nC++\\nIm...</td>\n",
       "    </tr>\n",
       "  </tbody>\n",
       "</table>\n",
       "</div>"
      ],
      "text/plain": [
       "                                                                                               skills\n",
       "roles                                                                                                \n",
       ".1787_Data Scientist _Bangalore                     Data Science\\nPredictive Modeling\\nR\\nNeural N...\n",
       "A Data Scientists                                   Computer science\\nData analysis\\nOperations re...\n",
       "ADAS Data Analytics Algorithm & Application Dev...  Object Detection\\nScipy\\nADAS Data Analytics\\n...\n",
       "AGM Data Scientist - Top Durable Brand - Mumbai     data science\\nteam role\\nmachine learning\\nmar...\n",
       "AI / ML Data Scientist - Democratize commerce t...  Computer science\\nSystem architecture\\nC++\\nIm..."
      ]
     },
     "execution_count": 294,
     "metadata": {},
     "output_type": "execute_result"
    }
   ],
   "source": [
    "df1.head(5)"
   ]
  },
  {
   "cell_type": "code",
   "execution_count": 295,
   "metadata": {},
   "outputs": [],
   "source": [
    "def clean_text(text):\n",
    "    text = re.sub('[%s]' % re.escape(string.punctuation), '', text).lower() \n",
    "    text = re.sub('\\w*\\d\\w*', '', text)\n",
    "    text = re.sub('[‘’“”…]', '', text)\n",
    "    text = re.sub('\\n',' ',text)\n",
    "    return text"
   ]
  },
  {
   "cell_type": "code",
   "execution_count": 296,
   "metadata": {},
   "outputs": [],
   "source": [
    "clean = lambda x :clean_text(x)\n",
    "df1_clean = pd.DataFrame(df1.skills.apply(clean))"
   ]
  },
  {
   "cell_type": "code",
   "execution_count": 297,
   "metadata": {},
   "outputs": [],
   "source": [
    "lemmer = WordNetLemmatizer()\n",
    "df1_clean['skills'] = df1_clean.skills.apply(lambda x: word_tokenize(x))\n",
    "df1_clean['skills'] = df1_clean.skills.apply(lambda x : [lemmer.lemmatize(y) for y in x])\n",
    "df1_clean['skills'] = df1_clean.skills.apply(lambda x: ' '.join(x))"
   ]
  },
  {
   "cell_type": "code",
   "execution_count": 298,
   "metadata": {},
   "outputs": [],
   "source": [
    "# Add words that frequently appear in the skills but carry no value to the list of stop words\n",
    "from sklearn.feature_extraction import text\n",
    "extra_stopword = ['data','experience','work','team','will','skill','year','skills']\n",
    "stop_words = text.ENGLISH_STOP_WORDS.union(extra_stopword)"
   ]
  },
  {
   "cell_type": "code",
   "execution_count": 358,
   "metadata": {},
   "outputs": [
    {
     "ename": "ValueError",
     "evalue": "num must be 1 <= num <= 4, not 5",
     "output_type": "error",
     "traceback": [
      "\u001b[1;31m---------------------------------------------------------------------------\u001b[0m",
      "\u001b[1;31mValueError\u001b[0m                                Traceback (most recent call last)",
      "\u001b[1;32m<ipython-input-358-c42ea77f8de5>\u001b[0m in \u001b[0;36m<module>\u001b[1;34m\u001b[0m\n\u001b[0;32m      7\u001b[0m \u001b[1;33m\u001b[0m\u001b[0m\n\u001b[0;32m      8\u001b[0m     \u001b[0mi\u001b[0m\u001b[1;33m=\u001b[0m\u001b[0mi\u001b[0m\u001b[1;33m+\u001b[0m\u001b[1;36m1\u001b[0m\u001b[1;33m\u001b[0m\u001b[1;33m\u001b[0m\u001b[0m\n\u001b[1;32m----> 9\u001b[1;33m     \u001b[0mfig\u001b[0m\u001b[1;33m.\u001b[0m\u001b[0madd_subplot\u001b[0m\u001b[1;33m(\u001b[0m\u001b[1;36m2\u001b[0m\u001b[1;33m,\u001b[0m\u001b[1;36m2\u001b[0m\u001b[1;33m,\u001b[0m \u001b[0mi\u001b[0m\u001b[1;33m)\u001b[0m\u001b[1;33m\u001b[0m\u001b[1;33m\u001b[0m\u001b[0m\n\u001b[0m\u001b[0;32m     10\u001b[0m     \u001b[0mplt\u001b[0m\u001b[1;33m.\u001b[0m\u001b[0mimshow\u001b[0m\u001b[1;33m(\u001b[0m\u001b[0mwc\u001b[0m\u001b[1;33m,\u001b[0m \u001b[0minterpolation\u001b[0m\u001b[1;33m=\u001b[0m\u001b[1;34m\"bilinear\"\u001b[0m\u001b[1;33m)\u001b[0m\u001b[1;33m\u001b[0m\u001b[1;33m\u001b[0m\u001b[0m\n\u001b[0;32m     11\u001b[0m     \u001b[0mplt\u001b[0m\u001b[1;33m.\u001b[0m\u001b[0maxis\u001b[0m\u001b[1;33m(\u001b[0m\u001b[1;34m\"off\"\u001b[0m\u001b[1;33m)\u001b[0m\u001b[1;33m\u001b[0m\u001b[1;33m\u001b[0m\u001b[0m\n",
      "\u001b[1;32m~\\anaconda3\\lib\\site-packages\\matplotlib\\figure.py\u001b[0m in \u001b[0;36madd_subplot\u001b[1;34m(self, *args, **kwargs)\u001b[0m\n\u001b[0;32m   1400\u001b[0m                     \u001b[1;31m# more similar to add_axes.\u001b[0m\u001b[1;33m\u001b[0m\u001b[1;33m\u001b[0m\u001b[1;33m\u001b[0m\u001b[0m\n\u001b[0;32m   1401\u001b[0m                     \u001b[0mself\u001b[0m\u001b[1;33m.\u001b[0m\u001b[0m_axstack\u001b[0m\u001b[1;33m.\u001b[0m\u001b[0mremove\u001b[0m\u001b[1;33m(\u001b[0m\u001b[0max\u001b[0m\u001b[1;33m)\u001b[0m\u001b[1;33m\u001b[0m\u001b[1;33m\u001b[0m\u001b[0m\n\u001b[1;32m-> 1402\u001b[1;33m             \u001b[0max\u001b[0m \u001b[1;33m=\u001b[0m \u001b[0msubplot_class_factory\u001b[0m\u001b[1;33m(\u001b[0m\u001b[0mprojection_class\u001b[0m\u001b[1;33m)\u001b[0m\u001b[1;33m(\u001b[0m\u001b[0mself\u001b[0m\u001b[1;33m,\u001b[0m \u001b[1;33m*\u001b[0m\u001b[0margs\u001b[0m\u001b[1;33m,\u001b[0m \u001b[1;33m**\u001b[0m\u001b[0mkwargs\u001b[0m\u001b[1;33m)\u001b[0m\u001b[1;33m\u001b[0m\u001b[1;33m\u001b[0m\u001b[0m\n\u001b[0m\u001b[0;32m   1403\u001b[0m \u001b[1;33m\u001b[0m\u001b[0m\n\u001b[0;32m   1404\u001b[0m         \u001b[1;32mreturn\u001b[0m \u001b[0mself\u001b[0m\u001b[1;33m.\u001b[0m\u001b[0m_add_axes_internal\u001b[0m\u001b[1;33m(\u001b[0m\u001b[0mkey\u001b[0m\u001b[1;33m,\u001b[0m \u001b[0max\u001b[0m\u001b[1;33m)\u001b[0m\u001b[1;33m\u001b[0m\u001b[1;33m\u001b[0m\u001b[0m\n",
      "\u001b[1;32m~\\anaconda3\\lib\\site-packages\\matplotlib\\axes\\_subplots.py\u001b[0m in \u001b[0;36m__init__\u001b[1;34m(self, fig, *args, **kwargs)\u001b[0m\n\u001b[0;32m     37\u001b[0m \u001b[1;33m\u001b[0m\u001b[0m\n\u001b[0;32m     38\u001b[0m         \u001b[0mself\u001b[0m\u001b[1;33m.\u001b[0m\u001b[0mfigure\u001b[0m \u001b[1;33m=\u001b[0m \u001b[0mfig\u001b[0m\u001b[1;33m\u001b[0m\u001b[1;33m\u001b[0m\u001b[0m\n\u001b[1;32m---> 39\u001b[1;33m         \u001b[0mself\u001b[0m\u001b[1;33m.\u001b[0m\u001b[0m_subplotspec\u001b[0m \u001b[1;33m=\u001b[0m \u001b[0mSubplotSpec\u001b[0m\u001b[1;33m.\u001b[0m\u001b[0m_from_subplot_args\u001b[0m\u001b[1;33m(\u001b[0m\u001b[0mfig\u001b[0m\u001b[1;33m,\u001b[0m \u001b[0margs\u001b[0m\u001b[1;33m)\u001b[0m\u001b[1;33m\u001b[0m\u001b[1;33m\u001b[0m\u001b[0m\n\u001b[0m\u001b[0;32m     40\u001b[0m         \u001b[0mself\u001b[0m\u001b[1;33m.\u001b[0m\u001b[0mupdate_params\u001b[0m\u001b[1;33m(\u001b[0m\u001b[1;33m)\u001b[0m\u001b[1;33m\u001b[0m\u001b[1;33m\u001b[0m\u001b[0m\n\u001b[0;32m     41\u001b[0m         \u001b[1;31m# _axes_class is set in the subplot_class_factory\u001b[0m\u001b[1;33m\u001b[0m\u001b[1;33m\u001b[0m\u001b[1;33m\u001b[0m\u001b[0m\n",
      "\u001b[1;32m~\\anaconda3\\lib\\site-packages\\matplotlib\\gridspec.py\u001b[0m in \u001b[0;36m_from_subplot_args\u001b[1;34m(figure, args)\u001b[0m\n\u001b[0;32m    687\u001b[0m                     \u001b[0mnum\u001b[0m \u001b[1;33m=\u001b[0m \u001b[0mint\u001b[0m\u001b[1;33m(\u001b[0m\u001b[0mnum\u001b[0m\u001b[1;33m)\u001b[0m\u001b[1;33m\u001b[0m\u001b[1;33m\u001b[0m\u001b[0m\n\u001b[0;32m    688\u001b[0m                 \u001b[1;32mif\u001b[0m \u001b[0mnum\u001b[0m \u001b[1;33m<\u001b[0m \u001b[1;36m1\u001b[0m \u001b[1;32mor\u001b[0m \u001b[0mnum\u001b[0m \u001b[1;33m>\u001b[0m \u001b[0mrows\u001b[0m\u001b[1;33m*\u001b[0m\u001b[0mcols\u001b[0m\u001b[1;33m:\u001b[0m\u001b[1;33m\u001b[0m\u001b[1;33m\u001b[0m\u001b[0m\n\u001b[1;32m--> 689\u001b[1;33m                     raise ValueError(\n\u001b[0m\u001b[0;32m    690\u001b[0m                         f\"num must be 1 <= num <= {rows*cols}, not {num}\")\n\u001b[0;32m    691\u001b[0m                 \u001b[1;32mreturn\u001b[0m \u001b[0mgs\u001b[0m\u001b[1;33m[\u001b[0m\u001b[0mnum\u001b[0m \u001b[1;33m-\u001b[0m \u001b[1;36m1\u001b[0m\u001b[1;33m]\u001b[0m   \u001b[1;31m# -1 due to MATLAB indexing.\u001b[0m\u001b[1;33m\u001b[0m\u001b[1;33m\u001b[0m\u001b[0m\n",
      "\u001b[1;31mValueError\u001b[0m: num must be 1 <= num <= 4, not 5"
     ]
    },
    {
     "data": {
      "image/png": "[encoded data removed]",
      "text/plain": [
       "<Figure size 1080x576 with 4 Axes>"
      ]
     },
     "metadata": {
      "needs_background": "light"
     },
     "output_type": "display_data"
    }
   ],
   "source": [
    "\n",
    "wc = WordCloud(stopwords=stop_words, background_color=\"white\", colormap=\"Dark2\",\n",
    "             random_state=42, collocations = False, width=1600, height=800)\n",
    "i = 0\n",
    "fig = plt.figure(figsize=(15,8))\n",
    "for x in df1_clean.skills.index:\n",
    "    wc.generate(df1_clean.skills[str(x)])\n",
    "    \n",
    "    i=i+1\n",
    "    fig.add_subplot(2,2, i)\n",
    "    plt.imshow(wc, interpolation=\"bilinear\")\n",
    "    plt.axis(\"off\")\n",
    "    plt.title(str(x), size = 15)\n",
    "plt.show()"
   ]
  },
  {
   "cell_type": "markdown",
   "metadata": {},
   "source": [
    "# To analyse the Skills required to develop "
   ]
  },
  {
   "cell_type": "code",
   "execution_count": 300,
   "metadata": {},
   "outputs": [],
   "source": [
    "def count_text(patt,text):\n",
    "    pattern = re.compile(patt)\n",
    "    count = 0\n",
    "    for t in text:\n",
    "        if pattern.search(t):\n",
    "            count+=1\n",
    "    return count"
   ]
  },
  {
   "cell_type": "code",
   "execution_count": 301,
   "metadata": {},
   "outputs": [],
   "source": [
    "# Create a data frame with skills name and regex pattern to search with\n",
    "skills1 = ['R','Python','Hadoop','SQL','Tableau','TensorFlow','Agile','Power BI','SaS','Algorithm','Java','Visualization',\n",
    "           'Opencv','DataMining','Statistics','NLP']\n",
    "\n",
    "skill_patt = ['\\WR\\W+\\s?','(?i)\\WPython\\W?','(?i)\\WHadoop\\W?','(?i)\\WSQL\\W?','(?i)\\WTableau\\W?',\n",
    "              \"(?i)\\WTensorFlow\\W?\",\"(?i)\\WAgile\\W?\",\"(?i)\\WPower\\s?BI\\W?\",\n",
    "             \"(?i)\\WSAS\\W?\",\"(?i)\\WAlgorithms?\\W?\",'(?i)\\WJava\\w?','(?i)\\WVisualization\\W?','(?i)\\WOpencv\\W?',\n",
    "              '(?i)\\WDataMining\\W?','(?i)\\WStatistics\\W?','(?i)\\WNLP\\W?']\n",
    "\n",
    "skill_df =pd.DataFrame(\n",
    "    {\"skill1\": skills1,\n",
    "     \"regex_pattern\":skill_patt})"
   ]
  },
  {
   "cell_type": "code",
   "execution_count": 302,
   "metadata": {},
   "outputs": [
    {
     "data": {
      "text/html": [
       "<div>\n",
       "<style scoped>\n",
       "    .dataframe tbody tr th:only-of-type {\n",
       "        vertical-align: middle;\n",
       "    }\n",
       "\n",
       "    .dataframe tbody tr th {\n",
       "        vertical-align: top;\n",
       "    }\n",
       "\n",
       "    .dataframe thead th {\n",
       "        text-align: right;\n",
       "    }\n",
       "</style>\n",
       "<table border=\"1\" class=\"dataframe\">\n",
       "  <thead>\n",
       "    <tr style=\"text-align: right;\">\n",
       "      <th></th>\n",
       "      <th>skill1</th>\n",
       "      <th>regex_pattern</th>\n",
       "      <th>count</th>\n",
       "      <th>ptg</th>\n",
       "    </tr>\n",
       "  </thead>\n",
       "  <tbody>\n",
       "    <tr>\n",
       "      <th>0</th>\n",
       "      <td>R</td>\n",
       "      <td>\\WR\\W+\\s?</td>\n",
       "      <td>133</td>\n",
       "      <td>0.10</td>\n",
       "    </tr>\n",
       "    <tr>\n",
       "      <th>1</th>\n",
       "      <td>Python</td>\n",
       "      <td>(?i)\\WPython\\W?</td>\n",
       "      <td>274</td>\n",
       "      <td>0.21</td>\n",
       "    </tr>\n",
       "    <tr>\n",
       "      <th>2</th>\n",
       "      <td>Hadoop</td>\n",
       "      <td>(?i)\\WHadoop\\W?</td>\n",
       "      <td>61</td>\n",
       "      <td>0.05</td>\n",
       "    </tr>\n",
       "    <tr>\n",
       "      <th>3</th>\n",
       "      <td>SQL</td>\n",
       "      <td>(?i)\\WSQL\\W?</td>\n",
       "      <td>157</td>\n",
       "      <td>0.12</td>\n",
       "    </tr>\n",
       "    <tr>\n",
       "      <th>4</th>\n",
       "      <td>Tableau</td>\n",
       "      <td>(?i)\\WTableau\\W?</td>\n",
       "      <td>62</td>\n",
       "      <td>0.05</td>\n",
       "    </tr>\n",
       "    <tr>\n",
       "      <th>5</th>\n",
       "      <td>TensorFlow</td>\n",
       "      <td>(?i)\\WTensorFlow\\W?</td>\n",
       "      <td>35</td>\n",
       "      <td>0.03</td>\n",
       "    </tr>\n",
       "    <tr>\n",
       "      <th>6</th>\n",
       "      <td>Agile</td>\n",
       "      <td>(?i)\\WAgile\\W?</td>\n",
       "      <td>36</td>\n",
       "      <td>0.03</td>\n",
       "    </tr>\n",
       "    <tr>\n",
       "      <th>7</th>\n",
       "      <td>Power BI</td>\n",
       "      <td>(?i)\\WPower\\s?BI\\W?</td>\n",
       "      <td>15</td>\n",
       "      <td>0.01</td>\n",
       "    </tr>\n",
       "    <tr>\n",
       "      <th>8</th>\n",
       "      <td>SaS</td>\n",
       "      <td>(?i)\\WSAS\\W?</td>\n",
       "      <td>141</td>\n",
       "      <td>0.11</td>\n",
       "    </tr>\n",
       "    <tr>\n",
       "      <th>9</th>\n",
       "      <td>Algorithm</td>\n",
       "      <td>(?i)\\WAlgorithms?\\W?</td>\n",
       "      <td>84</td>\n",
       "      <td>0.07</td>\n",
       "    </tr>\n",
       "    <tr>\n",
       "      <th>10</th>\n",
       "      <td>Java</td>\n",
       "      <td>(?i)\\WJava\\w?</td>\n",
       "      <td>78</td>\n",
       "      <td>0.06</td>\n",
       "    </tr>\n",
       "    <tr>\n",
       "      <th>11</th>\n",
       "      <td>Visualization</td>\n",
       "      <td>(?i)\\WVisualization\\W?</td>\n",
       "      <td>49</td>\n",
       "      <td>0.04</td>\n",
       "    </tr>\n",
       "    <tr>\n",
       "      <th>12</th>\n",
       "      <td>Opencv</td>\n",
       "      <td>(?i)\\WOpencv\\W?</td>\n",
       "      <td>10</td>\n",
       "      <td>0.01</td>\n",
       "    </tr>\n",
       "    <tr>\n",
       "      <th>13</th>\n",
       "      <td>DataMining</td>\n",
       "      <td>(?i)\\WDataMining\\W?</td>\n",
       "      <td>1</td>\n",
       "      <td>0.00</td>\n",
       "    </tr>\n",
       "    <tr>\n",
       "      <th>14</th>\n",
       "      <td>Statistics</td>\n",
       "      <td>(?i)\\WStatistics\\W?</td>\n",
       "      <td>110</td>\n",
       "      <td>0.09</td>\n",
       "    </tr>\n",
       "    <tr>\n",
       "      <th>15</th>\n",
       "      <td>NLP</td>\n",
       "      <td>(?i)\\WNLP\\W?</td>\n",
       "      <td>134</td>\n",
       "      <td>0.10</td>\n",
       "    </tr>\n",
       "  </tbody>\n",
       "</table>\n",
       "</div>"
      ],
      "text/plain": [
       "           skill1           regex_pattern  count   ptg\n",
       "0               R               \\WR\\W+\\s?    133  0.10\n",
       "1          Python         (?i)\\WPython\\W?    274  0.21\n",
       "2          Hadoop         (?i)\\WHadoop\\W?     61  0.05\n",
       "3             SQL            (?i)\\WSQL\\W?    157  0.12\n",
       "4         Tableau        (?i)\\WTableau\\W?     62  0.05\n",
       "5      TensorFlow     (?i)\\WTensorFlow\\W?     35  0.03\n",
       "6           Agile          (?i)\\WAgile\\W?     36  0.03\n",
       "7        Power BI     (?i)\\WPower\\s?BI\\W?     15  0.01\n",
       "8             SaS            (?i)\\WSAS\\W?    141  0.11\n",
       "9       Algorithm    (?i)\\WAlgorithms?\\W?     84  0.07\n",
       "10           Java           (?i)\\WJava\\w?     78  0.06\n",
       "11  Visualization  (?i)\\WVisualization\\W?     49  0.04\n",
       "12         Opencv         (?i)\\WOpencv\\W?     10  0.01\n",
       "13     DataMining     (?i)\\WDataMining\\W?      1  0.00\n",
       "14     Statistics     (?i)\\WStatistics\\W?    110  0.09\n",
       "15            NLP            (?i)\\WNLP\\W?    134  0.10"
      ]
     },
     "execution_count": 302,
     "metadata": {},
     "output_type": "execute_result"
    }
   ],
   "source": [
    "# Iterate through the list of skill using the search function created\n",
    "i = []\n",
    "for x in skill_df['regex_pattern']:\n",
    "    i.append(count_text(x,df['skills']))\n",
    "skill_df['count'] = i\n",
    "skill_df['ptg'] = round(skill_df['count']/len(df['skills']),2)\n",
    "skill_df"
   ]
  },
  {
   "cell_type": "code",
   "execution_count": 303,
   "metadata": {},
   "outputs": [
    {
     "name": "stderr",
     "output_type": "stream",
     "text": [
      "<ipython-input-303-5e07cc4898bf>:5: UserWarning:\n",
      "\n",
      "FixedFormatter should only be used together with FixedLocator\n",
      "\n"
     ]
    },
    {
     "data": {
      "image/png": "[encoded data removed]",
      "text/plain": [
       "<Figure size 720x360 with 1 Axes>"
      ]
     },
     "metadata": {
      "needs_background": "light"
     },
     "output_type": "display_data"
    }
   ],
   "source": [
    "x = skill_df.sort_values(by = 'ptg')\n",
    "ax =x['ptg'].plot(kind = \"barh\",figsize = (10,5))\n",
    "ax.set_title('Skills as Percentage of Total Job Description', size = 15)\n",
    "ax.set_yticklabels(x['skill1'], size = 12)\n",
    "ax.set_xticklabels(['{:.0%}'.format(x) for x in ax.get_xticks()])\n",
    "plt.show()"
   ]
  },
  {
   "cell_type": "markdown",
   "metadata": {},
   "source": [
    "# Minimum and maximum experience required"
   ]
  },
  {
   "cell_type": "code",
   "execution_count": 304,
   "metadata": {},
   "outputs": [
    {
     "data": {
      "text/html": [
       "<div>\n",
       "<style scoped>\n",
       "    .dataframe tbody tr th:only-of-type {\n",
       "        vertical-align: middle;\n",
       "    }\n",
       "\n",
       "    .dataframe tbody tr th {\n",
       "        vertical-align: top;\n",
       "    }\n",
       "\n",
       "    .dataframe thead th {\n",
       "        text-align: right;\n",
       "    }\n",
       "</style>\n",
       "<table border=\"1\" class=\"dataframe\">\n",
       "  <thead>\n",
       "    <tr style=\"text-align: right;\">\n",
       "      <th></th>\n",
       "      <th>roles</th>\n",
       "      <th>companies</th>\n",
       "      <th>locations</th>\n",
       "      <th>experience</th>\n",
       "      <th>skills</th>\n",
       "      <th>min_experience</th>\n",
       "      <th>max_experience</th>\n",
       "    </tr>\n",
       "  </thead>\n",
       "  <tbody>\n",
       "    <tr>\n",
       "      <th>0</th>\n",
       "      <td>Data Scientist/ Academic Counselor</td>\n",
       "      <td>GREAT LAKES E-LEARNING SERVICES PRIVATE LIMITED</td>\n",
       "      <td>Chennai, Bengaluru</td>\n",
       "      <td>2-7 Yrs</td>\n",
       "      <td>Data Science\\nArtificial Intelligence\\ntrainin...</td>\n",
       "      <td>2</td>\n",
       "      <td>7</td>\n",
       "    </tr>\n",
       "    <tr>\n",
       "      <th>1</th>\n",
       "      <td>Data Scientist</td>\n",
       "      <td>Shell India Markets Private Limited</td>\n",
       "      <td>Chennai</td>\n",
       "      <td>5-7 Yrs</td>\n",
       "      <td>Data Science\\nMultivariate Analysis\\nFactor An...</td>\n",
       "      <td>5</td>\n",
       "      <td>7</td>\n",
       "    </tr>\n",
       "    <tr>\n",
       "      <th>2</th>\n",
       "      <td>Senior Data Scientist</td>\n",
       "      <td>Decision Point</td>\n",
       "      <td>Gurgaon</td>\n",
       "      <td>3-5 Yrs</td>\n",
       "      <td>Azure\\ntimeseries forecasting\\nMachine Learnin...</td>\n",
       "      <td>3</td>\n",
       "      <td>5</td>\n",
       "    </tr>\n",
       "    <tr>\n",
       "      <th>3</th>\n",
       "      <td>Data Scientist - Machine Learning &amp; Statistica...</td>\n",
       "      <td>Talent Stock Solutions</td>\n",
       "      <td>Delhi</td>\n",
       "      <td>2-5 Yrs</td>\n",
       "      <td>Data Science\\nR\\nC\\nData Scientist\\nStatistica...</td>\n",
       "      <td>2</td>\n",
       "      <td>5</td>\n",
       "    </tr>\n",
       "    <tr>\n",
       "      <th>4</th>\n",
       "      <td>Data Scientist</td>\n",
       "      <td>Zen3Tech (A Tech Mahindra Company)</td>\n",
       "      <td>Hyderabad</td>\n",
       "      <td>3-8 Yrs</td>\n",
       "      <td>R\\nA/B Testing\\nData Manipulation\\nMachine Lea...</td>\n",
       "      <td>3</td>\n",
       "      <td>8</td>\n",
       "    </tr>\n",
       "    <tr>\n",
       "      <th>...</th>\n",
       "      <td>...</td>\n",
       "      <td>...</td>\n",
       "      <td>...</td>\n",
       "      <td>...</td>\n",
       "      <td>...</td>\n",
       "      <td>...</td>\n",
       "      <td>...</td>\n",
       "    </tr>\n",
       "    <tr>\n",
       "      <th>1277</th>\n",
       "      <td>ML/AI Intern</td>\n",
       "      <td>AgNext Technologies ( India's leading Agri Tec...</td>\n",
       "      <td>Mohali, Gurgaon</td>\n",
       "      <td>1-3 Yrs</td>\n",
       "      <td>Computer vision\\ndeep learning\\nC++\\nImage pro...</td>\n",
       "      <td>1</td>\n",
       "      <td>3</td>\n",
       "    </tr>\n",
       "    <tr>\n",
       "      <th>1278</th>\n",
       "      <td>FR &amp; D Scientist</td>\n",
       "      <td>Dr. Reddys Laboratories Ltd.</td>\n",
       "      <td>Hyderabad</td>\n",
       "      <td>3-7 Yrs</td>\n",
       "      <td>Product quality\\nOperational excellence\\nPharm...</td>\n",
       "      <td>3</td>\n",
       "      <td>7</td>\n",
       "    </tr>\n",
       "    <tr>\n",
       "      <th>1279</th>\n",
       "      <td>FR &amp; D Scientist</td>\n",
       "      <td>Dr. Reddys Laboratories Ltd.</td>\n",
       "      <td>Hyderabad</td>\n",
       "      <td>2-5 Yrs</td>\n",
       "      <td>Product quality\\nOperational excellence\\nPharm...</td>\n",
       "      <td>2</td>\n",
       "      <td>5</td>\n",
       "    </tr>\n",
       "    <tr>\n",
       "      <th>1280</th>\n",
       "      <td>Analyst/senior Analyst - Fraud Analytics</td>\n",
       "      <td>bluCognition Private Limited</td>\n",
       "      <td>Pune</td>\n",
       "      <td>3-5 Yrs</td>\n",
       "      <td>Data Science\\nPyspark\\nR\\nSAS SQL\\nHive\\nBig D...</td>\n",
       "      <td>3</td>\n",
       "      <td>5</td>\n",
       "    </tr>\n",
       "    <tr>\n",
       "      <th>1281</th>\n",
       "      <td>Python Developer</td>\n",
       "      <td>Diverse Lynx India Pvt. Ltd</td>\n",
       "      <td>Bengaluru</td>\n",
       "      <td>2-6 Yrs</td>\n",
       "      <td>Web services\\nspark\\nR Programming\\nDatabase\\n...</td>\n",
       "      <td>2</td>\n",
       "      <td>6</td>\n",
       "    </tr>\n",
       "  </tbody>\n",
       "</table>\n",
       "<p>1279 rows × 7 columns</p>\n",
       "</div>"
      ],
      "text/plain": [
       "                                                  roles  \\\n",
       "0                    Data Scientist/ Academic Counselor   \n",
       "1                                        Data Scientist   \n",
       "2                                 Senior Data Scientist   \n",
       "3     Data Scientist - Machine Learning & Statistica...   \n",
       "4                                        Data Scientist   \n",
       "...                                                 ...   \n",
       "1277                                       ML/AI Intern   \n",
       "1278                                   FR & D Scientist   \n",
       "1279                                   FR & D Scientist   \n",
       "1280           Analyst/senior Analyst - Fraud Analytics   \n",
       "1281                                   Python Developer   \n",
       "\n",
       "                                              companies           locations  \\\n",
       "0       GREAT LAKES E-LEARNING SERVICES PRIVATE LIMITED  Chennai, Bengaluru   \n",
       "1                   Shell India Markets Private Limited             Chennai   \n",
       "2                                        Decision Point             Gurgaon   \n",
       "3                                Talent Stock Solutions               Delhi   \n",
       "4                    Zen3Tech (A Tech Mahindra Company)           Hyderabad   \n",
       "...                                                 ...                 ...   \n",
       "1277  AgNext Technologies ( India's leading Agri Tec...     Mohali, Gurgaon   \n",
       "1278                       Dr. Reddys Laboratories Ltd.           Hyderabad   \n",
       "1279                       Dr. Reddys Laboratories Ltd.           Hyderabad   \n",
       "1280                       bluCognition Private Limited                Pune   \n",
       "1281                        Diverse Lynx India Pvt. Ltd           Bengaluru   \n",
       "\n",
       "     experience                                             skills  \\\n",
       "0       2-7 Yrs  Data Science\\nArtificial Intelligence\\ntrainin...   \n",
       "1       5-7 Yrs  Data Science\\nMultivariate Analysis\\nFactor An...   \n",
       "2       3-5 Yrs  Azure\\ntimeseries forecasting\\nMachine Learnin...   \n",
       "3       2-5 Yrs  Data Science\\nR\\nC\\nData Scientist\\nStatistica...   \n",
       "4       3-8 Yrs  R\\nA/B Testing\\nData Manipulation\\nMachine Lea...   \n",
       "...         ...                                                ...   \n",
       "1277    1-3 Yrs  Computer vision\\ndeep learning\\nC++\\nImage pro...   \n",
       "1278    3-7 Yrs  Product quality\\nOperational excellence\\nPharm...   \n",
       "1279    2-5 Yrs  Product quality\\nOperational excellence\\nPharm...   \n",
       "1280    3-5 Yrs  Data Science\\nPyspark\\nR\\nSAS SQL\\nHive\\nBig D...   \n",
       "1281    2-6 Yrs  Web services\\nspark\\nR Programming\\nDatabase\\n...   \n",
       "\n",
       "     min_experience max_experience  \n",
       "0                 2              7  \n",
       "1                 5              7  \n",
       "2                 3              5  \n",
       "3                 2              5  \n",
       "4                 3              8  \n",
       "...             ...            ...  \n",
       "1277              1              3  \n",
       "1278              3              7  \n",
       "1279              2              5  \n",
       "1280              3              5  \n",
       "1281              2              6  \n",
       "\n",
       "[1279 rows x 7 columns]"
      ]
     },
     "execution_count": 304,
     "metadata": {},
     "output_type": "execute_result"
    }
   ],
   "source": [
    "df"
   ]
  },
  {
   "cell_type": "code",
   "execution_count": 305,
   "metadata": {},
   "outputs": [
    {
     "data": {
      "image/png": "[encoded data removed]",
      "text/plain": [
       "<Figure size 1008x432 with 1 Axes>"
      ]
     },
     "metadata": {
      "needs_background": "light"
     },
     "output_type": "display_data"
    }
   ],
   "source": [
    "fig,ax=plt.subplots(figsize=(14,6))\n",
    "# count plot on single categorical variable\n",
    "sns.countplot(x =df['min_experience'], data = df)\n",
    "# Show the plot\n",
    "plt.title(\"Minimum years required:\")\n",
    "plt.show()"
   ]
  },
  {
   "cell_type": "code",
   "execution_count": 306,
   "metadata": {},
   "outputs": [
    {
     "data": {
      "image/png": "[encoded data removed]",
      "text/plain": [
       "<Figure size 1008x432 with 1 Axes>"
      ]
     },
     "metadata": {
      "needs_background": "light"
     },
     "output_type": "display_data"
    }
   ],
   "source": [
    "fig,ax=plt.subplots(figsize=(14,6))\n",
    "# count plot on single categorical variable\n",
    "plt.title(\"Maximum years required:\")\n",
    "sns.countplot(x =df['max_experience'], data = df)\n",
    "# Show the plot\n",
    "plt.show()"
   ]
  },
  {
   "cell_type": "markdown",
   "metadata": {},
   "source": [
    "#  Data Preprocessing"
   ]
  },
  {
   "cell_type": "code",
   "execution_count": 307,
   "metadata": {},
   "outputs": [
    {
     "data": {
      "text/html": [
       "<div>\n",
       "<style scoped>\n",
       "    .dataframe tbody tr th:only-of-type {\n",
       "        vertical-align: middle;\n",
       "    }\n",
       "\n",
       "    .dataframe tbody tr th {\n",
       "        vertical-align: top;\n",
       "    }\n",
       "\n",
       "    .dataframe thead th {\n",
       "        text-align: right;\n",
       "    }\n",
       "</style>\n",
       "<table border=\"1\" class=\"dataframe\">\n",
       "  <thead>\n",
       "    <tr style=\"text-align: right;\">\n",
       "      <th></th>\n",
       "      <th>roles</th>\n",
       "      <th>companies</th>\n",
       "      <th>locations</th>\n",
       "      <th>experience</th>\n",
       "      <th>skills</th>\n",
       "      <th>min_experience</th>\n",
       "      <th>max_experience</th>\n",
       "    </tr>\n",
       "  </thead>\n",
       "  <tbody>\n",
       "    <tr>\n",
       "      <th>0</th>\n",
       "      <td>Data Scientist/ Academic Counselor</td>\n",
       "      <td>GREAT LAKES E-LEARNING SERVICES PRIVATE LIMITED</td>\n",
       "      <td>Chennai, Bengaluru</td>\n",
       "      <td>2-7 Yrs</td>\n",
       "      <td>Data Science\\nArtificial Intelligence\\ntrainin...</td>\n",
       "      <td>2</td>\n",
       "      <td>7</td>\n",
       "    </tr>\n",
       "    <tr>\n",
       "      <th>1</th>\n",
       "      <td>Data Scientist</td>\n",
       "      <td>Shell India Markets Private Limited</td>\n",
       "      <td>Chennai</td>\n",
       "      <td>5-7 Yrs</td>\n",
       "      <td>Data Science\\nMultivariate Analysis\\nFactor An...</td>\n",
       "      <td>5</td>\n",
       "      <td>7</td>\n",
       "    </tr>\n",
       "    <tr>\n",
       "      <th>2</th>\n",
       "      <td>Senior Data Scientist</td>\n",
       "      <td>Decision Point</td>\n",
       "      <td>Gurgaon</td>\n",
       "      <td>3-5 Yrs</td>\n",
       "      <td>Azure\\ntimeseries forecasting\\nMachine Learnin...</td>\n",
       "      <td>3</td>\n",
       "      <td>5</td>\n",
       "    </tr>\n",
       "    <tr>\n",
       "      <th>3</th>\n",
       "      <td>Data Scientist - Machine Learning &amp; Statistica...</td>\n",
       "      <td>Talent Stock Solutions</td>\n",
       "      <td>Delhi</td>\n",
       "      <td>2-5 Yrs</td>\n",
       "      <td>Data Science\\nR\\nC\\nData Scientist\\nStatistica...</td>\n",
       "      <td>2</td>\n",
       "      <td>5</td>\n",
       "    </tr>\n",
       "    <tr>\n",
       "      <th>4</th>\n",
       "      <td>Data Scientist</td>\n",
       "      <td>Zen3Tech (A Tech Mahindra Company)</td>\n",
       "      <td>Hyderabad</td>\n",
       "      <td>3-8 Yrs</td>\n",
       "      <td>R\\nA/B Testing\\nData Manipulation\\nMachine Lea...</td>\n",
       "      <td>3</td>\n",
       "      <td>8</td>\n",
       "    </tr>\n",
       "  </tbody>\n",
       "</table>\n",
       "</div>"
      ],
      "text/plain": [
       "                                               roles  \\\n",
       "0                 Data Scientist/ Academic Counselor   \n",
       "1                                     Data Scientist   \n",
       "2                              Senior Data Scientist   \n",
       "3  Data Scientist - Machine Learning & Statistica...   \n",
       "4                                     Data Scientist   \n",
       "\n",
       "                                         companies           locations  \\\n",
       "0  GREAT LAKES E-LEARNING SERVICES PRIVATE LIMITED  Chennai, Bengaluru   \n",
       "1              Shell India Markets Private Limited             Chennai   \n",
       "2                                   Decision Point             Gurgaon   \n",
       "3                           Talent Stock Solutions               Delhi   \n",
       "4               Zen3Tech (A Tech Mahindra Company)           Hyderabad   \n",
       "\n",
       "  experience                                             skills  \\\n",
       "0    2-7 Yrs  Data Science\\nArtificial Intelligence\\ntrainin...   \n",
       "1    5-7 Yrs  Data Science\\nMultivariate Analysis\\nFactor An...   \n",
       "2    3-5 Yrs  Azure\\ntimeseries forecasting\\nMachine Learnin...   \n",
       "3    2-5 Yrs  Data Science\\nR\\nC\\nData Scientist\\nStatistica...   \n",
       "4    3-8 Yrs  R\\nA/B Testing\\nData Manipulation\\nMachine Lea...   \n",
       "\n",
       "  min_experience max_experience  \n",
       "0              2              7  \n",
       "1              5              7  \n",
       "2              3              5  \n",
       "3              2              5  \n",
       "4              3              8  "
      ]
     },
     "execution_count": 307,
     "metadata": {},
     "output_type": "execute_result"
    }
   ],
   "source": [
    "df.head(5)"
   ]
  },
  {
   "cell_type": "code",
   "execution_count": 308,
   "metadata": {},
   "outputs": [],
   "source": [
    "new = df[\"roles\"].str.split(\"/\", n=1,expand = True)\n",
    "df[\"role1\"] = new[0]\n"
   ]
  },
  {
   "cell_type": "code",
   "execution_count": 309,
   "metadata": {},
   "outputs": [],
   "source": [
    "new = df[\"role1\"].str.split(\"-\", n=1,expand = True)\n",
    "df[\"role2\"] = new[0]\n",
    "\n"
   ]
  },
  {
   "cell_type": "code",
   "execution_count": 310,
   "metadata": {},
   "outputs": [],
   "source": [
    "new = df[\"role2\"].str.split(\"|\", n=1,expand = True)\n",
    "df[\"role3\"] = new[0]\n",
    "\n"
   ]
  },
  {
   "cell_type": "code",
   "execution_count": 311,
   "metadata": {},
   "outputs": [],
   "source": [
    "new = df[\"role3\"].str.split(\",\", n=1,expand = True)\n",
    "df[\"Roles\"] = new[0]\n"
   ]
  },
  {
   "cell_type": "code",
   "execution_count": 312,
   "metadata": {},
   "outputs": [
    {
     "data": {
      "text/html": [
       "<div>\n",
       "<style scoped>\n",
       "    .dataframe tbody tr th:only-of-type {\n",
       "        vertical-align: middle;\n",
       "    }\n",
       "\n",
       "    .dataframe tbody tr th {\n",
       "        vertical-align: top;\n",
       "    }\n",
       "\n",
       "    .dataframe thead th {\n",
       "        text-align: right;\n",
       "    }\n",
       "</style>\n",
       "<table border=\"1\" class=\"dataframe\">\n",
       "  <thead>\n",
       "    <tr style=\"text-align: right;\">\n",
       "      <th></th>\n",
       "      <th>companies</th>\n",
       "      <th>locations</th>\n",
       "      <th>skills</th>\n",
       "      <th>min_experience</th>\n",
       "      <th>max_experience</th>\n",
       "      <th>Roles</th>\n",
       "    </tr>\n",
       "  </thead>\n",
       "  <tbody>\n",
       "    <tr>\n",
       "      <th>0</th>\n",
       "      <td>GREAT LAKES E-LEARNING SERVICES PRIVATE LIMITED</td>\n",
       "      <td>Chennai, Bengaluru</td>\n",
       "      <td>Data Science\\nArtificial Intelligence\\ntrainin...</td>\n",
       "      <td>2</td>\n",
       "      <td>7</td>\n",
       "      <td>Data Scientist</td>\n",
       "    </tr>\n",
       "    <tr>\n",
       "      <th>1</th>\n",
       "      <td>Shell India Markets Private Limited</td>\n",
       "      <td>Chennai</td>\n",
       "      <td>Data Science\\nMultivariate Analysis\\nFactor An...</td>\n",
       "      <td>5</td>\n",
       "      <td>7</td>\n",
       "      <td>Data Scientist</td>\n",
       "    </tr>\n",
       "    <tr>\n",
       "      <th>2</th>\n",
       "      <td>Decision Point</td>\n",
       "      <td>Gurgaon</td>\n",
       "      <td>Azure\\ntimeseries forecasting\\nMachine Learnin...</td>\n",
       "      <td>3</td>\n",
       "      <td>5</td>\n",
       "      <td>Senior Data Scientist</td>\n",
       "    </tr>\n",
       "    <tr>\n",
       "      <th>3</th>\n",
       "      <td>Talent Stock Solutions</td>\n",
       "      <td>Delhi</td>\n",
       "      <td>Data Science\\nR\\nC\\nData Scientist\\nStatistica...</td>\n",
       "      <td>2</td>\n",
       "      <td>5</td>\n",
       "      <td>Data Scientist</td>\n",
       "    </tr>\n",
       "    <tr>\n",
       "      <th>4</th>\n",
       "      <td>Zen3Tech (A Tech Mahindra Company)</td>\n",
       "      <td>Hyderabad</td>\n",
       "      <td>R\\nA/B Testing\\nData Manipulation\\nMachine Lea...</td>\n",
       "      <td>3</td>\n",
       "      <td>8</td>\n",
       "      <td>Data Scientist</td>\n",
       "    </tr>\n",
       "    <tr>\n",
       "      <th>5</th>\n",
       "      <td>Extentia Information Technology Pvt Ltd</td>\n",
       "      <td>Pune</td>\n",
       "      <td>Machine Learning\\nPython</td>\n",
       "      <td>0</td>\n",
       "      <td>2</td>\n",
       "      <td>Data Scientist</td>\n",
       "    </tr>\n",
       "    <tr>\n",
       "      <th>6</th>\n",
       "      <td>KONE Elevator India Pvt. Ltd</td>\n",
       "      <td>Pune</td>\n",
       "      <td>predictive algorithms\\nK-Means\\nGithub\\nGenera...</td>\n",
       "      <td>3</td>\n",
       "      <td>5</td>\n",
       "      <td>Data Scientist</td>\n",
       "    </tr>\n",
       "    <tr>\n",
       "      <th>7</th>\n",
       "      <td>INTEGREON MANAGED SOLUTIONS INDIA PVT LIMITED</td>\n",
       "      <td>Mumbai</td>\n",
       "      <td>analytics\\npython\\ntableau\\nregression\\npredic...</td>\n",
       "      <td>2</td>\n",
       "      <td>7</td>\n",
       "      <td>Data Scientist</td>\n",
       "    </tr>\n",
       "    <tr>\n",
       "      <th>8</th>\n",
       "      <td>Bigshyft Hiring for Indus OS</td>\n",
       "      <td>Mumbai</td>\n",
       "      <td>cassandra\\nScala\\nHadoop\\nSpark\\nPython</td>\n",
       "      <td>2</td>\n",
       "      <td>5</td>\n",
       "      <td>Data Scientist</td>\n",
       "    </tr>\n",
       "    <tr>\n",
       "      <th>9</th>\n",
       "      <td>Visible Alpha Solutions India Pvt. Ltd.</td>\n",
       "      <td>Mumbai</td>\n",
       "      <td>Java\\nR\\nNLP\\nAlgorithms\\nLinux\\nWeb Technolog...</td>\n",
       "      <td>5</td>\n",
       "      <td>7</td>\n",
       "      <td>Senior Data Scientist (NLP)</td>\n",
       "    </tr>\n",
       "  </tbody>\n",
       "</table>\n",
       "</div>"
      ],
      "text/plain": [
       "                                         companies           locations  \\\n",
       "0  GREAT LAKES E-LEARNING SERVICES PRIVATE LIMITED  Chennai, Bengaluru   \n",
       "1              Shell India Markets Private Limited             Chennai   \n",
       "2                                   Decision Point             Gurgaon   \n",
       "3                           Talent Stock Solutions               Delhi   \n",
       "4               Zen3Tech (A Tech Mahindra Company)           Hyderabad   \n",
       "5          Extentia Information Technology Pvt Ltd                Pune   \n",
       "6                     KONE Elevator India Pvt. Ltd                Pune   \n",
       "7    INTEGREON MANAGED SOLUTIONS INDIA PVT LIMITED              Mumbai   \n",
       "8                     Bigshyft Hiring for Indus OS              Mumbai   \n",
       "9          Visible Alpha Solutions India Pvt. Ltd.              Mumbai   \n",
       "\n",
       "                                              skills min_experience  \\\n",
       "0  Data Science\\nArtificial Intelligence\\ntrainin...              2   \n",
       "1  Data Science\\nMultivariate Analysis\\nFactor An...              5   \n",
       "2  Azure\\ntimeseries forecasting\\nMachine Learnin...              3   \n",
       "3  Data Science\\nR\\nC\\nData Scientist\\nStatistica...              2   \n",
       "4  R\\nA/B Testing\\nData Manipulation\\nMachine Lea...              3   \n",
       "5                           Machine Learning\\nPython              0   \n",
       "6  predictive algorithms\\nK-Means\\nGithub\\nGenera...              3   \n",
       "7  analytics\\npython\\ntableau\\nregression\\npredic...              2   \n",
       "8            cassandra\\nScala\\nHadoop\\nSpark\\nPython              2   \n",
       "9  Java\\nR\\nNLP\\nAlgorithms\\nLinux\\nWeb Technolog...              5   \n",
       "\n",
       "  max_experience                        Roles  \n",
       "0              7               Data Scientist  \n",
       "1              7               Data Scientist  \n",
       "2              5        Senior Data Scientist  \n",
       "3              5              Data Scientist   \n",
       "4              8               Data Scientist  \n",
       "5              2               Data Scientist  \n",
       "6              5               Data Scientist  \n",
       "7              7              Data Scientist   \n",
       "8              5               Data Scientist  \n",
       "9              7  Senior Data Scientist (NLP)  "
      ]
     },
     "execution_count": 312,
     "metadata": {},
     "output_type": "execute_result"
    }
   ],
   "source": [
    "df.drop(df.columns[[0,3,7,8,9]],axis=1,inplace=True)\n",
    "df.head(10)"
   ]
  },
  {
   "cell_type": "code",
   "execution_count": 313,
   "metadata": {},
   "outputs": [
    {
     "data": {
      "text/html": [
       "<div>\n",
       "<style scoped>\n",
       "    .dataframe tbody tr th:only-of-type {\n",
       "        vertical-align: middle;\n",
       "    }\n",
       "\n",
       "    .dataframe tbody tr th {\n",
       "        vertical-align: top;\n",
       "    }\n",
       "\n",
       "    .dataframe thead th {\n",
       "        text-align: right;\n",
       "    }\n",
       "</style>\n",
       "<table border=\"1\" class=\"dataframe\">\n",
       "  <thead>\n",
       "    <tr style=\"text-align: right;\">\n",
       "      <th></th>\n",
       "      <th>companies</th>\n",
       "      <th>skills</th>\n",
       "      <th>min_experience</th>\n",
       "      <th>max_experience</th>\n",
       "      <th>Roles</th>\n",
       "      <th>location</th>\n",
       "    </tr>\n",
       "  </thead>\n",
       "  <tbody>\n",
       "    <tr>\n",
       "      <th>0</th>\n",
       "      <td>GREAT LAKES E-LEARNING SERVICES PRIVATE LIMITED</td>\n",
       "      <td>Data Science\\nArtificial Intelligence\\ntrainin...</td>\n",
       "      <td>2</td>\n",
       "      <td>7</td>\n",
       "      <td>Data Scientist</td>\n",
       "      <td>Chennai</td>\n",
       "    </tr>\n",
       "    <tr>\n",
       "      <th>1</th>\n",
       "      <td>Shell India Markets Private Limited</td>\n",
       "      <td>Data Science\\nMultivariate Analysis\\nFactor An...</td>\n",
       "      <td>5</td>\n",
       "      <td>7</td>\n",
       "      <td>Data Scientist</td>\n",
       "      <td>Chennai</td>\n",
       "    </tr>\n",
       "    <tr>\n",
       "      <th>2</th>\n",
       "      <td>Decision Point</td>\n",
       "      <td>Azure\\ntimeseries forecasting\\nMachine Learnin...</td>\n",
       "      <td>3</td>\n",
       "      <td>5</td>\n",
       "      <td>Senior Data Scientist</td>\n",
       "      <td>Gurgaon</td>\n",
       "    </tr>\n",
       "    <tr>\n",
       "      <th>3</th>\n",
       "      <td>Talent Stock Solutions</td>\n",
       "      <td>Data Science\\nR\\nC\\nData Scientist\\nStatistica...</td>\n",
       "      <td>2</td>\n",
       "      <td>5</td>\n",
       "      <td>Data Scientist</td>\n",
       "      <td>Delhi</td>\n",
       "    </tr>\n",
       "    <tr>\n",
       "      <th>4</th>\n",
       "      <td>Zen3Tech (A Tech Mahindra Company)</td>\n",
       "      <td>R\\nA/B Testing\\nData Manipulation\\nMachine Lea...</td>\n",
       "      <td>3</td>\n",
       "      <td>8</td>\n",
       "      <td>Data Scientist</td>\n",
       "      <td>Hyderabad</td>\n",
       "    </tr>\n",
       "  </tbody>\n",
       "</table>\n",
       "</div>"
      ],
      "text/plain": [
       "                                         companies  \\\n",
       "0  GREAT LAKES E-LEARNING SERVICES PRIVATE LIMITED   \n",
       "1              Shell India Markets Private Limited   \n",
       "2                                   Decision Point   \n",
       "3                           Talent Stock Solutions   \n",
       "4               Zen3Tech (A Tech Mahindra Company)   \n",
       "\n",
       "                                              skills min_experience  \\\n",
       "0  Data Science\\nArtificial Intelligence\\ntrainin...              2   \n",
       "1  Data Science\\nMultivariate Analysis\\nFactor An...              5   \n",
       "2  Azure\\ntimeseries forecasting\\nMachine Learnin...              3   \n",
       "3  Data Science\\nR\\nC\\nData Scientist\\nStatistica...              2   \n",
       "4  R\\nA/B Testing\\nData Manipulation\\nMachine Lea...              3   \n",
       "\n",
       "  max_experience                  Roles   location  \n",
       "0              7         Data Scientist    Chennai  \n",
       "1              7         Data Scientist    Chennai  \n",
       "2              5  Senior Data Scientist    Gurgaon  \n",
       "3              5        Data Scientist       Delhi  \n",
       "4              8         Data Scientist  Hyderabad  "
      ]
     },
     "execution_count": 313,
     "metadata": {},
     "output_type": "execute_result"
    }
   ],
   "source": [
    "new = df[\"locations\"].str.split(\",\", n=1,expand = True)\n",
    "df[\"location\"] = new[0]\n",
    "df.drop(df.columns[[1]],axis=1,inplace=True)\n",
    "df.head(5)"
   ]
  },
  {
   "cell_type": "code",
   "execution_count": 314,
   "metadata": {},
   "outputs": [],
   "source": [
    "new = df[\"skills\"].str.split(\"\\n\", n=1,expand = True)\n",
    "df[\"Main skill\"] = new[0]\n",
    "df[\"Secondary skills\"]=new[1]\n",
    "#df.head(5)"
   ]
  },
  {
   "cell_type": "code",
   "execution_count": 315,
   "metadata": {},
   "outputs": [],
   "source": [
    "new = df[\"Secondary skills\"].str.split(\"\\n\", n=1,expand = True)\n",
    "df[\"skill1\"] = new[0]\n",
    "df[\"skill1.1\"]=new[1]\n"
   ]
  },
  {
   "cell_type": "code",
   "execution_count": 316,
   "metadata": {},
   "outputs": [],
   "source": [
    "#df.head(5)"
   ]
  },
  {
   "cell_type": "code",
   "execution_count": 317,
   "metadata": {},
   "outputs": [],
   "source": [
    "new = df[\"skill1.1\"].str.split(\"\\n\", n=1,expand = True)\n",
    "df[\"skill2\"] = new[0]\n",
    "df[\"skill2.2\"]=new[1]\n"
   ]
  },
  {
   "cell_type": "code",
   "execution_count": 318,
   "metadata": {},
   "outputs": [],
   "source": [
    "new = df[\"skill2.2\"].str.split(\"\\n\", n=1,expand = True)\n",
    "df[\"skill3\"] = new[0]\n"
   ]
  },
  {
   "cell_type": "code",
   "execution_count": 319,
   "metadata": {},
   "outputs": [
    {
     "data": {
      "text/html": [
       "<div>\n",
       "<style scoped>\n",
       "    .dataframe tbody tr th:only-of-type {\n",
       "        vertical-align: middle;\n",
       "    }\n",
       "\n",
       "    .dataframe tbody tr th {\n",
       "        vertical-align: top;\n",
       "    }\n",
       "\n",
       "    .dataframe thead th {\n",
       "        text-align: right;\n",
       "    }\n",
       "</style>\n",
       "<table border=\"1\" class=\"dataframe\">\n",
       "  <thead>\n",
       "    <tr style=\"text-align: right;\">\n",
       "      <th></th>\n",
       "      <th>companies</th>\n",
       "      <th>min_experience</th>\n",
       "      <th>max_experience</th>\n",
       "      <th>Roles</th>\n",
       "      <th>location</th>\n",
       "      <th>Main skill</th>\n",
       "      <th>skill1</th>\n",
       "      <th>skill2</th>\n",
       "      <th>skill3</th>\n",
       "    </tr>\n",
       "  </thead>\n",
       "  <tbody>\n",
       "    <tr>\n",
       "      <th>0</th>\n",
       "      <td>GREAT LAKES E-LEARNING SERVICES PRIVATE LIMITED</td>\n",
       "      <td>2</td>\n",
       "      <td>7</td>\n",
       "      <td>Data Scientist</td>\n",
       "      <td>Chennai</td>\n",
       "      <td>Data Science</td>\n",
       "      <td>Artificial Intelligence</td>\n",
       "      <td>training</td>\n",
       "      <td>Tableau</td>\n",
       "    </tr>\n",
       "    <tr>\n",
       "      <th>1</th>\n",
       "      <td>Shell India Markets Private Limited</td>\n",
       "      <td>5</td>\n",
       "      <td>7</td>\n",
       "      <td>Data Scientist</td>\n",
       "      <td>Chennai</td>\n",
       "      <td>Data Science</td>\n",
       "      <td>Multivariate Analysis</td>\n",
       "      <td>Factor Analysis</td>\n",
       "      <td>Natural Language Processing</td>\n",
       "    </tr>\n",
       "    <tr>\n",
       "      <th>2</th>\n",
       "      <td>Decision Point</td>\n",
       "      <td>3</td>\n",
       "      <td>5</td>\n",
       "      <td>Senior Data Scientist</td>\n",
       "      <td>Gurgaon</td>\n",
       "      <td>Azure</td>\n",
       "      <td>timeseries forecasting</td>\n",
       "      <td>Machine Learning Models</td>\n",
       "      <td>data analytics</td>\n",
       "    </tr>\n",
       "    <tr>\n",
       "      <th>3</th>\n",
       "      <td>Talent Stock Solutions</td>\n",
       "      <td>2</td>\n",
       "      <td>5</td>\n",
       "      <td>Data Scientist</td>\n",
       "      <td>Delhi</td>\n",
       "      <td>Data Science</td>\n",
       "      <td>R</td>\n",
       "      <td>C</td>\n",
       "      <td>Data Scientist</td>\n",
       "    </tr>\n",
       "    <tr>\n",
       "      <th>4</th>\n",
       "      <td>Zen3Tech (A Tech Mahindra Company)</td>\n",
       "      <td>3</td>\n",
       "      <td>8</td>\n",
       "      <td>Data Scientist</td>\n",
       "      <td>Hyderabad</td>\n",
       "      <td>R</td>\n",
       "      <td>A/B Testing</td>\n",
       "      <td>Data Manipulation</td>\n",
       "      <td>Machine Learning</td>\n",
       "    </tr>\n",
       "    <tr>\n",
       "      <th>5</th>\n",
       "      <td>Extentia Information Technology Pvt Ltd</td>\n",
       "      <td>0</td>\n",
       "      <td>2</td>\n",
       "      <td>Data Scientist</td>\n",
       "      <td>Pune</td>\n",
       "      <td>Machine Learning</td>\n",
       "      <td>Python</td>\n",
       "      <td>None</td>\n",
       "      <td>None</td>\n",
       "    </tr>\n",
       "    <tr>\n",
       "      <th>6</th>\n",
       "      <td>KONE Elevator India Pvt. Ltd</td>\n",
       "      <td>3</td>\n",
       "      <td>5</td>\n",
       "      <td>Data Scientist</td>\n",
       "      <td>Pune</td>\n",
       "      <td>predictive algorithms</td>\n",
       "      <td>K-Means</td>\n",
       "      <td>Github</td>\n",
       "      <td>Generalized Linear Model</td>\n",
       "    </tr>\n",
       "    <tr>\n",
       "      <th>7</th>\n",
       "      <td>INTEGREON MANAGED SOLUTIONS INDIA PVT LIMITED</td>\n",
       "      <td>2</td>\n",
       "      <td>7</td>\n",
       "      <td>Data Scientist</td>\n",
       "      <td>Mumbai</td>\n",
       "      <td>analytics</td>\n",
       "      <td>python</td>\n",
       "      <td>tableau</td>\n",
       "      <td>regression</td>\n",
       "    </tr>\n",
       "    <tr>\n",
       "      <th>8</th>\n",
       "      <td>Bigshyft Hiring for Indus OS</td>\n",
       "      <td>2</td>\n",
       "      <td>5</td>\n",
       "      <td>Data Scientist</td>\n",
       "      <td>Mumbai</td>\n",
       "      <td>cassandra</td>\n",
       "      <td>Scala</td>\n",
       "      <td>Hadoop</td>\n",
       "      <td>Spark</td>\n",
       "    </tr>\n",
       "    <tr>\n",
       "      <th>9</th>\n",
       "      <td>Visible Alpha Solutions India Pvt. Ltd.</td>\n",
       "      <td>5</td>\n",
       "      <td>7</td>\n",
       "      <td>Senior Data Scientist (NLP)</td>\n",
       "      <td>Mumbai</td>\n",
       "      <td>Java</td>\n",
       "      <td>R</td>\n",
       "      <td>NLP</td>\n",
       "      <td>Algorithms</td>\n",
       "    </tr>\n",
       "  </tbody>\n",
       "</table>\n",
       "</div>"
      ],
      "text/plain": [
       "                                         companies min_experience  \\\n",
       "0  GREAT LAKES E-LEARNING SERVICES PRIVATE LIMITED              2   \n",
       "1              Shell India Markets Private Limited              5   \n",
       "2                                   Decision Point              3   \n",
       "3                           Talent Stock Solutions              2   \n",
       "4               Zen3Tech (A Tech Mahindra Company)              3   \n",
       "5          Extentia Information Technology Pvt Ltd              0   \n",
       "6                     KONE Elevator India Pvt. Ltd              3   \n",
       "7    INTEGREON MANAGED SOLUTIONS INDIA PVT LIMITED              2   \n",
       "8                     Bigshyft Hiring for Indus OS              2   \n",
       "9          Visible Alpha Solutions India Pvt. Ltd.              5   \n",
       "\n",
       "  max_experience                        Roles   location  \\\n",
       "0              7               Data Scientist    Chennai   \n",
       "1              7               Data Scientist    Chennai   \n",
       "2              5        Senior Data Scientist    Gurgaon   \n",
       "3              5              Data Scientist       Delhi   \n",
       "4              8               Data Scientist  Hyderabad   \n",
       "5              2               Data Scientist       Pune   \n",
       "6              5               Data Scientist       Pune   \n",
       "7              7              Data Scientist      Mumbai   \n",
       "8              5               Data Scientist     Mumbai   \n",
       "9              7  Senior Data Scientist (NLP)     Mumbai   \n",
       "\n",
       "              Main skill                   skill1                   skill2  \\\n",
       "0           Data Science  Artificial Intelligence                 training   \n",
       "1           Data Science    Multivariate Analysis          Factor Analysis   \n",
       "2                  Azure   timeseries forecasting  Machine Learning Models   \n",
       "3           Data Science                        R                        C   \n",
       "4                      R              A/B Testing        Data Manipulation   \n",
       "5       Machine Learning                   Python                     None   \n",
       "6  predictive algorithms                  K-Means                   Github   \n",
       "7              analytics                   python                  tableau   \n",
       "8              cassandra                    Scala                   Hadoop   \n",
       "9                   Java                        R                      NLP   \n",
       "\n",
       "                        skill3  \n",
       "0                      Tableau  \n",
       "1  Natural Language Processing  \n",
       "2               data analytics  \n",
       "3               Data Scientist  \n",
       "4             Machine Learning  \n",
       "5                         None  \n",
       "6     Generalized Linear Model  \n",
       "7                   regression  \n",
       "8                        Spark  \n",
       "9                   Algorithms  "
      ]
     },
     "execution_count": 319,
     "metadata": {},
     "output_type": "execute_result"
    }
   ],
   "source": [
    "df.drop(df.columns[[1,7,9,11]],axis=1,inplace=True)\n",
    "df.head(10)"
   ]
  },
  {
   "cell_type": "markdown",
   "metadata": {},
   "source": [
    "\n",
    "# To convert categorical values ino numerical values"
   ]
  },
  {
   "cell_type": "code",
   "execution_count": 320,
   "metadata": {},
   "outputs": [
    {
     "data": {
      "text/html": [
       "<div>\n",
       "<style scoped>\n",
       "    .dataframe tbody tr th:only-of-type {\n",
       "        vertical-align: middle;\n",
       "    }\n",
       "\n",
       "    .dataframe tbody tr th {\n",
       "        vertical-align: top;\n",
       "    }\n",
       "\n",
       "    .dataframe thead th {\n",
       "        text-align: right;\n",
       "    }\n",
       "</style>\n",
       "<table border=\"1\" class=\"dataframe\">\n",
       "  <thead>\n",
       "    <tr style=\"text-align: right;\">\n",
       "      <th></th>\n",
       "      <th>min_experience</th>\n",
       "      <th>max_experience</th>\n",
       "      <th>Roles</th>\n",
       "      <th>location</th>\n",
       "      <th>Main skill</th>\n",
       "      <th>skill1</th>\n",
       "    </tr>\n",
       "  </thead>\n",
       "  <tbody>\n",
       "    <tr>\n",
       "      <th>0</th>\n",
       "      <td>2</td>\n",
       "      <td>7</td>\n",
       "      <td>Data Scientist</td>\n",
       "      <td>Chennai</td>\n",
       "      <td>Data Science</td>\n",
       "      <td>Artificial Intelligence</td>\n",
       "    </tr>\n",
       "    <tr>\n",
       "      <th>1</th>\n",
       "      <td>5</td>\n",
       "      <td>7</td>\n",
       "      <td>Data Scientist</td>\n",
       "      <td>Chennai</td>\n",
       "      <td>Data Science</td>\n",
       "      <td>Multivariate Analysis</td>\n",
       "    </tr>\n",
       "    <tr>\n",
       "      <th>2</th>\n",
       "      <td>3</td>\n",
       "      <td>5</td>\n",
       "      <td>Senior Data Scientist</td>\n",
       "      <td>Gurgaon</td>\n",
       "      <td>Azure</td>\n",
       "      <td>timeseries forecasting</td>\n",
       "    </tr>\n",
       "    <tr>\n",
       "      <th>3</th>\n",
       "      <td>2</td>\n",
       "      <td>5</td>\n",
       "      <td>Data Scientist</td>\n",
       "      <td>Delhi</td>\n",
       "      <td>Data Science</td>\n",
       "      <td>R</td>\n",
       "    </tr>\n",
       "  </tbody>\n",
       "</table>\n",
       "</div>"
      ],
      "text/plain": [
       "  min_experience max_experience                  Roles location    Main skill  \\\n",
       "0              2              7         Data Scientist  Chennai  Data Science   \n",
       "1              5              7         Data Scientist  Chennai  Data Science   \n",
       "2              3              5  Senior Data Scientist  Gurgaon         Azure   \n",
       "3              2              5        Data Scientist     Delhi  Data Science   \n",
       "\n",
       "                    skill1  \n",
       "0  Artificial Intelligence  \n",
       "1    Multivariate Analysis  \n",
       "2   timeseries forecasting  \n",
       "3                        R  "
      ]
     },
     "execution_count": 320,
     "metadata": {},
     "output_type": "execute_result"
    }
   ],
   "source": [
    "df.drop(df.columns[[0,7,-1]],axis=1,inplace=True)\n",
    "df.head(4)"
   ]
  },
  {
   "cell_type": "code",
   "execution_count": 321,
   "metadata": {},
   "outputs": [
    {
     "data": {
      "text/html": [
       "<div>\n",
       "<style scoped>\n",
       "    .dataframe tbody tr th:only-of-type {\n",
       "        vertical-align: middle;\n",
       "    }\n",
       "\n",
       "    .dataframe tbody tr th {\n",
       "        vertical-align: top;\n",
       "    }\n",
       "\n",
       "    .dataframe thead th {\n",
       "        text-align: right;\n",
       "    }\n",
       "</style>\n",
       "<table border=\"1\" class=\"dataframe\">\n",
       "  <thead>\n",
       "    <tr style=\"text-align: right;\">\n",
       "      <th></th>\n",
       "      <th>min_experience</th>\n",
       "      <th>max_experience</th>\n",
       "      <th>Roles</th>\n",
       "      <th>location</th>\n",
       "      <th>Main skill</th>\n",
       "      <th>Other skill</th>\n",
       "    </tr>\n",
       "  </thead>\n",
       "  <tbody>\n",
       "    <tr>\n",
       "      <th>0</th>\n",
       "      <td>2</td>\n",
       "      <td>7</td>\n",
       "      <td>Data Scientist</td>\n",
       "      <td>Chennai</td>\n",
       "      <td>Data Science</td>\n",
       "      <td>Artificial Intelligence</td>\n",
       "    </tr>\n",
       "    <tr>\n",
       "      <th>1</th>\n",
       "      <td>5</td>\n",
       "      <td>7</td>\n",
       "      <td>Data Scientist</td>\n",
       "      <td>Chennai</td>\n",
       "      <td>Data Science</td>\n",
       "      <td>Multivariate Analysis</td>\n",
       "    </tr>\n",
       "    <tr>\n",
       "      <th>2</th>\n",
       "      <td>3</td>\n",
       "      <td>5</td>\n",
       "      <td>Senior Data Scientist</td>\n",
       "      <td>Gurgaon</td>\n",
       "      <td>Azure</td>\n",
       "      <td>timeseries forecasting</td>\n",
       "    </tr>\n",
       "    <tr>\n",
       "      <th>3</th>\n",
       "      <td>2</td>\n",
       "      <td>5</td>\n",
       "      <td>Data Scientist</td>\n",
       "      <td>Delhi</td>\n",
       "      <td>Data Science</td>\n",
       "      <td>R</td>\n",
       "    </tr>\n",
       "  </tbody>\n",
       "</table>\n",
       "</div>"
      ],
      "text/plain": [
       "  min_experience max_experience                  Roles location    Main skill  \\\n",
       "0              2              7         Data Scientist  Chennai  Data Science   \n",
       "1              5              7         Data Scientist  Chennai  Data Science   \n",
       "2              3              5  Senior Data Scientist  Gurgaon         Azure   \n",
       "3              2              5        Data Scientist     Delhi  Data Science   \n",
       "\n",
       "               Other skill  \n",
       "0  Artificial Intelligence  \n",
       "1    Multivariate Analysis  \n",
       "2   timeseries forecasting  \n",
       "3                        R  "
      ]
     },
     "execution_count": 321,
     "metadata": {},
     "output_type": "execute_result"
    }
   ],
   "source": [
    "df=df.rename(columns={'skill1':'Other skill'})\n",
    "df.head(4)"
   ]
  },
  {
   "cell_type": "code",
   "execution_count": 322,
   "metadata": {},
   "outputs": [
    {
     "data": {
      "text/html": [
       "<div>\n",
       "<style scoped>\n",
       "    .dataframe tbody tr th:only-of-type {\n",
       "        vertical-align: middle;\n",
       "    }\n",
       "\n",
       "    .dataframe tbody tr th {\n",
       "        vertical-align: top;\n",
       "    }\n",
       "\n",
       "    .dataframe thead th {\n",
       "        text-align: right;\n",
       "    }\n",
       "</style>\n",
       "<table border=\"1\" class=\"dataframe\">\n",
       "  <thead>\n",
       "    <tr style=\"text-align: right;\">\n",
       "      <th></th>\n",
       "      <th>min_experience</th>\n",
       "      <th>max_experience</th>\n",
       "      <th>Roles</th>\n",
       "      <th>location</th>\n",
       "      <th>Main skill</th>\n",
       "      <th>Other skill</th>\n",
       "    </tr>\n",
       "  </thead>\n",
       "  <tbody>\n",
       "    <tr>\n",
       "      <th>0</th>\n",
       "      <td>2</td>\n",
       "      <td>7</td>\n",
       "      <td>Data Scientist</td>\n",
       "      <td>14</td>\n",
       "      <td>Data Science</td>\n",
       "      <td>Artificial Intelligence</td>\n",
       "    </tr>\n",
       "    <tr>\n",
       "      <th>1</th>\n",
       "      <td>5</td>\n",
       "      <td>7</td>\n",
       "      <td>Data Scientist</td>\n",
       "      <td>14</td>\n",
       "      <td>Data Science</td>\n",
       "      <td>Multivariate Analysis</td>\n",
       "    </tr>\n",
       "    <tr>\n",
       "      <th>2</th>\n",
       "      <td>3</td>\n",
       "      <td>5</td>\n",
       "      <td>Senior Data Scientist</td>\n",
       "      <td>29</td>\n",
       "      <td>Azure</td>\n",
       "      <td>timeseries forecasting</td>\n",
       "    </tr>\n",
       "    <tr>\n",
       "      <th>3</th>\n",
       "      <td>2</td>\n",
       "      <td>5</td>\n",
       "      <td>Data Scientist</td>\n",
       "      <td>21</td>\n",
       "      <td>Data Science</td>\n",
       "      <td>R</td>\n",
       "    </tr>\n",
       "    <tr>\n",
       "      <th>4</th>\n",
       "      <td>3</td>\n",
       "      <td>8</td>\n",
       "      <td>Data Scientist</td>\n",
       "      <td>32</td>\n",
       "      <td>R</td>\n",
       "      <td>A/B Testing</td>\n",
       "    </tr>\n",
       "  </tbody>\n",
       "</table>\n",
       "</div>"
      ],
      "text/plain": [
       "  min_experience max_experience                  Roles  location  \\\n",
       "0              2              7         Data Scientist        14   \n",
       "1              5              7         Data Scientist        14   \n",
       "2              3              5  Senior Data Scientist        29   \n",
       "3              2              5        Data Scientist         21   \n",
       "4              3              8         Data Scientist        32   \n",
       "\n",
       "     Main skill              Other skill  \n",
       "0  Data Science  Artificial Intelligence  \n",
       "1  Data Science    Multivariate Analysis  \n",
       "2         Azure   timeseries forecasting  \n",
       "3  Data Science                        R  \n",
       "4             R              A/B Testing  "
      ]
     },
     "execution_count": 322,
     "metadata": {},
     "output_type": "execute_result"
    }
   ],
   "source": [
    "from sklearn.preprocessing import LabelEncoder\n",
    "le=LabelEncoder()\n",
    "df['location']=le.fit_transform(df['location'])\n",
    "df.head(5)"
   ]
  },
  {
   "cell_type": "code",
   "execution_count": 323,
   "metadata": {},
   "outputs": [
    {
     "data": {
      "text/html": [
       "<div>\n",
       "<style scoped>\n",
       "    .dataframe tbody tr th:only-of-type {\n",
       "        vertical-align: middle;\n",
       "    }\n",
       "\n",
       "    .dataframe tbody tr th {\n",
       "        vertical-align: top;\n",
       "    }\n",
       "\n",
       "    .dataframe thead th {\n",
       "        text-align: right;\n",
       "    }\n",
       "</style>\n",
       "<table border=\"1\" class=\"dataframe\">\n",
       "  <thead>\n",
       "    <tr style=\"text-align: right;\">\n",
       "      <th></th>\n",
       "      <th>min_experience</th>\n",
       "      <th>max_experience</th>\n",
       "      <th>Roles</th>\n",
       "      <th>location</th>\n",
       "      <th>Main skill</th>\n",
       "      <th>Other skill</th>\n",
       "    </tr>\n",
       "  </thead>\n",
       "  <tbody>\n",
       "    <tr>\n",
       "      <th>0</th>\n",
       "      <td>2</td>\n",
       "      <td>7</td>\n",
       "      <td>86</td>\n",
       "      <td>14</td>\n",
       "      <td>Data Science</td>\n",
       "      <td>Artificial Intelligence</td>\n",
       "    </tr>\n",
       "    <tr>\n",
       "      <th>1</th>\n",
       "      <td>5</td>\n",
       "      <td>7</td>\n",
       "      <td>86</td>\n",
       "      <td>14</td>\n",
       "      <td>Data Science</td>\n",
       "      <td>Multivariate Analysis</td>\n",
       "    </tr>\n",
       "    <tr>\n",
       "      <th>2</th>\n",
       "      <td>3</td>\n",
       "      <td>5</td>\n",
       "      <td>279</td>\n",
       "      <td>29</td>\n",
       "      <td>Azure</td>\n",
       "      <td>timeseries forecasting</td>\n",
       "    </tr>\n",
       "    <tr>\n",
       "      <th>3</th>\n",
       "      <td>2</td>\n",
       "      <td>5</td>\n",
       "      <td>87</td>\n",
       "      <td>21</td>\n",
       "      <td>Data Science</td>\n",
       "      <td>R</td>\n",
       "    </tr>\n",
       "    <tr>\n",
       "      <th>4</th>\n",
       "      <td>3</td>\n",
       "      <td>8</td>\n",
       "      <td>86</td>\n",
       "      <td>32</td>\n",
       "      <td>R</td>\n",
       "      <td>A/B Testing</td>\n",
       "    </tr>\n",
       "  </tbody>\n",
       "</table>\n",
       "</div>"
      ],
      "text/plain": [
       "  min_experience max_experience  Roles  location    Main skill  \\\n",
       "0              2              7     86        14  Data Science   \n",
       "1              5              7     86        14  Data Science   \n",
       "2              3              5    279        29         Azure   \n",
       "3              2              5     87        21  Data Science   \n",
       "4              3              8     86        32             R   \n",
       "\n",
       "               Other skill  \n",
       "0  Artificial Intelligence  \n",
       "1    Multivariate Analysis  \n",
       "2   timeseries forecasting  \n",
       "3                        R  \n",
       "4              A/B Testing  "
      ]
     },
     "execution_count": 323,
     "metadata": {},
     "output_type": "execute_result"
    }
   ],
   "source": [
    "from sklearn.preprocessing import LabelEncoder\n",
    "le=LabelEncoder()\n",
    "df['Roles']=le.fit_transform(df['Roles'])\n",
    "df.head(5)"
   ]
  },
  {
   "cell_type": "code",
   "execution_count": 324,
   "metadata": {},
   "outputs": [],
   "source": [
    "#from sklearn.preprocessing import LabelEncoder\n",
    "#le=LabelEncoder()\n",
    "#df['Main skill']=le.fit_transform(df['Main skill'])\n",
    "#df.head(5)"
   ]
  },
  {
   "cell_type": "markdown",
   "metadata": {},
   "source": [
    "# Kmeans clustering"
   ]
  },
  {
   "cell_type": "code",
   "execution_count": 325,
   "metadata": {},
   "outputs": [
    {
     "data": {
      "text/plain": [
       "array([[ 86,  14],\n",
       "       [ 86,  14],\n",
       "       [279,  29],\n",
       "       ...,\n",
       "       [146,  32],\n",
       "       [ 14,  63],\n",
       "       [250,   5]])"
      ]
     },
     "execution_count": 325,
     "metadata": {},
     "output_type": "execute_result"
    }
   ],
   "source": [
    "X = df.iloc[:,2:4].values\n",
    "X"
   ]
  },
  {
   "cell_type": "code",
   "execution_count": 339,
   "metadata": {},
   "outputs": [
    {
     "data": {
      "image/png": "[encoded data removed]",
      "text/plain": [
       "<Figure size 504x360 with 1 Axes>"
      ]
     },
     "metadata": {
      "needs_background": "light"
     },
     "output_type": "display_data"
    }
   ],
   "source": [
    "from sklearn.cluster import KMeans\n",
    "wcss = []\n",
    "for i in range(1, 10):\n",
    "    kmeans = KMeans(n_clusters = i, init = 'k-means++', random_state = 42)\n",
    "    kmeans.fit(X)\n",
    "    wcss.append(kmeans.inertia_)\n",
    "plt.plot(range(1, 10), wcss)\n",
    "plt.title('The Elbow Method')\n",
    "plt.xlabel('Number of clusters')\n",
    "plt.ylabel('WCSS')\n",
    "plt.show()"
   ]
  },
  {
   "cell_type": "code",
   "execution_count": 340,
   "metadata": {},
   "outputs": [],
   "source": [
    "kmeans = KMeans(n_clusters = 5, init = 'k-means++', random_state = 42)\n",
    "y_kmeans = kmeans.fit_predict(X)"
   ]
  },
  {
   "cell_type": "code",
   "execution_count": 343,
   "metadata": {},
   "outputs": [
    {
     "data": {
      "image/png": "[encoded data removed]",
      "text/plain": [
       "<Figure size 504x360 with 1 Axes>"
      ]
     },
     "metadata": {
      "needs_background": "light"
     },
     "output_type": "display_data"
    }
   ],
   "source": [
    "plt.scatter(X[y_kmeans == 0, 0], X[y_kmeans == 0, 1], s = 50, c = 'red', label = 'Cluster 1')\n",
    "plt.scatter(X[y_kmeans == 1, 0], X[y_kmeans == 1, 1], s = 50, c = 'blue', label = 'Cluster 2')\n",
    "plt.scatter(X[y_kmeans == 2, 0], X[y_kmeans == 2, 1], s = 50, c = 'green', label = 'Cluster 3')\n",
    "plt.scatter(X[y_kmeans == 3, 0], X[y_kmeans == 3, 1], s = 50, c = 'cyan', label = 'Cluster 4')\n",
    "plt.scatter(X[y_kmeans == 4, 0], X[y_kmeans == 4, 1], s = 50, c = 'magenta', label = 'Cluster 5')\n",
    "plt.scatter(kmeans.cluster_centers_[:, 0], kmeans.cluster_centers_[:, 1], s = 70, c = 'yellow', label = 'Centroids')\n",
    "plt.title('Clusters of market')\n",
    "plt.xlabel('Roles')\n",
    "plt.ylabel('Location')\n",
    "plt.legend()\n",
    "plt.show()"
   ]
  },
  {
   "cell_type": "code",
   "execution_count": 344,
   "metadata": {},
   "outputs": [],
   "source": [
    "df['cluster']=y_kmeans"
   ]
  },
  {
   "cell_type": "code",
   "execution_count": 345,
   "metadata": {},
   "outputs": [
    {
     "data": {
      "text/html": [
       "<div>\n",
       "<style scoped>\n",
       "    .dataframe tbody tr th:only-of-type {\n",
       "        vertical-align: middle;\n",
       "    }\n",
       "\n",
       "    .dataframe tbody tr th {\n",
       "        vertical-align: top;\n",
       "    }\n",
       "\n",
       "    .dataframe thead th {\n",
       "        text-align: right;\n",
       "    }\n",
       "</style>\n",
       "<table border=\"1\" class=\"dataframe\">\n",
       "  <thead>\n",
       "    <tr style=\"text-align: right;\">\n",
       "      <th></th>\n",
       "      <th>min_experience</th>\n",
       "      <th>max_experience</th>\n",
       "      <th>Roles</th>\n",
       "      <th>location</th>\n",
       "      <th>Main skill</th>\n",
       "      <th>Other skill</th>\n",
       "      <th>cluster</th>\n",
       "    </tr>\n",
       "  </thead>\n",
       "  <tbody>\n",
       "    <tr>\n",
       "      <th>0</th>\n",
       "      <td>2</td>\n",
       "      <td>7</td>\n",
       "      <td>86</td>\n",
       "      <td>14</td>\n",
       "      <td>Data Science</td>\n",
       "      <td>Artificial Intelligence</td>\n",
       "      <td>1</td>\n",
       "    </tr>\n",
       "    <tr>\n",
       "      <th>1</th>\n",
       "      <td>5</td>\n",
       "      <td>7</td>\n",
       "      <td>86</td>\n",
       "      <td>14</td>\n",
       "      <td>Data Science</td>\n",
       "      <td>Multivariate Analysis</td>\n",
       "      <td>1</td>\n",
       "    </tr>\n",
       "    <tr>\n",
       "      <th>2</th>\n",
       "      <td>3</td>\n",
       "      <td>5</td>\n",
       "      <td>279</td>\n",
       "      <td>29</td>\n",
       "      <td>Azure</td>\n",
       "      <td>timeseries forecasting</td>\n",
       "      <td>0</td>\n",
       "    </tr>\n",
       "    <tr>\n",
       "      <th>3</th>\n",
       "      <td>2</td>\n",
       "      <td>5</td>\n",
       "      <td>87</td>\n",
       "      <td>21</td>\n",
       "      <td>Data Science</td>\n",
       "      <td>R</td>\n",
       "      <td>1</td>\n",
       "    </tr>\n",
       "  </tbody>\n",
       "</table>\n",
       "</div>"
      ],
      "text/plain": [
       "  min_experience max_experience  Roles  location    Main skill  \\\n",
       "0              2              7     86        14  Data Science   \n",
       "1              5              7     86        14  Data Science   \n",
       "2              3              5    279        29         Azure   \n",
       "3              2              5     87        21  Data Science   \n",
       "\n",
       "               Other skill  cluster  \n",
       "0  Artificial Intelligence        1  \n",
       "1    Multivariate Analysis        1  \n",
       "2   timeseries forecasting        0  \n",
       "3                        R        1  "
      ]
     },
     "execution_count": 345,
     "metadata": {},
     "output_type": "execute_result"
    }
   ],
   "source": [
    "df.head(4)"
   ]
  },
  {
   "cell_type": "markdown",
   "metadata": {},
   "source": [
    "y_kmeans"
   ]
  },
  {
   "cell_type": "markdown",
   "metadata": {},
   "source": [
    "# Describing segments"
   ]
  },
  {
   "cell_type": "markdown",
   "metadata": {},
   "source": [
    "# Cluster vs min experience"
   ]
  },
  {
   "cell_type": "code",
   "execution_count": 346,
   "metadata": {},
   "outputs": [
    {
     "data": {
      "text/html": [
       "<div>\n",
       "<style scoped>\n",
       "    .dataframe tbody tr th:only-of-type {\n",
       "        vertical-align: middle;\n",
       "    }\n",
       "\n",
       "    .dataframe tbody tr th {\n",
       "        vertical-align: top;\n",
       "    }\n",
       "\n",
       "    .dataframe thead th {\n",
       "        text-align: right;\n",
       "    }\n",
       "</style>\n",
       "<table border=\"1\" class=\"dataframe\">\n",
       "  <thead>\n",
       "    <tr style=\"text-align: right;\">\n",
       "      <th>min_experience</th>\n",
       "      <th>0</th>\n",
       "      <th>1</th>\n",
       "      <th>10</th>\n",
       "      <th>11</th>\n",
       "      <th>12</th>\n",
       "      <th>13</th>\n",
       "      <th>14</th>\n",
       "      <th>15</th>\n",
       "      <th>17</th>\n",
       "      <th>2</th>\n",
       "      <th>3</th>\n",
       "      <th>4</th>\n",
       "      <th>5</th>\n",
       "      <th>6</th>\n",
       "      <th>7</th>\n",
       "      <th>8</th>\n",
       "      <th>9</th>\n",
       "    </tr>\n",
       "    <tr>\n",
       "      <th>cluster</th>\n",
       "      <th></th>\n",
       "      <th></th>\n",
       "      <th></th>\n",
       "      <th></th>\n",
       "      <th></th>\n",
       "      <th></th>\n",
       "      <th></th>\n",
       "      <th></th>\n",
       "      <th></th>\n",
       "      <th></th>\n",
       "      <th></th>\n",
       "      <th></th>\n",
       "      <th></th>\n",
       "      <th></th>\n",
       "      <th></th>\n",
       "      <th></th>\n",
       "      <th></th>\n",
       "    </tr>\n",
       "  </thead>\n",
       "  <tbody>\n",
       "    <tr>\n",
       "      <th>0</th>\n",
       "      <td>7</td>\n",
       "      <td>11</td>\n",
       "      <td>10</td>\n",
       "      <td>1</td>\n",
       "      <td>0</td>\n",
       "      <td>0</td>\n",
       "      <td>0</td>\n",
       "      <td>0</td>\n",
       "      <td>0</td>\n",
       "      <td>39</td>\n",
       "      <td>33</td>\n",
       "      <td>20</td>\n",
       "      <td>56</td>\n",
       "      <td>19</td>\n",
       "      <td>11</td>\n",
       "      <td>17</td>\n",
       "      <td>1</td>\n",
       "    </tr>\n",
       "    <tr>\n",
       "      <th>1</th>\n",
       "      <td>33</td>\n",
       "      <td>51</td>\n",
       "      <td>7</td>\n",
       "      <td>1</td>\n",
       "      <td>8</td>\n",
       "      <td>0</td>\n",
       "      <td>0</td>\n",
       "      <td>0</td>\n",
       "      <td>2</td>\n",
       "      <td>170</td>\n",
       "      <td>161</td>\n",
       "      <td>59</td>\n",
       "      <td>73</td>\n",
       "      <td>32</td>\n",
       "      <td>14</td>\n",
       "      <td>23</td>\n",
       "      <td>0</td>\n",
       "    </tr>\n",
       "    <tr>\n",
       "      <th>2</th>\n",
       "      <td>7</td>\n",
       "      <td>7</td>\n",
       "      <td>11</td>\n",
       "      <td>0</td>\n",
       "      <td>5</td>\n",
       "      <td>0</td>\n",
       "      <td>1</td>\n",
       "      <td>6</td>\n",
       "      <td>0</td>\n",
       "      <td>34</td>\n",
       "      <td>37</td>\n",
       "      <td>19</td>\n",
       "      <td>45</td>\n",
       "      <td>9</td>\n",
       "      <td>11</td>\n",
       "      <td>11</td>\n",
       "      <td>1</td>\n",
       "    </tr>\n",
       "    <tr>\n",
       "      <th>3</th>\n",
       "      <td>2</td>\n",
       "      <td>16</td>\n",
       "      <td>5</td>\n",
       "      <td>2</td>\n",
       "      <td>1</td>\n",
       "      <td>2</td>\n",
       "      <td>0</td>\n",
       "      <td>0</td>\n",
       "      <td>0</td>\n",
       "      <td>24</td>\n",
       "      <td>29</td>\n",
       "      <td>9</td>\n",
       "      <td>12</td>\n",
       "      <td>1</td>\n",
       "      <td>2</td>\n",
       "      <td>4</td>\n",
       "      <td>1</td>\n",
       "    </tr>\n",
       "    <tr>\n",
       "      <th>4</th>\n",
       "      <td>9</td>\n",
       "      <td>8</td>\n",
       "      <td>4</td>\n",
       "      <td>1</td>\n",
       "      <td>1</td>\n",
       "      <td>1</td>\n",
       "      <td>1</td>\n",
       "      <td>1</td>\n",
       "      <td>0</td>\n",
       "      <td>8</td>\n",
       "      <td>18</td>\n",
       "      <td>14</td>\n",
       "      <td>19</td>\n",
       "      <td>7</td>\n",
       "      <td>9</td>\n",
       "      <td>5</td>\n",
       "      <td>0</td>\n",
       "    </tr>\n",
       "  </tbody>\n",
       "</table>\n",
       "</div>"
      ],
      "text/plain": [
       "min_experience   0   1  10  11  12  13  14  15  17    2    3   4   5   6   7  \\\n",
       "cluster                                                                        \n",
       "0                7  11  10   1   0   0   0   0   0   39   33  20  56  19  11   \n",
       "1               33  51   7   1   8   0   0   0   2  170  161  59  73  32  14   \n",
       "2                7   7  11   0   5   0   1   6   0   34   37  19  45   9  11   \n",
       "3                2  16   5   2   1   2   0   0   0   24   29   9  12   1   2   \n",
       "4                9   8   4   1   1   1   1   1   0    8   18  14  19   7   9   \n",
       "\n",
       "min_experience   8  9  \n",
       "cluster                \n",
       "0               17  1  \n",
       "1               23  0  \n",
       "2               11  1  \n",
       "3                4  1  \n",
       "4                5  0  "
      ]
     },
     "execution_count": 346,
     "metadata": {},
     "output_type": "execute_result"
    }
   ],
   "source": [
    "from statsmodels.graphics.mosaicplot import mosaic\n",
    "from itertools import product\n",
    "crosstab=pd.crosstab(df['cluster'],df['min_experience'])\n",
    "crosstab"
   ]
  },
  {
   "cell_type": "code",
   "execution_count": 347,
   "metadata": {},
   "outputs": [
    {
     "data": {
      "image/png": "[encoded data removed]",
      "text/plain": [
       "<Figure size 504x360 with 3 Axes>"
      ]
     },
     "metadata": {
      "needs_background": "light"
     },
     "output_type": "display_data"
    }
   ],
   "source": [
    "plt.rcParams['figure.figsize']=(7,5)\n",
    "mosaic(crosstab.stack())\n",
    "plt.show()"
   ]
  },
  {
   "cell_type": "code",
   "execution_count": 348,
   "metadata": {},
   "outputs": [
    {
     "data": {
      "text/plain": [
       "<AxesSubplot:xlabel='cluster', ylabel='min_experience'>"
      ]
     },
     "execution_count": 348,
     "metadata": {},
     "output_type": "execute_result"
    },
    {
     "data": {
      "image/png": "[encoded data removed]",
      "text/plain": [
       "<Figure size 504x360 with 1 Axes>"
      ]
     },
     "metadata": {
      "needs_background": "light"
     },
     "output_type": "display_data"
    }
   ],
   "source": [
    "sns.boxplot(x='cluster',y='min_experience',data=df)"
   ]
  },
  {
   "cell_type": "markdown",
   "metadata": {},
   "source": [
    "# cluster vs max_experience"
   ]
  },
  {
   "cell_type": "code",
   "execution_count": 349,
   "metadata": {},
   "outputs": [
    {
     "data": {
      "text/html": [
       "<div>\n",
       "<style scoped>\n",
       "    .dataframe tbody tr th:only-of-type {\n",
       "        vertical-align: middle;\n",
       "    }\n",
       "\n",
       "    .dataframe tbody tr th {\n",
       "        vertical-align: top;\n",
       "    }\n",
       "\n",
       "    .dataframe thead th {\n",
       "        text-align: right;\n",
       "    }\n",
       "</style>\n",
       "<table border=\"1\" class=\"dataframe\">\n",
       "  <thead>\n",
       "    <tr style=\"text-align: right;\">\n",
       "      <th>max_experience</th>\n",
       "      <th>0</th>\n",
       "      <th>1</th>\n",
       "      <th>10</th>\n",
       "      <th>11</th>\n",
       "      <th>12</th>\n",
       "      <th>13</th>\n",
       "      <th>14</th>\n",
       "      <th>15</th>\n",
       "      <th>16</th>\n",
       "      <th>17</th>\n",
       "      <th>...</th>\n",
       "      <th>23</th>\n",
       "      <th>24</th>\n",
       "      <th>25</th>\n",
       "      <th>3</th>\n",
       "      <th>4</th>\n",
       "      <th>5</th>\n",
       "      <th>6</th>\n",
       "      <th>7</th>\n",
       "      <th>8</th>\n",
       "      <th>9</th>\n",
       "    </tr>\n",
       "    <tr>\n",
       "      <th>cluster</th>\n",
       "      <th></th>\n",
       "      <th></th>\n",
       "      <th></th>\n",
       "      <th></th>\n",
       "      <th></th>\n",
       "      <th></th>\n",
       "      <th></th>\n",
       "      <th></th>\n",
       "      <th></th>\n",
       "      <th></th>\n",
       "      <th></th>\n",
       "      <th></th>\n",
       "      <th></th>\n",
       "      <th></th>\n",
       "      <th></th>\n",
       "      <th></th>\n",
       "      <th></th>\n",
       "      <th></th>\n",
       "      <th></th>\n",
       "      <th></th>\n",
       "      <th></th>\n",
       "    </tr>\n",
       "  </thead>\n",
       "  <tbody>\n",
       "    <tr>\n",
       "      <th>0</th>\n",
       "      <td>1</td>\n",
       "      <td>4</td>\n",
       "      <td>41</td>\n",
       "      <td>11</td>\n",
       "      <td>15</td>\n",
       "      <td>6</td>\n",
       "      <td>1</td>\n",
       "      <td>8</td>\n",
       "      <td>0</td>\n",
       "      <td>1</td>\n",
       "      <td>...</td>\n",
       "      <td>0</td>\n",
       "      <td>0</td>\n",
       "      <td>0</td>\n",
       "      <td>1</td>\n",
       "      <td>15</td>\n",
       "      <td>27</td>\n",
       "      <td>16</td>\n",
       "      <td>25</td>\n",
       "      <td>23</td>\n",
       "      <td>28</td>\n",
       "    </tr>\n",
       "    <tr>\n",
       "      <th>1</th>\n",
       "      <td>2</td>\n",
       "      <td>10</td>\n",
       "      <td>63</td>\n",
       "      <td>19</td>\n",
       "      <td>13</td>\n",
       "      <td>13</td>\n",
       "      <td>0</td>\n",
       "      <td>9</td>\n",
       "      <td>3</td>\n",
       "      <td>2</td>\n",
       "      <td>...</td>\n",
       "      <td>2</td>\n",
       "      <td>0</td>\n",
       "      <td>0</td>\n",
       "      <td>24</td>\n",
       "      <td>38</td>\n",
       "      <td>131</td>\n",
       "      <td>86</td>\n",
       "      <td>94</td>\n",
       "      <td>83</td>\n",
       "      <td>32</td>\n",
       "    </tr>\n",
       "    <tr>\n",
       "      <th>2</th>\n",
       "      <td>1</td>\n",
       "      <td>3</td>\n",
       "      <td>25</td>\n",
       "      <td>4</td>\n",
       "      <td>13</td>\n",
       "      <td>7</td>\n",
       "      <td>1</td>\n",
       "      <td>3</td>\n",
       "      <td>3</td>\n",
       "      <td>2</td>\n",
       "      <td>...</td>\n",
       "      <td>0</td>\n",
       "      <td>2</td>\n",
       "      <td>0</td>\n",
       "      <td>3</td>\n",
       "      <td>4</td>\n",
       "      <td>17</td>\n",
       "      <td>12</td>\n",
       "      <td>30</td>\n",
       "      <td>47</td>\n",
       "      <td>15</td>\n",
       "    </tr>\n",
       "    <tr>\n",
       "      <th>3</th>\n",
       "      <td>0</td>\n",
       "      <td>0</td>\n",
       "      <td>9</td>\n",
       "      <td>0</td>\n",
       "      <td>6</td>\n",
       "      <td>0</td>\n",
       "      <td>2</td>\n",
       "      <td>5</td>\n",
       "      <td>0</td>\n",
       "      <td>0</td>\n",
       "      <td>...</td>\n",
       "      <td>2</td>\n",
       "      <td>0</td>\n",
       "      <td>0</td>\n",
       "      <td>8</td>\n",
       "      <td>11</td>\n",
       "      <td>11</td>\n",
       "      <td>16</td>\n",
       "      <td>11</td>\n",
       "      <td>14</td>\n",
       "      <td>6</td>\n",
       "    </tr>\n",
       "    <tr>\n",
       "      <th>4</th>\n",
       "      <td>3</td>\n",
       "      <td>4</td>\n",
       "      <td>14</td>\n",
       "      <td>4</td>\n",
       "      <td>8</td>\n",
       "      <td>2</td>\n",
       "      <td>0</td>\n",
       "      <td>4</td>\n",
       "      <td>1</td>\n",
       "      <td>0</td>\n",
       "      <td>...</td>\n",
       "      <td>0</td>\n",
       "      <td>0</td>\n",
       "      <td>1</td>\n",
       "      <td>2</td>\n",
       "      <td>0</td>\n",
       "      <td>11</td>\n",
       "      <td>10</td>\n",
       "      <td>9</td>\n",
       "      <td>20</td>\n",
       "      <td>9</td>\n",
       "    </tr>\n",
       "  </tbody>\n",
       "</table>\n",
       "<p>5 rows × 24 columns</p>\n",
       "</div>"
      ],
      "text/plain": [
       "max_experience  0   1  10  11  12  13  14  15  16  17  ...  23  24  25   3  \\\n",
       "cluster                                                ...                   \n",
       "0               1   4  41  11  15   6   1   8   0   1  ...   0   0   0   1   \n",
       "1               2  10  63  19  13  13   0   9   3   2  ...   2   0   0  24   \n",
       "2               1   3  25   4  13   7   1   3   3   2  ...   0   2   0   3   \n",
       "3               0   0   9   0   6   0   2   5   0   0  ...   2   0   0   8   \n",
       "4               3   4  14   4   8   2   0   4   1   0  ...   0   0   1   2   \n",
       "\n",
       "max_experience   4    5   6   7   8   9  \n",
       "cluster                                  \n",
       "0               15   27  16  25  23  28  \n",
       "1               38  131  86  94  83  32  \n",
       "2                4   17  12  30  47  15  \n",
       "3               11   11  16  11  14   6  \n",
       "4                0   11  10   9  20   9  \n",
       "\n",
       "[5 rows x 24 columns]"
      ]
     },
     "execution_count": 349,
     "metadata": {},
     "output_type": "execute_result"
    }
   ],
   "source": [
    "from statsmodels.graphics.mosaicplot import mosaic\n",
    "from itertools import product\n",
    "crosstab1=pd.crosstab(df['cluster'],df['max_experience'])\n",
    "crosstab1"
   ]
  },
  {
   "cell_type": "code",
   "execution_count": 350,
   "metadata": {},
   "outputs": [
    {
     "data": {
      "image/png": "[encoded data removed]",
      "text/plain": [
       "<Figure size 504x360 with 3 Axes>"
      ]
     },
     "metadata": {
      "needs_background": "light"
     },
     "output_type": "display_data"
    }
   ],
   "source": [
    "plt.rcParams['figure.figsize']=(7,5)\n",
    "mosaic(crosstab1.stack())\n",
    "plt.show()"
   ]
  },
  {
   "cell_type": "code",
   "execution_count": 351,
   "metadata": {},
   "outputs": [
    {
     "data": {
      "text/plain": [
       "<AxesSubplot:xlabel='cluster', ylabel='max_experience'>"
      ]
     },
     "execution_count": 351,
     "metadata": {},
     "output_type": "execute_result"
    },
    {
     "data": {
      "image/png": "[encoded data removed]",
      "text/plain": [
       "<Figure size 504x360 with 1 Axes>"
      ]
     },
     "metadata": {
      "needs_background": "light"
     },
     "output_type": "display_data"
    }
   ],
   "source": [
    "sns.boxplot(x='cluster',y='max_experience',data=df)"
   ]
  },
  {
   "cell_type": "code",
   "execution_count": 352,
   "metadata": {},
   "outputs": [
    {
     "name": "stdout",
     "output_type": "stream",
     "text": [
      "0       Artificial Intelligence\n",
      "1         Multivariate Analysis\n",
      "2        timeseries forecasting\n",
      "3                             R\n",
      "4                   A/B Testing\n",
      "                 ...           \n",
      "1277              deep learning\n",
      "1278     Operational excellence\n",
      "1279     Operational excellence\n",
      "1280                    Pyspark\n",
      "1281                      spark\n",
      "Name: Other skill, Length: 1279, dtype: object\n"
     ]
    }
   ],
   "source": [
    "print(df['Other skill'])"
   ]
  },
  {
   "cell_type": "code",
   "execution_count": 353,
   "metadata": {},
   "outputs": [
    {
     "data": {
      "text/plain": [
       "318"
      ]
     },
     "execution_count": 353,
     "metadata": {},
     "output_type": "execute_result"
    }
   ],
   "source": [
    "df['Other skill'].nunique()"
   ]
  }
 ],
 "metadata": {
  "kernelspec": {
   "display_name": "Python 3",
   "language": "python",
   "name": "python3"
  },
  "language_info": {
   "codemirror_mode": {
    "name": "ipython",
    "version": 3
   },
   "file_extension": ".py",
   "mimetype": "text/x-python",
   "name": "python",
   "nbconvert_exporter": "python",
   "pygments_lexer": "ipython3",
   "version": "3.8.5"
  }
 },
 "nbformat": 4,
 "nbformat_minor": 4
}
